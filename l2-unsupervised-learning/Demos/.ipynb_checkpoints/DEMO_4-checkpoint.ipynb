{
 "cells": [
  {
   "cell_type": "markdown",
   "id": "0262bc41-f8dc-4150-8b16-f437a909b75e",
   "metadata": {},
   "source": [
    "# DEMO 4\n",
    "\n",
    "PCA applied to Stock Market Data"
   ]
  },
  {
   "cell_type": "code",
   "execution_count": 2,
   "id": "37603b55-d158-4f32-9c8e-1df386f46eb1",
   "metadata": {},
   "outputs": [],
   "source": [
    "import sys\n",
    "import os\n",
    "# Manually set the path relative to the py file's location that you want to import\n",
    "func_lib_path = os.path.abspath(os.path.join(os.getcwd(), '../../'))# Add the path to sys.path\n",
    "\n",
    "# Add the path to sys.path\n",
    "sys.path.append(func_lib_path)\n",
    "\n",
    "# Now you can import func_lib\n",
    "import func_lib\n",
    "import pandas as pd\n",
    "import matplotlib.pyplot as plt\n",
    "import numpy as np\n",
    "from sklearn.preprocessing import StandardScaler\n",
    "from sklearn.decomposition import PCA"
   ]
  },
  {
   "cell_type": "code",
   "execution_count": null,
   "id": "c8cf4d31-29fe-4f83-b8c6-960929f123d2",
   "metadata": {},
   "outputs": [],
   "source": [
    "historical_prices = func_lib.createHistPrices()\n",
    "list_of_momentums = [1, 2, 3, 29, 30, 31, 59, 60, 61]\n",
    "total_returns     = func_lib.computingReturns(historical_prices, list_of_momentums)\n",
    "total_returns.drop(columns={'F_1_d_returns'}, inplace=True)\n",
    "total_returns.dropna(inplace=True)"
   ]
  },
  {
   "cell_type": "code",
   "execution_count": 19,
   "id": "f3a61d0d-39c6-4832-bb1e-f7bffccc919d",
   "metadata": {},
   "outputs": [
    {
     "data": {
      "text/html": [
       "<div>\n",
       "<style scoped>\n",
       "    .dataframe tbody tr th:only-of-type {\n",
       "        vertical-align: middle;\n",
       "    }\n",
       "\n",
       "    .dataframe tbody tr th {\n",
       "        vertical-align: top;\n",
       "    }\n",
       "\n",
       "    .dataframe thead th {\n",
       "        text-align: right;\n",
       "    }\n",
       "</style>\n",
       "<table border=\"1\" class=\"dataframe\">\n",
       "  <thead>\n",
       "    <tr style=\"text-align: right;\">\n",
       "      <th></th>\n",
       "      <th></th>\n",
       "      <th>1_d_returns</th>\n",
       "      <th>2_d_returns</th>\n",
       "      <th>3_d_returns</th>\n",
       "      <th>29_d_returns</th>\n",
       "      <th>30_d_returns</th>\n",
       "      <th>31_d_returns</th>\n",
       "      <th>59_d_returns</th>\n",
       "      <th>60_d_returns</th>\n",
       "      <th>61_d_returns</th>\n",
       "    </tr>\n",
       "    <tr>\n",
       "      <th>Ticker</th>\n",
       "      <th>Date</th>\n",
       "      <th></th>\n",
       "      <th></th>\n",
       "      <th></th>\n",
       "      <th></th>\n",
       "      <th></th>\n",
       "      <th></th>\n",
       "      <th></th>\n",
       "      <th></th>\n",
       "      <th></th>\n",
       "    </tr>\n",
       "  </thead>\n",
       "  <tbody>\n",
       "    <tr>\n",
       "      <th rowspan=\"5\" valign=\"top\">A</th>\n",
       "      <th>2000-03-30</th>\n",
       "      <td>-0.062500</td>\n",
       "      <td>-0.118573</td>\n",
       "      <td>-0.080963</td>\n",
       "      <td>0.082474</td>\n",
       "      <td>0.296296</td>\n",
       "      <td>0.282442</td>\n",
       "      <td>0.683366</td>\n",
       "      <td>0.578947</td>\n",
       "      <td>0.458333</td>\n",
       "    </tr>\n",
       "    <tr>\n",
       "      <th>2000-03-31</th>\n",
       "      <td>-0.009524</td>\n",
       "      <td>-0.071428</td>\n",
       "      <td>-0.126967</td>\n",
       "      <td>0.109333</td>\n",
       "      <td>0.072165</td>\n",
       "      <td>0.283951</td>\n",
       "      <td>0.733334</td>\n",
       "      <td>0.667334</td>\n",
       "      <td>0.563910</td>\n",
       "    </tr>\n",
       "    <tr>\n",
       "      <th>2000-04-03</th>\n",
       "      <td>-0.057692</td>\n",
       "      <td>-0.066667</td>\n",
       "      <td>-0.125000</td>\n",
       "      <td>0.071038</td>\n",
       "      <td>0.045333</td>\n",
       "      <td>0.010310</td>\n",
       "      <td>0.507692</td>\n",
       "      <td>0.633334</td>\n",
       "      <td>0.571142</td>\n",
       "    </tr>\n",
       "    <tr>\n",
       "      <th>2000-04-04</th>\n",
       "      <td>-0.045919</td>\n",
       "      <td>-0.100962</td>\n",
       "      <td>-0.109524</td>\n",
       "      <td>-0.055556</td>\n",
       "      <td>0.021858</td>\n",
       "      <td>-0.002667</td>\n",
       "      <td>0.356301</td>\n",
       "      <td>0.438461</td>\n",
       "      <td>0.558333</td>\n",
       "    </tr>\n",
       "    <tr>\n",
       "      <th>2000-04-05</th>\n",
       "      <td>0.036765</td>\n",
       "      <td>-0.010842</td>\n",
       "      <td>-0.067909</td>\n",
       "      <td>-0.091921</td>\n",
       "      <td>-0.020834</td>\n",
       "      <td>0.059426</td>\n",
       "      <td>0.425551</td>\n",
       "      <td>0.406165</td>\n",
       "      <td>0.491346</td>\n",
       "    </tr>\n",
       "  </tbody>\n",
       "</table>\n",
       "</div>"
      ],
      "text/plain": [
       "                   1_d_returns  2_d_returns  3_d_returns  29_d_returns  \\\n",
       "Ticker Date                                                              \n",
       "A      2000-03-30    -0.062500    -0.118573    -0.080963      0.082474   \n",
       "       2000-03-31    -0.009524    -0.071428    -0.126967      0.109333   \n",
       "       2000-04-03    -0.057692    -0.066667    -0.125000      0.071038   \n",
       "       2000-04-04    -0.045919    -0.100962    -0.109524     -0.055556   \n",
       "       2000-04-05     0.036765    -0.010842    -0.067909     -0.091921   \n",
       "\n",
       "                   30_d_returns  31_d_returns  59_d_returns  60_d_returns  \\\n",
       "Ticker Date                                                                 \n",
       "A      2000-03-30      0.296296      0.282442      0.683366      0.578947   \n",
       "       2000-03-31      0.072165      0.283951      0.733334      0.667334   \n",
       "       2000-04-03      0.045333      0.010310      0.507692      0.633334   \n",
       "       2000-04-04      0.021858     -0.002667      0.356301      0.438461   \n",
       "       2000-04-05     -0.020834      0.059426      0.425551      0.406165   \n",
       "\n",
       "                   61_d_returns  \n",
       "Ticker Date                      \n",
       "A      2000-03-30      0.458333  \n",
       "       2000-03-31      0.563910  \n",
       "       2000-04-03      0.571142  \n",
       "       2000-04-04      0.558333  \n",
       "       2000-04-05      0.491346  "
      ]
     },
     "execution_count": 19,
     "metadata": {},
     "output_type": "execute_result"
    }
   ],
   "source": [
    "total_returns.head()"
   ]
  },
  {
   "cell_type": "code",
   "execution_count": 20,
   "id": "fe113a5f-c3c3-49d4-971e-cfd65edf09a5",
   "metadata": {},
   "outputs": [],
   "source": [
    "# Standardize the features\n",
    "scaler = StandardScaler()\n",
    "X_scaled = scaler.fit_transform(total_returns)"
   ]
  },
  {
   "cell_type": "code",
   "execution_count": 22,
   "id": "ba91591e-6dbe-4462-ba18-2763758a1beb",
   "metadata": {},
   "outputs": [],
   "source": [
    "# Initialize PCA\n",
    "pca = PCA()\n",
    "# Fit PCA to the standardized data\n",
    "pca.fit(X_scaled)\n",
    "# Transform the data to principal components\n",
    "X_pca = pca.transform(X_scaled)"
   ]
  },
  {
   "cell_type": "code",
   "execution_count": 23,
   "id": "79fe194c-b18c-447e-a78d-be0a6056ea3b",
   "metadata": {},
   "outputs": [
    {
     "data": {
      "image/png": "[encoded data removed]",
      "text/plain": [
       "<Figure size 1000x600 with 1 Axes>"
      ]
     },
     "metadata": {},
     "output_type": "display_data"
    }
   ],
   "source": [
    "# Explained variance ratio for each principal component\n",
    "explained_variance_ratio = pca.explained_variance_ratio_\n",
    "\n",
    "# Cumulative explained variance\n",
    "cumulative_explained_variance = np.cumsum(explained_variance_ratio)\n",
    "\n",
    "# Plot cumulative explained variance\n",
    "plt.figure(figsize=(10, 6))\n",
    "plt.plot(range(1, len(cumulative_explained_variance) + 1), cumulative_explained_variance, marker='o', linestyle='--')\n",
    "plt.xlabel('Number of Principal Components')\n",
    "plt.ylabel('Cumulative Explained Variance')\n",
    "plt.title('Cumulative Explained Variance by Principal Components')\n",
    "plt.grid(True)\n",
    "plt.show()"
   ]
  },
  {
   "cell_type": "code",
   "execution_count": 24,
   "id": "e71611e6-cd75-4338-a6cd-fd11dabf49b9",
   "metadata": {},
   "outputs": [
    {
     "name": "stdout",
     "output_type": "stream",
     "text": [
      "3\n"
     ]
    }
   ],
   "source": [
    "# Select number of components that explain 90% variance\n",
    "n_components = np.argmax(cumulative_explained_variance >= 0.90) + 1\n",
    "print(n_components)"
   ]
  },
  {
   "cell_type": "code",
   "execution_count": 25,
   "id": "1aa26c81-e930-4bc5-b003-7c8dd8b9fbea",
   "metadata": {},
   "outputs": [],
   "source": [
    "# Apply PCA with the selected number of components\n",
    "pca = PCA(n_components=n_components)\n",
    "X_pca = pca.fit_transform(X_scaled)"
   ]
  },
  {
   "cell_type": "code",
   "execution_count": 26,
   "id": "e20712c1-5055-4bcb-8a2c-01baee828b5c",
   "metadata": {},
   "outputs": [
    {
     "name": "stdout",
     "output_type": "stream",
     "text": [
      "                   PC1       PC2       PC3\n",
      "1_d_returns   0.133588  0.529824 -0.125951\n",
      "2_d_returns   0.171252  0.579465 -0.087760\n",
      "3_d_returns   0.188654  0.530649 -0.034944\n",
      "29_d_returns  0.391800 -0.048638  0.426830\n",
      "30_d_returns  0.395914 -0.056068  0.420983\n",
      "31_d_returns  0.396728 -0.063054  0.397994\n",
      "59_d_returns  0.388660 -0.174824 -0.379612\n",
      "60_d_returns  0.387706 -0.176128 -0.393599\n",
      "61_d_returns  0.384988 -0.175639 -0.397968\n"
     ]
    }
   ],
   "source": [
    "# Get the loadings of the principal components\n",
    "loadings = pca.components_\n",
    "\n",
    "# Create a dataframe of the loadings\n",
    "loadings_df = pd.DataFrame(loadings.T, index=features, columns=[f'PC{i+1}' for i in range(n_components)])\n",
    "\n",
    "# Display the loadings\n",
    "print(loadings_df)"
   ]
  },
  {
   "cell_type": "code",
   "execution_count": null,
   "id": "e4be30bb-c19e-40b7-ad18-e10bdffcaa63",
   "metadata": {},
   "outputs": [],
   "source": []
  }
 ],
 "metadata": {
  "kernelspec": {
   "display_name": "Python 3 (ipykernel)",
   "language": "python",
   "name": "python3"
  },
  "language_info": {
   "codemirror_mode": {
    "name": "ipython",
    "version": 3
   },
   "file_extension": ".py",
   "mimetype": "text/x-python",
   "name": "python",
   "nbconvert_exporter": "python",
   "pygments_lexer": "ipython3",
   "version": "3.12.4"
  }
 },
 "nbformat": 4,
 "nbformat_minor": 5
}
