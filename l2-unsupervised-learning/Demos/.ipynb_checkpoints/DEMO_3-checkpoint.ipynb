{
 "cells": [
  {
   "cell_type": "markdown",
   "id": "0262bc41-f8dc-4150-8b16-f437a909b75e",
   "metadata": {},
   "source": [
    "# DEMO 3\n",
    "\n",
    "K-means applied to Stock Market Data"
   ]
  },
  {
   "cell_type": "code",
   "execution_count": 1,
   "id": "37603b55-d158-4f32-9c8e-1df386f46eb1",
   "metadata": {},
   "outputs": [],
   "source": [
    "import sys\n",
    "import os\n",
    "# Manually set the path relative to the py file's location that you want to import\n",
    "func_lib_path = os.path.abspath(os.path.join(os.getcwd(), '../../'))# Add the path to sys.path\n",
    "\n",
    "# Add the path to sys.path\n",
    "sys.path.append(func_lib_path)\n",
    "\n",
    "# Now you can import func_lib\n",
    "import func_lib\n",
    "import pandas as pd\n",
    "import matplotlib.pyplot as plt\n",
    "import numpy as np\n",
    "from sklearn.preprocessing import StandardScaler\n",
    "from sklearn.cluster import KMeans"
   ]
  },
  {
   "cell_type": "code",
   "execution_count": null,
   "id": "c8cf4d31-29fe-4f83-b8c6-960929f123d2",
   "metadata": {},
   "outputs": [
    {
     "name": "stderr",
     "output_type": "stream",
     "text": [
      "[**                     4%%                      ]  19 of 501 completed"
     ]
    }
   ],
   "source": [
    "historical_prices = func_lib.createHistPrices()\n",
    "list_of_momentums = []\n",
    "total_returns     = func_lib.computingReturns(historical_prices, list_of_momentums)\n",
    "total_returns.dropna(inplace=True)"
   ]
  },
  {
   "cell_type": "code",
   "execution_count": null,
   "id": "1e7374f3-785f-436e-a606-46cc4813f6be",
   "metadata": {},
   "outputs": [],
   "source": [
    "total_returns.head()"
   ]
  },
  {
   "cell_type": "code",
   "execution_count": null,
   "id": "40ca50f8-da99-458c-97b0-b678e54a8442",
   "metadata": {},
   "outputs": [],
   "source": [
    "# Group by Ticker and calculate average return and standard deviation\n",
    "ticker_stats = total_returns.groupby('Ticker')['F_1_d_returns'].agg(['mean', 'std'])\n",
    "ticker_stats.head()"
   ]
  },
  {
   "cell_type": "code",
   "execution_count": null,
   "id": "83a7ec0e-57ff-4aac-bd6a-16d241d64e30",
   "metadata": {},
   "outputs": [],
   "source": [
    "# Standardize the data\n",
    "scaler = StandardScaler()\n",
    "ticker_stats_scaled = scaler.fit_transform(ticker_stats[['mean', 'std']])"
   ]
  },
  {
   "cell_type": "code",
   "execution_count": null,
   "id": "89d9bd0e-7434-46f9-9df8-cd0b8b69dafa",
   "metadata": {},
   "outputs": [],
   "source": [
    "# Initialize list to store inertias\n",
    "sse = []\n",
    "k_range = range(1, 11)\n",
    "\n",
    "# Test different numbers of clusters\n",
    "for k in k_range:    \n",
    "    kmeans = KMeans(n_clusters=k, random_state=42, n_init=10)\n",
    "    kmeans.fit(ticker_stats_scaled)\n",
    "    sse.append(kmeans.inertia_)\n",
    "\n",
    "# Plot the elbow method\n",
    "plt.figure(figsize=(10, 6))\n",
    "plt.plot(range(1, 11), sse, marker='o')\n",
    "plt.title('Elbow Method')\n",
    "plt.xlabel('Number of Clusters')\n",
    "plt.ylabel('Inertia')\n",
    "plt.xticks(range(1, 11))\n",
    "plt.grid(True)\n",
    "plt.show()"
   ]
  },
  {
   "cell_type": "code",
   "execution_count": null,
   "id": "bb1d13a4-dd59-46c6-90e0-7acec8312f8e",
   "metadata": {},
   "outputs": [],
   "source": [
    "# Determine the optimal number of clusters using the elbow method\n",
    "func_lib.plot_optimal_cluster_point(sse, k_range)"
   ]
  },
  {
   "cell_type": "code",
   "execution_count": null,
   "id": "136b36bb-65d9-432a-856c-7f43bf01f9a6",
   "metadata": {},
   "outputs": [],
   "source": [
    "# Number of clusters \n",
    "k = 3\n",
    "\n",
    "# Perform K-Means clustering\n",
    "kmeans = KMeans(n_clusters=k, random_state=42)\n",
    "clusters = kmeans.fit_predict(ticker_stats_scaled)\n",
    "\n",
    "# Add cluster labels to the original DataFrame\n",
    "ticker_stats_scaled['Cluster'] = clusters\n",
    "ticker_stats_scaled.head()"
   ]
  },
  {
   "cell_type": "code",
   "execution_count": null,
   "id": "1aabbb1c-a203-4340-9db7-c377487c4253",
   "metadata": {},
   "outputs": [],
   "source": [
    "# Visualize the clusters\n",
    "# (You may need to adjust this based on your visualization preferences)\n",
    "plt.figure(figsize=(10, 6))\n",
    "for cluster in range(k):\n",
    "    plt.scatter(ticker_stats[ticker_stats_scaled['Cluster'] == cluster]['std'],\n",
    "                ticker_stats[ticker_stats_scaled['Cluster'] == cluster]['mean'],\n",
    "                label=f'Cluster {cluster}', s=1)\n",
    "plt.title('K-Means Clustering of Tickers based on Average Return and Standard Deviation')\n",
    "plt.xlabel('Standard Deviation')\n",
    "plt.ylabel('Average Return')\n",
    "plt.legend()\n",
    "plt.grid(True)\n",
    "plt.show()"
   ]
  },
  {
   "cell_type": "code",
   "execution_count": null,
   "id": "7351fb88-d778-493b-a9e4-8d0cc01c9c82",
   "metadata": {},
   "outputs": [],
   "source": []
  }
 ],
 "metadata": {
  "kernelspec": {
   "display_name": "Python 3 (ipykernel)",
   "language": "python",
   "name": "python3"
  },
  "language_info": {
   "codemirror_mode": {
    "name": "ipython",
    "version": 3
   },
   "file_extension": ".py",
   "mimetype": "text/x-python",
   "name": "python",
   "nbconvert_exporter": "python",
   "pygments_lexer": "ipython3",
   "version": "3.12.3"
  }
 },
 "nbformat": 4,
 "nbformat_minor": 5
}
