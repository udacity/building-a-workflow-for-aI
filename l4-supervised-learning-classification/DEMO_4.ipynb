{
 "cells": [
  {
   "cell_type": "markdown",
   "id": "0262bc41-f8dc-4150-8b16-f437a909b75e",
   "metadata": {},
   "source": [
    "# DEMO 4\n",
    "\n",
    "Cross Validation with Decision Trees\n"
   ]
  },
  {
   "cell_type": "code",
   "execution_count": 10,
   "id": "ebe82aee-c62f-44be-b9a1-c92b93578830",
   "metadata": {
    "scrolled": true
   },
   "outputs": [],
   "source": [
    "import sys\n",
    "import os\n",
    "\n",
    "# Manually set the path relative to the py file's location that you want to import\n",
    "func_lib_path = os.path.abspath(os.path.join(os.getcwd(), '../'))# Add the path to sys.path\n",
    "sys.path.append(func_lib_path)\n",
    "\n",
    "# Now you can import func_lib\n",
    "import func_lib\n",
    "import pandas as pd\n",
    "import matplotlib.pyplot as plt\n",
    "import numpy as np\n",
    "from sklearn.preprocessing import StandardScaler\n",
    "from sklearn.tree import DecisionTreeClassifier\n",
    "from sklearn.model_selection import GridSearchCV"
   ]
  },
  {
   "cell_type": "code",
   "execution_count": null,
   "id": "fe34aaa4-84a1-4a95-b918-e619148dac1f",
   "metadata": {},
   "outputs": [],
   "source": [
    "historical_prices = func_lib.createHistPrices()\n",
    "list_of_momentums = [1, 5, 15, 20]\n",
    "total_returns     = func_lib.computingReturns(historical_prices, list_of_momentums)\n",
    "total_returns.dropna(inplace=True)"
   ]
  },
  {
   "cell_type": "code",
   "execution_count": 3,
   "id": "2546703d-41d9-4ad6-bc28-c0852a2f311c",
   "metadata": {},
   "outputs": [
    {
     "data": {
      "text/html": [
       "<div>\n",
       "<style scoped>\n",
       "    .dataframe tbody tr th:only-of-type {\n",
       "        vertical-align: middle;\n",
       "    }\n",
       "\n",
       "    .dataframe tbody tr th {\n",
       "        vertical-align: top;\n",
       "    }\n",
       "\n",
       "    .dataframe thead th {\n",
       "        text-align: right;\n",
       "    }\n",
       "</style>\n",
       "<table border=\"1\" class=\"dataframe\">\n",
       "  <thead>\n",
       "    <tr style=\"text-align: right;\">\n",
       "      <th></th>\n",
       "      <th></th>\n",
       "      <th>F_1_d_returns</th>\n",
       "      <th>1_d_returns</th>\n",
       "      <th>5_d_returns</th>\n",
       "      <th>15_d_returns</th>\n",
       "      <th>20_d_returns</th>\n",
       "    </tr>\n",
       "    <tr>\n",
       "      <th>Ticker</th>\n",
       "      <th>Date</th>\n",
       "      <th></th>\n",
       "      <th></th>\n",
       "      <th></th>\n",
       "      <th></th>\n",
       "      <th></th>\n",
       "    </tr>\n",
       "  </thead>\n",
       "  <tbody>\n",
       "    <tr>\n",
       "      <th rowspan=\"5\" valign=\"top\">A</th>\n",
       "      <th>2000-02-01</th>\n",
       "      <td>0.077465</td>\n",
       "      <td>0.072710</td>\n",
       "      <td>0.048938</td>\n",
       "      <td>0.029918</td>\n",
       "      <td>-0.013889</td>\n",
       "    </tr>\n",
       "    <tr>\n",
       "      <th>2000-02-02</th>\n",
       "      <td>0.016340</td>\n",
       "      <td>0.077465</td>\n",
       "      <td>0.119854</td>\n",
       "      <td>0.125000</td>\n",
       "      <td>0.150376</td>\n",
       "    </tr>\n",
       "    <tr>\n",
       "      <th>2000-02-03</th>\n",
       "      <td>-0.019293</td>\n",
       "      <td>0.016340</td>\n",
       "      <td>0.136073</td>\n",
       "      <td>0.166979</td>\n",
       "      <td>0.246493</td>\n",
       "    </tr>\n",
       "    <tr>\n",
       "      <th>2000-02-04</th>\n",
       "      <td>0.042623</td>\n",
       "      <td>-0.019293</td>\n",
       "      <td>0.120294</td>\n",
       "      <td>0.127542</td>\n",
       "      <td>0.270834</td>\n",
       "    </tr>\n",
       "    <tr>\n",
       "      <th>2000-02-07</th>\n",
       "      <td>-0.006289</td>\n",
       "      <td>0.042623</td>\n",
       "      <td>0.201133</td>\n",
       "      <td>0.162706</td>\n",
       "      <td>0.223077</td>\n",
       "    </tr>\n",
       "  </tbody>\n",
       "</table>\n",
       "</div>"
      ],
      "text/plain": [
       "                   F_1_d_returns  1_d_returns  5_d_returns  15_d_returns  \\\n",
       "Ticker Date                                                                \n",
       "A      2000-02-01       0.077465     0.072710     0.048938      0.029918   \n",
       "       2000-02-02       0.016340     0.077465     0.119854      0.125000   \n",
       "       2000-02-03      -0.019293     0.016340     0.136073      0.166979   \n",
       "       2000-02-04       0.042623    -0.019293     0.120294      0.127542   \n",
       "       2000-02-07      -0.006289     0.042623     0.201133      0.162706   \n",
       "\n",
       "                   20_d_returns  \n",
       "Ticker Date                      \n",
       "A      2000-02-01     -0.013889  \n",
       "       2000-02-02      0.150376  \n",
       "       2000-02-03      0.246493  \n",
       "       2000-02-04      0.270834  \n",
       "       2000-02-07      0.223077  "
      ]
     },
     "execution_count": 3,
     "metadata": {},
     "output_type": "execute_result"
    }
   ],
   "source": [
    "total_returns.head()"
   ]
  },
  {
   "cell_type": "code",
   "execution_count": 4,
   "id": "aaecf585-8602-4213-a1d2-0352b418ef09",
   "metadata": {},
   "outputs": [
    {
     "data": {
      "text/html": [
       "<div>\n",
       "<style scoped>\n",
       "    .dataframe tbody tr th:only-of-type {\n",
       "        vertical-align: middle;\n",
       "    }\n",
       "\n",
       "    .dataframe tbody tr th {\n",
       "        vertical-align: top;\n",
       "    }\n",
       "\n",
       "    .dataframe thead th {\n",
       "        text-align: right;\n",
       "    }\n",
       "</style>\n",
       "<table border=\"1\" class=\"dataframe\">\n",
       "  <thead>\n",
       "    <tr style=\"text-align: right;\">\n",
       "      <th></th>\n",
       "      <th></th>\n",
       "      <th>F_1_d_returns</th>\n",
       "      <th>1_d_returns</th>\n",
       "      <th>5_d_returns</th>\n",
       "      <th>15_d_returns</th>\n",
       "      <th>20_d_returns</th>\n",
       "      <th>F_1_d_returns_Ind</th>\n",
       "    </tr>\n",
       "    <tr>\n",
       "      <th>Ticker</th>\n",
       "      <th>Date</th>\n",
       "      <th></th>\n",
       "      <th></th>\n",
       "      <th></th>\n",
       "      <th></th>\n",
       "      <th></th>\n",
       "      <th></th>\n",
       "    </tr>\n",
       "  </thead>\n",
       "  <tbody>\n",
       "    <tr>\n",
       "      <th rowspan=\"5\" valign=\"top\">A</th>\n",
       "      <th>2000-02-01</th>\n",
       "      <td>0.077465</td>\n",
       "      <td>0.072710</td>\n",
       "      <td>0.048938</td>\n",
       "      <td>0.029918</td>\n",
       "      <td>-0.013889</td>\n",
       "      <td>1</td>\n",
       "    </tr>\n",
       "    <tr>\n",
       "      <th>2000-02-02</th>\n",
       "      <td>0.016340</td>\n",
       "      <td>0.077465</td>\n",
       "      <td>0.119854</td>\n",
       "      <td>0.125000</td>\n",
       "      <td>0.150376</td>\n",
       "      <td>1</td>\n",
       "    </tr>\n",
       "    <tr>\n",
       "      <th>2000-02-03</th>\n",
       "      <td>-0.019293</td>\n",
       "      <td>0.016340</td>\n",
       "      <td>0.136073</td>\n",
       "      <td>0.166979</td>\n",
       "      <td>0.246493</td>\n",
       "      <td>0</td>\n",
       "    </tr>\n",
       "    <tr>\n",
       "      <th>2000-02-04</th>\n",
       "      <td>0.042623</td>\n",
       "      <td>-0.019293</td>\n",
       "      <td>0.120294</td>\n",
       "      <td>0.127542</td>\n",
       "      <td>0.270834</td>\n",
       "      <td>1</td>\n",
       "    </tr>\n",
       "    <tr>\n",
       "      <th>2000-02-07</th>\n",
       "      <td>-0.006289</td>\n",
       "      <td>0.042623</td>\n",
       "      <td>0.201133</td>\n",
       "      <td>0.162706</td>\n",
       "      <td>0.223077</td>\n",
       "      <td>0</td>\n",
       "    </tr>\n",
       "  </tbody>\n",
       "</table>\n",
       "</div>"
      ],
      "text/plain": [
       "                   F_1_d_returns  1_d_returns  5_d_returns  15_d_returns  \\\n",
       "Ticker Date                                                                \n",
       "A      2000-02-01       0.077465     0.072710     0.048938      0.029918   \n",
       "       2000-02-02       0.016340     0.077465     0.119854      0.125000   \n",
       "       2000-02-03      -0.019293     0.016340     0.136073      0.166979   \n",
       "       2000-02-04       0.042623    -0.019293     0.120294      0.127542   \n",
       "       2000-02-07      -0.006289     0.042623     0.201133      0.162706   \n",
       "\n",
       "                   20_d_returns  F_1_d_returns_Ind  \n",
       "Ticker Date                                         \n",
       "A      2000-02-01     -0.013889                  1  \n",
       "       2000-02-02      0.150376                  1  \n",
       "       2000-02-03      0.246493                  0  \n",
       "       2000-02-04      0.270834                  1  \n",
       "       2000-02-07      0.223077                  0  "
      ]
     },
     "execution_count": 4,
     "metadata": {},
     "output_type": "execute_result"
    }
   ],
   "source": [
    "# Converting the 'F_1_d_returns' to binary based on whether the value is positive or not\n",
    "total_returns['F_1_d_returns_Ind'] = total_returns['F_1_d_returns'].apply(lambda x: 1 if x > 0 else 0)\n",
    "total_returns.head()"
   ]
  },
  {
   "cell_type": "code",
   "execution_count": 5,
   "id": "e952674d-400c-4b7f-a896-94d759b5a6d9",
   "metadata": {},
   "outputs": [
    {
     "data": {
      "text/plain": [
       "Timestamp('2017-01-20 00:00:00')"
      ]
     },
     "execution_count": 5,
     "metadata": {},
     "output_type": "execute_result"
    }
   ],
   "source": [
    "# Determine the split index for 70% of the dates\n",
    "unique_dates = total_returns.index.get_level_values('Date').unique()\n",
    "split_date = unique_dates[int(0.7 * len(unique_dates))]\n",
    "split_date"
   ]
  },
  {
   "cell_type": "code",
   "execution_count": 6,
   "id": "e1ced022-c69b-4dd0-8c6c-920395b12228",
   "metadata": {},
   "outputs": [],
   "source": [
    "# Create the training set: all data before the split date\n",
    "train_data = total_returns.loc[total_returns.index.get_level_values('Date') < split_date]\n",
    "\n",
    "# Create the testing set: all data from the split date onwards\n",
    "test_data = total_returns.loc[total_returns.index.get_level_values('Date') >= split_date]"
   ]
  },
  {
   "cell_type": "code",
   "execution_count": 7,
   "id": "d5f84567-f8fe-4b26-8bd9-b50441e67ca3",
   "metadata": {},
   "outputs": [],
   "source": [
    "total_returns  = test_data['F_1_d_returns']"
   ]
  },
  {
   "cell_type": "code",
   "execution_count": 8,
   "id": "8d16499f-18bd-4c3a-ab01-0f472b8ffd2d",
   "metadata": {},
   "outputs": [],
   "source": [
    "features = ['1_d_returns', '5_d_returns', '15_d_returns', '20_d_returns']\n",
    "target   = ['F_1_d_returns_Ind']\n",
    "\n",
    "# Split the data into training and testing sets\n",
    "X_train = train_data[features]\n",
    "X_test  = test_data[features]\n",
    "y_train = train_data[target]\n",
    "y_test  = test_data[target]"
   ]
  },
  {
   "cell_type": "code",
   "execution_count": 9,
   "id": "f3000076-d994-4a7d-9fdf-144e1d020cfb",
   "metadata": {},
   "outputs": [],
   "source": [
    "# Standardize the features\n",
    "scaler = StandardScaler()\n",
    "X_train_scaled = scaler.fit_transform(X_train)\n",
    "X_test_scaled  = scaler.transform(X_test)\n",
    "\n",
    "X_train_scaled = pd.DataFrame(X_train_scaled, index=X_train.index, columns=X_train.columns)\n",
    "X_test_scaled  = pd.DataFrame(X_test_scaled, index=X_test.index, columns=X_test.columns)"
   ]
  },
  {
   "cell_type": "code",
   "execution_count": 11,
   "id": "cddf89df-9a77-4341-9587-fc88714afad5",
   "metadata": {},
   "outputs": [
    {
     "name": "stdout",
     "output_type": "stream",
     "text": [
      "Fitting 5 folds for each of 1000 candidates, totalling 5000 fits\n"
     ]
    },
    {
     "name": "stderr",
     "output_type": "stream",
     "text": [
      "\n",
      "KeyboardInterrupt\n",
      "\n"
     ]
    }
   ],
   "source": [
    "# Define the parameter grid\n",
    "param_grid = {\n",
    "    'criterion': ['gini', 'entropy'],\n",
    "    'max_depth': [None, 5, 10, 15, 20],\n",
    "    'min_samples_split': [2, 5, 10, 15, 20],\n",
    "    'min_samples_leaf': [1, 2, 4, 6, 8],\n",
    "    'max_features': [None, 'auto', 'sqrt', 'log2']\n",
    "}\n",
    "\n",
    "\n",
    "# Initialize Decision Tree classifier\n",
    "dt = DecisionTreeClassifier()\n",
    "\n",
    "# Initialize GridSearchCV with the model and parameter grid\n",
    "grid_search = GridSearchCV(estimator=dt, param_grid=param_grid, cv=5, n_jobs=-1, verbose=2)\n",
    "\n",
    "# Fit the GridSearchCV to the training data\n",
    "grid_search.fit(X_train_scaled, y_train)\n",
    "\n",
    "# Get the best model\n",
    "best_model = grid_search.best_estimator_\n"
   ]
  },
  {
   "cell_type": "code",
   "execution_count": null,
   "id": "cc5d0c04-709f-4138-aee3-d4ed8ec51761",
   "metadata": {},
   "outputs": [],
   "source": [
    "model_name = 'DecTree'\n",
    "# Make predictions\n",
    "y_pred = best_model.predict(X_test_scaled)\n",
    "y_pred_df = pd.DataFrame(y_pred, index= X_test_scaled.index)\n",
    "\n",
    "y_pred_df.rename(columns={0:model_name}, inplace=True)\n",
    "\n",
    "y_test_df = pd.DataFrame(y_test)"
   ]
  },
  {
   "cell_type": "code",
   "execution_count": null,
   "id": "318aef2e-8a3b-448b-b3cf-cc8c7e113ac9",
   "metadata": {},
   "outputs": [],
   "source": [
    "y_test_and_pred = pd.merge(y_pred_df, total_returns, left_index=True, right_index=True)\n",
    "#y_test_and_pred = pd.merge(y_test_and_pred, total_returns, left_index=True, right_index=True)"
   ]
  },
  {
   "cell_type": "code",
   "execution_count": null,
   "id": "b2cfa798-e9e0-4e52-925a-1c14cc5cc95f",
   "metadata": {},
   "outputs": [],
   "source": [
    "model_name = 'Decision Tree'\n",
    "# Define trading strategy based on RSI\n",
    "def trading_strategy(y_pred):\n",
    "    if y_pred >0:\n",
    "        return  1 # Go long\n",
    "    else:\n",
    "        return 0\n",
    "        "
   ]
  },
  {
   "cell_type": "code",
   "execution_count": null,
   "id": "2b5f4dcc-e6ca-4b2b-a889-3069a38f96b5",
   "metadata": {},
   "outputs": [],
   "source": [
    "cum_returns, calendar_returns = func_lib.compute_BM_Perf(y_test_and_pred)"
   ]
  },
  {
   "cell_type": "code",
   "execution_count": null,
   "id": "4d652297-6081-47af-918f-9ab05d1d5e6b",
   "metadata": {},
   "outputs": [],
   "source": [
    "cum_returns, calendar_returns = func_lib.compute_strat_perf(y_test_and_pred, cum_returns, calendar_returns, trading_strategy, model_name)"
   ]
  }
 ],
 "metadata": {
  "kernelspec": {
   "display_name": "Python 3 (ipykernel)",
   "language": "python",
   "name": "python3"
  },
  "language_info": {
   "codemirror_mode": {
    "name": "ipython",
    "version": 3
   },
   "file_extension": ".py",
   "mimetype": "text/x-python",
   "name": "python",
   "nbconvert_exporter": "python",
   "pygments_lexer": "ipython3",
   "version": "3.12.4"
  }
 },
 "nbformat": 4,
 "nbformat_minor": 5
}
