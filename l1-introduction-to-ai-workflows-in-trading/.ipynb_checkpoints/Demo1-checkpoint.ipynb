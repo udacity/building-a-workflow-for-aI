{
 "cells": [
  {
   "cell_type": "markdown",
   "id": "37d0b0b3-ea21-486d-bdbe-1b821f0f04d0",
   "metadata": {},
   "source": [
    "# DEMO 1\n",
    "\n",
    "Data Acquisition"
   ]
  }
 ],
 "metadata": {
  "kernelspec": {
   "display_name": "Python 3 (ipykernel)",
   "language": "python",
   "name": "python3"
  },
  "language_info": {
   "codemirror_mode": {
    "name": "ipython",
    "version": 3
   },
   "file_extension": ".py",
   "mimetype": "text/x-python",
   "name": "python",
   "nbconvert_exporter": "python",
   "pygments_lexer": "ipython3",
   "version": "3.12.4"
  }
 },
 "nbformat": 4,
 "nbformat_minor": 5
}
