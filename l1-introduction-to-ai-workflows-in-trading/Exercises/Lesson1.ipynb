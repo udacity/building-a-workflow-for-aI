{
 "cells": [
  {
   "cell_type": "code",
   "execution_count": 3,
   "id": "c0bb4d99-222d-41ab-b7ab-90ebcd510558",
   "metadata": {},
   "outputs": [],
   "source": [
    "# Import yfinance library\n",
    "import yfinance as yf\n",
    "\n",
    "\n",
    "# Define the start and end dates  \n",
    "start_date = '2024-04-01'\n",
    "end_date   = '2024-05-01'\n",
    "\n",
    "# Define the list of tickers\n",
    "tickers = ['AAPL', 'MSFT']\n",
    "\n",
    "# Download historical prices for the list of tickers\n",
    "historical_prices = yf.download(tickers, start=start_date, end=end_date)\n",
    "\n",
    "historical_prices.head()"
   ]
  },
  {
   "cell_type": "code",
   "execution_count": null,
   "id": "10a8a5e1",
   "metadata": {},
   "outputs": [],
   "source": [
    "import pandas as pd\n",
    "# Define the list of tickers\n",
    "sp500_tickers = pd.read_html('https://en.wikipedia.org/wiki/List_of_S%26P_500_companies')[0]['Symbol'].tolist()\n",
    "sp500_tickers[1:10]\n",
    "# Filter out Class B shares that have a '.B' in the ticker name\n",
    "sp500_tickers = [ticker for ticker in sp500_tickers if '.B' not in ticker]"
   ]
  },
  {
   "cell_type": "code",
   "execution_count": null,
   "id": "15bdf02a",
   "metadata": {},
   "outputs": [],
   "source": [
    "# Define the start and end dates  \n",
    "start_date = '2000-01-01'\n",
    "end_date   = '2024-05-01'\n",
    "\n",
    "# Download historical prices for the list of tickers\n",
    "historical_prices = yf.download(sp500_tickers, start=start_date, end=end_date)"
   ]
  },
  {
   "cell_type": "code",
   "execution_count": null,
   "id": "2e250284",
   "metadata": {},
   "outputs": [],
   "source": [
    "# Filter and keep only columns where the first level of the MultiIndex is 'Adj Close'\n",
    "historical_prices  = historical_prices.loc[:, historical_prices.columns.get_level_values(0) == 'Adj Close']\n",
    "historical_prices.columns = historical_prices.columns.droplevel(0)   \n",
    "historical_prices.head()\n"
   ]
  },
  {
   "cell_type": "code",
   "execution_count": null,
   "id": "21f7e753",
   "metadata": {},
   "outputs": [],
   "source": [
    "MIN_REQUIRED_NUM_OBS_PER_TICKER = 100\n",
    "\n",
    "# Count non-missing values for each ticker\n",
    "ticker_counts = historical_prices.count()\n",
    "ticker_counts"
   ]
  },
  {
   "cell_type": "code",
   "execution_count": null,
   "id": "de434a63",
   "metadata": {},
   "outputs": [],
   "source": [
    "ticker_counts[ticker_counts<MIN_REQUIRED_NUM_OBS_PER_TICKER]"
   ]
  },
  {
   "cell_type": "code",
   "execution_count": null,
   "id": "f4580d78",
   "metadata": {},
   "outputs": [],
   "source": [
    "# Filter out tickers with fewer than n=MIN_REQUIRED_NUM_OBS_PER_TICKER=100 non-missing values\n",
    "valid_tickers_mask = ticker_counts[ticker_counts >= MIN_REQUIRED_NUM_OBS_PER_TICKER].index\n",
    "# Filter the DataFrame based on valid tickers\n",
    "historical_prices = historical_prices[valid_tickers_mask]"
   ]
  },
  {
   "cell_type": "code",
   "execution_count": null,
   "id": "9331b9e5",
   "metadata": {},
   "outputs": [],
   "source": [
    "import sys\n",
    "import os\n",
    "# Manually set the path relative to the py file's location that you want to import\n",
    "func_lib_path = os.path.abspath(os.path.join(os.getcwd(), '../'))\n",
    "\n",
    "# Add the path to sys.path\n",
    "sys.path.append(func_lib_path)\n",
    "\n",
    "# Now you can import func_lib\n",
    "import func_lib\n",
    "import pandas as pd\n",
    "import matplotlib.pyplot as plt"
   ]
  },
  {
   "cell_type": "code",
   "execution_count": null,
   "id": "9491571b",
   "metadata": {},
   "outputs": [],
   "source": [
    "historical_prices = func_lib.createHistPrices()"
   ]
  },
  {
   "cell_type": "markdown",
   "id": "64f56e32",
   "metadata": {},
   "source": [
    "# DEMO 2"
   ]
  },
  {
   "cell_type": "code",
   "execution_count": null,
   "id": "5744b62d",
   "metadata": {},
   "outputs": [],
   "source": [
    "import sys\n",
    "import os\n",
    "# Manually set the path relative to the py file's location that you want to import\n",
    "func_lib_path = os.path.abspath(os.path.join(os.getcwd(), '../'))\n",
    "\n",
    "# Add the path to sys.path\n",
    "sys.path.append(func_lib_path)\n",
    "\n",
    "# Now you can import func_lib\n",
    "import func_lib\n",
    "import pandas as pd"
   ]
  },
  {
   "cell_type": "code",
   "execution_count": null,
   "id": "cba89f61",
   "metadata": {},
   "outputs": [],
   "source": [
    "historical_prices = func_lib.createHistPrices()"
   ]
  },
  {
   "cell_type": "code",
   "execution_count": null,
   "id": "21ce0944",
   "metadata": {},
   "outputs": [],
   "source": [
    "# Create a function called 'computingReturns' that takes  prices and a list of integers (momentums) as an input\n",
    "def computingReturns(historical_prices, list_of_momentums): \n",
    "    '''\n",
    "    Takes as an input a dataframe of prices and a list of momentums \n",
    "    and returns a dataframe with returns over the momentum list and 1 day forward returns\n",
    "    '''\n",
    "\n",
    "    # Return the total returns DataFrame\n",
    "    return total_returns\n"
   ]
  },
  {
   "cell_type": "code",
   "execution_count": null,
   "id": "11b14ca5",
   "metadata": {},
   "outputs": [],
   "source": [
    "# Initialize the forecast horizon\n",
    "forecast_horizon = 1\n",
    "# Compute forward returns by taking percentage change of close prices\n",
    "f_returns = historical_prices.pct_change(forecast_horizon, fill_method=None)\n",
    "f_returns.iloc[:,0:10].head()"
   ]
  },
  {
   "cell_type": "code",
   "execution_count": null,
   "id": "fd6a45c6",
   "metadata": {},
   "outputs": [],
   "source": [
    "\n",
    "f_returns[['AAPL']].head()\n",
    "\n",
    "prices[['AAPL']].head()"
   ]
  },
  {
   "cell_type": "code",
   "execution_count": null,
   "id": "eb1431e7",
   "metadata": {},
   "outputs": [],
   "source": [
    "\n",
    "# We then shift the forward returns\n",
    "f_returns = f_returns.shift(-forecast_horizon)\n",
    "f_returns.iloc[:,0:10].head()\n"
   ]
  },
  {
   "cell_type": "code",
   "execution_count": null,
   "id": "fbea2e83",
   "metadata": {},
   "outputs": [],
   "source": [
    "# Pivot the dataframe\n",
    "f_returns = pd.DataFrame(f_returns.unstack())\n",
    "# Name the column based on the forecast horizon\n",
    "name = \"F_\" + str(forecast_horizon) + \"_d_returns\"\n",
    "f_returns.rename(columns={0: name}, inplace=True)\n",
    "f_returns.head()"
   ]
  },
  {
   "cell_type": "code",
   "execution_count": null,
   "id": "a58be1ab",
   "metadata": {},
   "outputs": [],
   "source": [
    "\n",
    "# Initialize total_returns with forward returns\n",
    "total_returns = f_returns"
   ]
  },
  {
   "cell_type": "code",
   "execution_count": null,
   "id": "7efcbd62",
   "metadata": {},
   "outputs": [],
   "source": [
    "# Iterate over the list of momentum values\n",
    "for i in list_of_momentums:   \n",
    "    # Compute returns for each momentum value\n",
    "    feature = historical_prices.pct_change(i)\n",
    "    feature = pd.DataFrame(feature.unstack())\n",
    "    # Name the column based on the momentum value\n",
    "    name = str(i) + \"_d_returns\"        \n",
    "    feature.rename(columns={0: name}, inplace=True)\n",
    "    # Rename columns and reset index\n",
    "    feature.rename(columns={0: name, 'level_0': 'Ticker'}, inplace=True)\n",
    "    # Merge computed feature returns with total_returns based on Ticker and Date\n",
    "    total_returns = pd.merge(total_returns, feature, left_index=True, right_index=True,how='outer')"
   ]
  },
  {
   "cell_type": "code",
   "execution_count": null,
   "id": "138432da",
   "metadata": {},
   "outputs": [],
   "source": [
    "# Drop rows with any NaN values\n",
    "total_returns.dropna(axis=0, how='any', inplace=True) \n",
    "total_returns.head()"
   ]
  },
  {
   "cell_type": "markdown",
   "id": "3440d880",
   "metadata": {},
   "source": [
    "## DEMO 3"
   ]
  },
  {
   "cell_type": "code",
   "execution_count": 1,
   "id": "4914d785",
   "metadata": {},
   "outputs": [
    {
     "ename": "ModuleNotFoundError",
     "evalue": "No module named 'func_lib'",
     "output_type": "error",
     "traceback": [
      "\u001b[1;31m---------------------------------------------------------------------------\u001b[0m",
      "\u001b[1;31mModuleNotFoundError\u001b[0m                       Traceback (most recent call last)",
      "Cell \u001b[1;32mIn[1], line 10\u001b[0m\n\u001b[0;32m      7\u001b[0m sys\u001b[38;5;241m.\u001b[39mpath\u001b[38;5;241m.\u001b[39mappend(func_lib_path)\n\u001b[0;32m      9\u001b[0m \u001b[38;5;66;03m# Now you can import func_lib\u001b[39;00m\n\u001b[1;32m---> 10\u001b[0m \u001b[38;5;28;01mimport\u001b[39;00m \u001b[38;5;21;01mfunc_lib\u001b[39;00m\n",
      "\u001b[1;31mModuleNotFoundError\u001b[0m: No module named 'func_lib'"
     ]
    }
   ],
   "source": [
    "import sys\n",
    "import os\n",
    "# Manually set the path relative to the py file's location that you want to import\n",
    "func_lib_path = os.path.abspath(os.path.join(os.getcwd(), '../'))\n",
    "\n",
    "# Add the path to sys.path\n",
    "sys.path.append(func_lib_path)\n",
    "\n",
    "# Now you can import func_lib\n",
    "import func_lib\n",
    "import pandas as pd"
   ]
  },
  {
   "cell_type": "code",
   "execution_count": 2,
   "id": "143af07a",
   "metadata": {},
   "outputs": [
    {
     "ename": "NameError",
     "evalue": "name 'func_lib' is not defined",
     "output_type": "error",
     "traceback": [
      "\u001b[1;31m---------------------------------------------------------------------------\u001b[0m",
      "\u001b[1;31mNameError\u001b[0m                                 Traceback (most recent call last)",
      "Cell \u001b[1;32mIn[2], line 1\u001b[0m\n\u001b[1;32m----> 1\u001b[0m historical_prices \u001b[38;5;241m=\u001b[39m func_lib\u001b[38;5;241m.\u001b[39mcreateHistPrices()\n\u001b[0;32m      2\u001b[0m list_of_momentums \u001b[38;5;241m=\u001b[39m [\u001b[38;5;241m1\u001b[39m]\n\u001b[0;32m      3\u001b[0m total_returns     \u001b[38;5;241m=\u001b[39m func_lib\u001b[38;5;241m.\u001b[39mcomputingReturns(historical_prices, list_of_momentums)\n",
      "\u001b[1;31mNameError\u001b[0m: name 'func_lib' is not defined"
     ]
    }
   ],
   "source": [
    "historical_prices = func_lib.createHistPrices()\n",
    "list_of_momentums = [1]\n",
    "total_returns     = func_lib.computingReturns(historical_prices, list_of_momentums)"
   ]
  },
  {
   "cell_type": "code",
   "execution_count": null,
   "id": "7f7440f6",
   "metadata": {},
   "outputs": [],
   "source": [
    "\n",
    "total_returns.index.get_level_values('Ticker').nunique()\n",
    "\n",
    "total_returns.index.get_level_values('Date').value_counts().describe()"
   ]
  },
  {
   "cell_type": "code",
   "execution_count": null,
   "id": "5f5eff84",
   "metadata": {},
   "outputs": [],
   "source": [
    "# How many tickers do we have at each date?\n",
    "tickers_per_date = total_returns.index.get_level_values('Date').value_counts()\n",
    "tickers_per_date"
   ]
  },
  {
   "cell_type": "code",
   "execution_count": null,
   "id": "9404570a",
   "metadata": {},
   "outputs": [],
   "source": [
    "import matplotlib.pyplot as plt\n",
    "tickers_per_date.plot(kind='line', color='skyblue')\n",
    "plt.title('Number of Tickers per day')\n",
    "plt.xlabel('Date')\n",
    "plt.ylabel('Number of Tickers')\n",
    "plt.xticks(rotation=45)\n",
    "plt.show()"
   ]
  },
  {
   "cell_type": "code",
   "execution_count": 4,
   "id": "ef3825ab",
   "metadata": {},
   "outputs": [
    {
     "ename": "NameError",
     "evalue": "name 'pd' is not defined",
     "output_type": "error",
     "traceback": [
      "\u001b[1;31m---------------------------------------------------------------------------\u001b[0m",
      "\u001b[1;31mNameError\u001b[0m                                 Traceback (most recent call last)",
      "Cell \u001b[1;32mIn[4], line 1\u001b[0m\n\u001b[1;32m----> 1\u001b[0m pd\u001b[38;5;241m.\u001b[39moptions\u001b[38;5;241m.\u001b[39mdisplay\u001b[38;5;241m.\u001b[39mfloat_format \u001b[38;5;241m=\u001b[39m \u001b[38;5;124m\"\u001b[39m\u001b[38;5;132;01m{:,.4f}\u001b[39;00m\u001b[38;5;124m\"\u001b[39m\u001b[38;5;241m.\u001b[39mformat\n\u001b[0;32m      2\u001b[0m total_returns\u001b[38;5;241m.\u001b[39mdescribe()\n",
      "\u001b[1;31mNameError\u001b[0m: name 'pd' is not defined"
     ]
    }
   ],
   "source": [
    "pd.options.display.float_format = \"{:,.4f}\".format\n",
    "total_returns.describe()"
   ]
  },
  {
   "cell_type": "code",
   "execution_count": 5,
   "id": "8d6ab246",
   "metadata": {},
   "outputs": [],
   "source": [
    "def compute_BM_Perf(total_returns):\n",
    "    \"\"\" computes benchmark performance for investment universe and returns cumulative and calendar returns\"\"\"\n",
    "    \n",
    "\n",
    "    return cum_returns, calendar_returns"
   ]
  },
  {
   "cell_type": "code",
   "execution_count": null,
   "id": "9de809b3",
   "metadata": {},
   "outputs": [],
   "source": [
    "def compute_BM_Perf(total_returns):\n",
    "    # Compute the daily mean of all stocks. This will be our equal weighted benchmark\n",
    "    daily_mean  = pd.DataFrame(total_returns.loc[:,'F_1_d_returns'].groupby(level='Date').mean())\n",
    "    daily_mean.rename(columns={'F_1_d_returns':'SP&500'}, inplace=True)\n",
    "    \n",
    "    # Convert daily returns to cumulative returns\n",
    "    cum_returns = pd.DataFrame((daily_mean[['SP&500']]+1).cumprod())\n",
    "    \n",
    "    # Plotting the cumulative returns\n",
    "    cum_returns.plot()\n",
    "    \n",
    "    # Customizing the plot\n",
    "    plt.title('Cumulative Returns Over Time', fontsize=16, fontweight='bold')\n",
    "    plt.xlabel('Date', fontsize=14)\n",
    "    plt.ylabel('Cumulative Return', fontsize=14)\n",
    "    plt.grid(True)\n",
    "    plt.xticks(rotation=45)\n",
    "    plt.legend(title_fontsize='13', fontsize='11')\n",
    "    \n",
    "    # Display the plot\n",
    "    plt.show()\n",
    "    \n",
    "    # Calculate the number of years in the dataset\n",
    "    number_of_years = len(daily_mean) / 252  # Assuming 252 trading days in a year\n",
    "    \n",
    "    ending_value    = cum_returns['SP&500'].iloc[-1]\n",
    "    beginning_value = cum_returns['SP&500'].iloc[1]\n",
    "    \n",
    "    # Compute the Compound Annual Growth Rate (CAGR)\n",
    "    ratio = ending_value/beginning_value\n",
    "    cagr = round((ratio**(1/number_of_years)-1)*100,2)\n",
    "    print(f'The CAGR is: {cagr}%')\n",
    "    \n",
    "    # Compute the Sharpe Ratio by annualizing the daily mean and the daily std\n",
    "    average_daily_return    = daily_mean[['SP&500']].describe().iloc[1,:] * 252\n",
    "    stand_dev_dail_return   = daily_mean[['SP&500']].describe().iloc[2,:] * pow(252,1/2)\n",
    "    \n",
    "    sharpe  = average_daily_return/stand_dev_dail_return\n",
    "    \n",
    "    print(f'Sharpe Ratio of Strategy: {round(sharpe.iloc[0],2)}')\n",
    "    \n",
    "    \n",
    "    #df_daily_mean.rename(columns={target:'Strategy'},inplace=True)\n",
    "    ann_returns = (pd.DataFrame((daily_mean[['SP&500']]+1).groupby(daily_mean.index.get_level_values(0).year).cumprod())-1)*100\n",
    "    calendar_returns  = pd.DataFrame(ann_returns['SP&500'].groupby(daily_mean.index.get_level_values(0).year).last())\n",
    "    \n",
    "    calendar_returns.plot.bar(rot=30,  legend='top_left')#.opts(multi_level=False) \n",
    "\n",
    "    return cum_returns, calendar_returns\n"
   ]
  },
  {
   "cell_type": "markdown",
   "id": "4123ebac",
   "metadata": {},
   "source": [
    "# DEMO 4"
   ]
  },
  {
   "cell_type": "code",
   "execution_count": 11,
   "id": "a7e3cfba",
   "metadata": {},
   "outputs": [
    {
     "ename": "ModuleNotFoundError",
     "evalue": "No module named 'func_lib'",
     "output_type": "error",
     "traceback": [
      "\u001b[1;31m---------------------------------------------------------------------------\u001b[0m",
      "\u001b[1;31mModuleNotFoundError\u001b[0m                       Traceback (most recent call last)",
      "Cell \u001b[1;32mIn[11], line 10\u001b[0m\n\u001b[0;32m      7\u001b[0m sys\u001b[38;5;241m.\u001b[39mpath\u001b[38;5;241m.\u001b[39mappend(func_lib_path)\n\u001b[0;32m      9\u001b[0m \u001b[38;5;66;03m# Now you can import func_lib\u001b[39;00m\n\u001b[1;32m---> 10\u001b[0m \u001b[38;5;28;01mimport\u001b[39;00m \u001b[38;5;21;01mfunc_lib\u001b[39;00m\n\u001b[0;32m     11\u001b[0m \u001b[38;5;28;01mimport\u001b[39;00m \u001b[38;5;21;01mpandas\u001b[39;00m \u001b[38;5;28;01mas\u001b[39;00m \u001b[38;5;21;01mpd\u001b[39;00m\n\u001b[0;32m     12\u001b[0m \u001b[38;5;28;01mimport\u001b[39;00m \u001b[38;5;21;01mmatplotlib\u001b[39;00m \u001b[38;5;28;01mas\u001b[39;00m \u001b[38;5;21;01mplt\u001b[39;00m\n",
      "\u001b[1;31mModuleNotFoundError\u001b[0m: No module named 'func_lib'"
     ]
    }
   ],
   "source": [
    "import sys\n",
    "import os\n",
    "# Manually set the path relative to the py file's location that you want to import\n",
    "func_lib_path = os.path.abspath(os.path.join(os.getcwd(), '../'))\n",
    "\n",
    "# Add the path to sys.path\n",
    "sys.path.append(func_lib_path)\n",
    "\n",
    "# Now you can import func_lib\n",
    "import func_lib\n",
    "import pandas as pd\n",
    "import matplotlib.pyplot as plt"
   ]
  },
  {
   "cell_type": "code",
   "execution_count": null,
   "id": "71260747",
   "metadata": {},
   "outputs": [],
   "source": [
    "historical_prices = func_lib.createHistPrices()\n",
    "list_of_momentums = [1]\n",
    "total_returns     = func_lib.computingReturns(historical_prices, list_of_momentums)"
   ]
  },
  {
   "cell_type": "code",
   "execution_count": null,
   "id": "36362a9c",
   "metadata": {},
   "outputs": [],
   "source": [
    "def calculate_rsi(returns, window=14):        \n",
    "\n",
    "    return rsi"
   ]
  },
  {
   "cell_type": "code",
   "execution_count": null,
   "id": "39672e5c",
   "metadata": {},
   "outputs": [],
   "source": [
    "returns = total_returns['1_d_returns']\n",
    "returns = returns[returns.index.get_level_values(0)=='AAPL']"
   ]
  },
  {
   "cell_type": "code",
   "execution_count": 10,
   "id": "79c442a6",
   "metadata": {},
   "outputs": [],
   "source": [
    "window = 2"
   ]
  },
  {
   "cell_type": "code",
   "execution_count": null,
   "id": "a4a36644",
   "metadata": {},
   "outputs": [],
   "source": [
    "gain = returns[returns>0].dropna().rolling(window=window).mean()\n",
    "gain.name = 'gain'\n",
    "loss = returns[returns<0].dropna().rolling(window=window).mean()\n",
    "loss.name = 'loss'"
   ]
  },
  {
   "cell_type": "code",
   "execution_count": null,
   "id": "f5ba6ef8",
   "metadata": {},
   "outputs": [],
   "source": [
    "returns = pd.merge(returns, gain, left_index=True, right_index=True, how='left')\n",
    "returns = pd.merge(returns, loss, left_index=True, right_index=True, how='left')"
   ]
  },
  {
   "cell_type": "code",
   "execution_count": null,
   "id": "9c5f5db2",
   "metadata": {},
   "outputs": [],
   "source": [
    "returns.head(5)"
   ]
  },
  {
   "cell_type": "code",
   "execution_count": null,
   "id": "984c6e39",
   "metadata": {},
   "outputs": [],
   "source": [
    "returns = returns.ffill()\n",
    "returns.dropna(inplace=True)"
   ]
  },
  {
   "cell_type": "code",
   "execution_count": null,
   "id": "a409d0cc",
   "metadata": {},
   "outputs": [],
   "source": [
    "ratio = returns['gain']/abs(returns['loss'])\n",
    "rsi = 100 - (100 / (1 + ratio))"
   ]
  },
  {
   "cell_type": "code",
   "execution_count": 9,
   "id": "d9eb1876",
   "metadata": {},
   "outputs": [],
   "source": [
    "def calculate_rsi(returns, window=14):    \n",
    "    gain = returns[returns>0].dropna().rolling(window=window).mean()\n",
    "    gain.name = 'gain'\n",
    "    loss = returns[returns<0].dropna().rolling(window=window).mean()\n",
    "    loss.name = 'loss'\n",
    "    returns = pd.merge(returns, gain, left_index=True, right_index=True, how='left')\n",
    "    returns = pd.merge(returns, loss, left_index=True, right_index=True, how='left')\n",
    "    returns = returns.ffill()\n",
    "    returns.dropna(inplace=True)\n",
    "    ratio = returns['gain']/abs(returns['loss'])\n",
    "    rsi = 100 - (100 / (1 + ratio))\n",
    "    return rsi"
   ]
  },
  {
   "cell_type": "code",
   "execution_count": null,
   "id": "d92bbb78",
   "metadata": {},
   "outputs": [],
   "source": [
    "# Calculate RSI for each ticker separately and add to the DataFrame\n",
    "total_returns['RSI'] = total_returns.groupby('Ticker')[['1_d_returns']].transform(calculate_rsi)"
   ]
  },
  {
   "cell_type": "code",
   "execution_count": 9,
   "id": "7c5c9f53-9782-4e3a-824a-f7faccf564f4",
   "metadata": {},
   "outputs": [],
   "source": [
    "# Customizing the histogram\n",
    "histogram_plot = total_returns[['RSI']].hist(bins=50, ax=plt.gca(), color='skyblue', edgecolor='black')\n",
    "\n",
    "# Adding titles and labels\n",
    "plt.title('Distribution of Relative Strength Index (RSI)', fontsize=16, fontweight='bold')\n",
    "plt.xlabel('RSI', fontsize=14)\n",
    "plt.ylabel('Frequency', fontsize=14)\n",
    "plt.grid(True) \n",
    "plt.show()"
   ]
  },
  {
   "cell_type": "code",
   "execution_count": 10,
   "id": "79934c07-f94b-455a-b7c1-4d7e61e03890",
   "metadata": {},
   "outputs": [],
   "source": [
    "scatter_plot = total_returns.plot.scatter(x='RSI', y='F_1_d_returns', ax=plt.gca(), color='blue', alpha=0.6,s=0.01)\n",
    "\n",
    "# Adding titles and labels\n",
    "plt.title('RSI vs. 1-Day Forward Returns', fontsize=16, fontweight='bold')\n",
    "plt.xlabel('Relative Strength Index (RSI)', fontsize=14)\n",
    "plt.ylabel('1-Day Forward Returns', fontsize=14)\n",
    "plt.grid(True)\n",
    "plt.show()"
   ]
  },
  {
   "cell_type": "code",
   "execution_count": 8,
   "id": "2d13add3-1357-43a5-b3b2-f7280d77bd88",
   "metadata": {},
   "outputs": [
    {
     "ename": "NameError",
     "evalue": "name 'total_returns' is not defined",
     "output_type": "error",
     "traceback": [
      "\u001b[1;31m---------------------------------------------------------------------------\u001b[0m",
      "\u001b[1;31mNameError\u001b[0m                                 Traceback (most recent call last)",
      "Cell \u001b[1;32mIn[8], line 1\u001b[0m\n\u001b[1;32m----> 1\u001b[0m total_returns[[\u001b[38;5;124m'\u001b[39m\u001b[38;5;124mF_1_d_returns\u001b[39m\u001b[38;5;124m'\u001b[39m, \u001b[38;5;124m'\u001b[39m\u001b[38;5;124mRSI\u001b[39m\u001b[38;5;124m'\u001b[39m]]\u001b[38;5;241m.\u001b[39mcorr()\u001b[38;5;241m.\u001b[39mstyle\u001b[38;5;241m.\u001b[39mbackground_gradient()\n",
      "\u001b[1;31mNameError\u001b[0m: name 'total_returns' is not defined"
     ]
    }
   ],
   "source": [
    "total_returns[['F_1_d_returns', 'RSI']].corr().style.background_gradient()"
   ]
  },
  {
   "cell_type": "code",
   "execution_count": null,
   "id": "b17498d0",
   "metadata": {},
   "outputs": [],
   "source": [
    "feature = 'RSI'\n",
    "target = 'F_1_d_returns'\n",
    "\n",
    "# Specify custom bin boundaries\n",
    "bin_boundaries = [0, 30, 70, 100]\n",
    "\n",
    "total_returns['Quantiles'] = total_returns.groupby(level='Date')[feature].transform(lambda x: pd.cut(x, bins=bin_boundaries, labels=False, precision=0, duplicates='drop'))\n",
    "\n",
    "total_returns.groupby('Quantiles')[[target]].mean().plot(kind='bar', legend=True)"
   ]
  },
  {
   "cell_type": "code",
   "execution_count": null,
   "id": "53100006",
   "metadata": {},
   "outputs": [],
   "source": [
    "total_returns[total_returns['RSI']<30].describe()"
   ]
  },
  {
   "cell_type": "markdown",
   "id": "38f27c8d",
   "metadata": {},
   "source": [
    "# DEMO 5"
   ]
  },
  {
   "cell_type": "code",
   "execution_count": 12,
   "id": "9d553737-eb73-4f1f-8b15-895513faa64e",
   "metadata": {},
   "outputs": [
    {
     "ename": "NameError",
     "evalue": "name 'func_lib' is not defined",
     "output_type": "error",
     "traceback": [
      "\u001b[1;31m---------------------------------------------------------------------------\u001b[0m",
      "\u001b[1;31mNameError\u001b[0m                                 Traceback (most recent call last)",
      "Cell \u001b[1;32mIn[12], line 8\u001b[0m\n\u001b[0;32m      6\u001b[0m         \u001b[38;5;28;01mreturn\u001b[39;00m \u001b[38;5;241m0\u001b[39m\n\u001b[0;32m      7\u001b[0m model_name \u001b[38;5;241m=\u001b[39m \u001b[38;5;124m\"\u001b[39m\u001b[38;5;124mRSI\u001b[39m\u001b[38;5;124m\"\u001b[39m\n\u001b[1;32m----> 8\u001b[0m cum_returns, calendar_returns \u001b[38;5;241m=\u001b[39m func_lib\u001b[38;5;241m.\u001b[39mcompute_BM_Perf(total_returns)\n\u001b[0;32m      9\u001b[0m cum_returns, calendar_returns \u001b[38;5;241m=\u001b[39m func_lib\u001b[38;5;241m.\u001b[39mcompute_Strat_Perf(total_returns, cum_returns, calendar_returns, trading_strategy, model_name)\n",
      "\u001b[1;31mNameError\u001b[0m: name 'func_lib' is not defined"
     ]
    }
   ],
   "source": [
    "# Define trading strategy based on RSI\n",
    "def trading_strategy(rsi):\n",
    "    if rsi < 30:\n",
    "        return  1 # Go long\n",
    "    else:\n",
    "        return 0\n",
    "model_name = \"RSI\"\n",
    "cum_returns, calendar_returns = func_lib.compute_BM_Perf(total_returns)\n",
    "cum_returns, calendar_returns = func_lib.compute_Strat_Perf(total_returns, cum_returns, calendar_returns, trading_strategy, model_name)"
   ]
  },
  {
   "cell_type": "code",
   "execution_count": null,
   "id": "ac116e2e",
   "metadata": {},
   "outputs": [],
   "source": [
    "def compute_strat_perf(total_returns, cum_returns, calendar_returns, trading_strategy, model_name):    \n",
    "    return cum_returns, calendar_returns"
   ]
  },
  {
   "cell_type": "code",
   "execution_count": null,
   "id": "b7a21afb",
   "metadata": {},
   "outputs": [],
   "source": [
    "\n",
    "def compute_Strat_Perf(total_returns, cum_returns, calendar_returns, trading_strategy, model_name):    \n",
    "    # Apply trading strategy to each RSI value\n",
    "    total_returns['Position'] = total_returns[model_name].transform(trading_strategy)\n",
    "    # Create Returns for each Trade\n",
    "    total_returns[f'{model_name}_Return'] = total_returns['F_1_d_returns'] *  total_returns['Position'] \n",
    "    \n",
    "    # Compute the daily mean of all stocks. This will be our equal weighted benchmark\n",
    "    daily_mean  = pd.DataFrame(total_returns.loc[:,f'{model_name}_Return'].groupby(level='Date').mean())\n",
    "    \n",
    "    # Convert daily returns to cumulative returns\n",
    "    cum_returns.loc[:,f'{model_name}_Return']  = pd.DataFrame((daily_mean[[f'{model_name}_Return']]+1).cumprod())\n",
    "\n",
    "    # Plotting the cumulative returns\n",
    "    cum_returns.plot()\n",
    "    \n",
    "    # Customizing the plot\n",
    "    plt.title('Cumulative Returns Over Time', fontsize=16, fontweight='bold')\n",
    "    plt.xlabel('Date', fontsize=14)\n",
    "    plt.ylabel('Cumulative Return', fontsize=14)\n",
    "    plt.grid(True)\n",
    "    plt.xticks(rotation=45)\n",
    "    plt.legend(title_fontsize='13', fontsize='11')\n",
    "    \n",
    "    # Display the plot\n",
    "    plt.show()\n",
    "    \n",
    "    # Calculate the number of years in the dataset\n",
    "    number_of_years = len(daily_mean) / 252  # Assuming 252 trading days in a year\n",
    "    \n",
    "    ending_value    = cum_returns[f'{model_name}_Return'].iloc[-1]\n",
    "    beginning_value = cum_returns[f'{model_name}_Return'].iloc[1]\n",
    "    \n",
    "    ratio = ending_value/beginning_value\n",
    "    # Compute the Compound Annual Growth Rate (CAGR)\n",
    "    cagr = round((ratio**(1/number_of_years)-1)*100,2)\n",
    "    \n",
    "    print(f'The CAGR is: {cagr}%')\n",
    "    \n",
    "    # Compute the Sharpe Ratio by annualizing the daily mean and the daily std\n",
    "    average_daily_return  = daily_mean[[f'{model_name}_Return']].describe().iloc[1,:] * 252\n",
    "    stand_dev_dail_return   = daily_mean[[f'{model_name}_Return']].describe().iloc[2,:] * pow(252,1/2)\n",
    "    \n",
    "    # Compute the Sharpe Ratio and print it out\n",
    "    sharpe  = average_daily_return/stand_dev_dail_return\n",
    "    \n",
    "    print(f'Sharpe Ratio of Strategy: {round(sharpe.iloc[0],2)}')\n",
    "    \n",
    "    ann_returns = (pd.DataFrame((daily_mean[f'{model_name}_Return']+1).groupby(daily_mean.index.get_level_values(0).year).cumprod())-1)*100\n",
    "    \n",
    "    \n",
    "    calendar_returns.loc[:,f'{model_name}_Return']  = pd.DataFrame(ann_returns[f'{model_name}_Return'].groupby(daily_mean.index.get_level_values(0).year).last())\n",
    "    \n",
    "    calendar_returns.plot.bar(rot=30,  legend='top_left')#.opts(multi_level=False) \n",
    "    return cum_returns, calendar_returns"
   ]
  },
  {
   "cell_type": "code",
   "execution_count": null,
   "id": "ffab48a6",
   "metadata": {},
   "outputs": [],
   "source": [
    "trades = total_returns[total_returns['Position']==1]\n",
    "tickers_per_date =trades.index.get_level_values('Date').value_counts()\n",
    "tickers_per_date.describe()"
   ]
  },
  {
   "cell_type": "code",
   "execution_count": null,
   "id": "6b904b2c",
   "metadata": {},
   "outputs": [],
   "source": [
    "\n",
    "\n",
    "tickers_per_date.plot(kind='line', color='skyblue')\n",
    "plt.title('Number of Trades per day')\n",
    "plt.xlabel('Date')\n",
    "plt.ylabel('Number of Tickers')\n",
    "plt.xticks(rotation=45)\n",
    "plt.show()"
   ]
  },
  {
   "cell_type": "code",
   "execution_count": null,
   "id": "346fbc4d",
   "metadata": {},
   "outputs": [],
   "source": [
    "# Plotting the cumulative returns\n",
    "cum_returns['RSI_Return'].plot()\n",
    "\n",
    "# Customizing the plot\n",
    "plt.title('Cumulative Returns Over Time', fontsize=16, fontweight='bold')\n",
    "plt.xlabel('Date', fontsize=14)\n",
    "plt.ylabel('Cumulative Return', fontsize=14)\n",
    "plt.grid(True)\n",
    "plt.xticks(rotation=45)\n",
    "plt.legend(title_fontsize='13', fontsize='11')\n",
    "\n",
    "# Display the plot\n",
    "plt.show()"
   ]
  },
  {
   "cell_type": "code",
   "execution_count": 5,
   "id": "d0772adc-ebcd-455b-a64c-552746f76d1c",
   "metadata": {},
   "outputs": [
    {
     "name": "stderr",
     "output_type": "stream",
     "text": [
      "[*********************100%%**********************]  1 of 1 completed\n"
     ]
    }
   ],
   "source": [
    "import yfinance as yf\n",
    "import pandas_datareader.data as web\n",
    "import pandas as pd\n",
    "import matplotlib.pyplot as plt\n",
    "\n",
    "# Define the ticker symbol for S&P 500\n",
    "stock_ticker = 'SPY'\n",
    "\n",
    "# Download historical data for S&P 500 since 1980\n",
    "stock_data = yf.download(stock_ticker, start='1980-01-01', end='2024-01-01')['Adj Close']\n",
    "\n",
    "# Download historical data for 10-Year Treasury Bond from FRED\n",
    "bond_data = web.DataReader('DGS10', 'fred', start='1980-01-01', end='2024-01-01')\n",
    "\n"
   ]
  },
  {
   "cell_type": "code",
   "execution_count": 70,
   "id": "679d6fd2-b668-4214-959c-a6ae264c9f65",
   "metadata": {},
   "outputs": [
    {
     "name": "stderr",
     "output_type": "stream",
     "text": [
      "C:\\Users\\metin\\AppData\\Local\\Temp\\ipykernel_16032\\1504623157.py:6: FutureWarning: The default fill_method='pad' in DataFrame.pct_change is deprecated and will be removed in a future version. Either fill in any non-leading NA values prior to calling pct_change or specify 'fill_method=None' to not fill NA values.\n",
      "  bond_returns = bond_data.pct_change().dropna()\n"
     ]
    }
   ],
   "source": [
    "# Resample bond data to match the frequency of stock data (daily) and forward fill missing values\n",
    "#bond_data = bond_data.resample('D').ffill()\n",
    "\n",
    "# Calculate the daily returns for both stock and bond data\n",
    "stock_returns = stock_data.pct_change().dropna()\n",
    "bond_returns = bond_data.pct_change().dropna()\n",
    "\n"
   ]
  },
  {
   "cell_type": "code",
   "execution_count": 72,
   "id": "d3e8727a-69ee-494f-9321-de80dcaf17bb",
   "metadata": {},
   "outputs": [],
   "source": [
    "# Combine the data into a single DataFrame\n",
    "returns = pd.merge(pd.DataFrame(stock_returns), bond_returns, left_index=True, right_index=True)\n",
    "returns.rename(columns={'Adj Close': 'SP500', 'DGS10': '10Y_Treasury'}, inplace=True)\n",
    "\n"
   ]
  },
  {
   "cell_type": "code",
   "execution_count": 74,
   "id": "f2c45a70-3bba-4dd2-8906-1ac17111ee1d",
   "metadata": {},
   "outputs": [
    {
     "data": {
      "image/png": "[encoded data removed]",
      "text/plain": [
       "<Figure size 1400x700 with 1 Axes>"
      ]
     },
     "metadata": {},
     "output_type": "display_data"
    }
   ],
   "source": [
    "# Calculate the rolling correlation with a window of 252 trading days (approximately 1 year)\n",
    "rolling_corr = returns['SP500'].rolling(window=700).corr(returns['10Y_Treasury'])\n",
    "\n",
    "# Plot the rolling correlation\n",
    "plt.figure(figsize=(14, 7))\n",
    "plt.plot(rolling_corr, label='Rolling Correlation (SPY vs 10Y Treasury)')\n",
    "plt.title('Rolling Correlation Between S&P 500 (SPY) and 10-Year Treasury Bond')\n",
    "plt.xlabel('Date')\n",
    "plt.ylabel('Rolling Correlation')\n",
    "plt.legend()\n",
    "plt.grid(True)\n",
    "plt.show()"
   ]
  },
  {
   "cell_type": "code",
   "execution_count": 76,
   "id": "292a381b-6025-4dcd-bf33-df3f8d5830a1",
   "metadata": {},
   "outputs": [
    {
     "name": "stderr",
     "output_type": "stream",
     "text": [
      "[*********************100%%**********************]  2 of 2 completed\n"
     ]
    },
    {
     "data": {
      "image/png": "[encoded data removed]",
      "text/plain": [
       "<Figure size 1400x700 with 1 Axes>"
      ]
     },
     "metadata": {},
     "output_type": "display_data"
    }
   ],
   "source": [
    "import yfinance as yf\n",
    "import pandas as pd\n",
    "import matplotlib.pyplot as plt\n",
    "\n",
    "# Define the ticker symbols for S&P 500 and AGG\n",
    "tickers = ['SPY', 'AGG']\n",
    "\n",
    "# Download historical data since 1980\n",
    "data = yf.download(tickers, start='1980-01-01', end='2024-01-01')['Adj Close']\n",
    "\n",
    "# Calculate the daily returns\n",
    "returns = data.pct_change().dropna()\n",
    "\n",
    "# Calculate the rolling correlation with a window of 252 trading days (approximately 1 year)\n",
    "rolling_corr = returns['SPY'].rolling(window=500).corr(returns['AGG'])\n",
    "\n",
    "# Plot the rolling correlation\n",
    "plt.figure(figsize=(14, 7))\n",
    "plt.plot(rolling_corr, label='Rolling Correlation (SPY vs AGG)')\n",
    "plt.title('Rolling Correlation Between S&P 500 (SPY) and AGG')\n",
    "plt.xlabel('Date')\n",
    "plt.ylabel('Rolling Correlation')\n",
    "plt.legend()\n",
    "plt.grid(True)\n",
    "plt.show()"
   ]
  },
  {
   "cell_type": "code",
   "execution_count": 19,
   "id": "e669e62d-f9f7-4916-aa01-fc7b7889da0a",
   "metadata": {},
   "outputs": [
    {
     "name": "stderr",
     "output_type": "stream",
     "text": [
      "[*********************100%%**********************]  2 of 2 completed\n"
     ]
    },
    {
     "data": {
      "text/html": [
       "<div>\n",
       "<style scoped>\n",
       "    .dataframe tbody tr th:only-of-type {\n",
       "        vertical-align: middle;\n",
       "    }\n",
       "\n",
       "    .dataframe tbody tr th {\n",
       "        vertical-align: top;\n",
       "    }\n",
       "\n",
       "    .dataframe thead tr th {\n",
       "        text-align: left;\n",
       "    }\n",
       "\n",
       "    .dataframe thead tr:last-of-type th {\n",
       "        text-align: right;\n",
       "    }\n",
       "</style>\n",
       "<table border=\"1\" class=\"dataframe\">\n",
       "  <thead>\n",
       "    <tr>\n",
       "      <th>Price</th>\n",
       "      <th colspan=\"2\" halign=\"left\">Adj Close</th>\n",
       "      <th colspan=\"2\" halign=\"left\">Close</th>\n",
       "      <th colspan=\"2\" halign=\"left\">High</th>\n",
       "      <th colspan=\"2\" halign=\"left\">Low</th>\n",
       "      <th colspan=\"2\" halign=\"left\">Open</th>\n",
       "      <th colspan=\"2\" halign=\"left\">Volume</th>\n",
       "    </tr>\n",
       "    <tr>\n",
       "      <th>Ticker</th>\n",
       "      <th>AAPL</th>\n",
       "      <th>MSFT</th>\n",
       "      <th>AAPL</th>\n",
       "      <th>MSFT</th>\n",
       "      <th>AAPL</th>\n",
       "      <th>MSFT</th>\n",
       "      <th>AAPL</th>\n",
       "      <th>MSFT</th>\n",
       "      <th>AAPL</th>\n",
       "      <th>MSFT</th>\n",
       "      <th>AAPL</th>\n",
       "      <th>MSFT</th>\n",
       "    </tr>\n",
       "    <tr>\n",
       "      <th>Date</th>\n",
       "      <th></th>\n",
       "      <th></th>\n",
       "      <th></th>\n",
       "      <th></th>\n",
       "      <th></th>\n",
       "      <th></th>\n",
       "      <th></th>\n",
       "      <th></th>\n",
       "      <th></th>\n",
       "      <th></th>\n",
       "      <th></th>\n",
       "      <th></th>\n",
       "    </tr>\n",
       "  </thead>\n",
       "  <tbody>\n",
       "    <tr>\n",
       "      <th>2024-04-01</th>\n",
       "      <td>169.603378</td>\n",
       "      <td>423.043060</td>\n",
       "      <td>170.029999</td>\n",
       "      <td>424.570007</td>\n",
       "      <td>171.250000</td>\n",
       "      <td>427.890015</td>\n",
       "      <td>169.479996</td>\n",
       "      <td>422.220001</td>\n",
       "      <td>171.190002</td>\n",
       "      <td>423.950012</td>\n",
       "      <td>46240500</td>\n",
       "      <td>16316000</td>\n",
       "    </tr>\n",
       "    <tr>\n",
       "      <th>2024-04-02</th>\n",
       "      <td>168.416351</td>\n",
       "      <td>419.924347</td>\n",
       "      <td>168.839996</td>\n",
       "      <td>421.440002</td>\n",
       "      <td>169.339996</td>\n",
       "      <td>422.380005</td>\n",
       "      <td>168.229996</td>\n",
       "      <td>417.839996</td>\n",
       "      <td>169.080002</td>\n",
       "      <td>420.109985</td>\n",
       "      <td>49329500</td>\n",
       "      <td>17912000</td>\n",
       "    </tr>\n",
       "    <tr>\n",
       "      <th>2024-04-03</th>\n",
       "      <td>169.224319</td>\n",
       "      <td>418.937897</td>\n",
       "      <td>169.649994</td>\n",
       "      <td>420.450012</td>\n",
       "      <td>170.679993</td>\n",
       "      <td>423.260010</td>\n",
       "      <td>168.580002</td>\n",
       "      <td>419.089996</td>\n",
       "      <td>168.789993</td>\n",
       "      <td>419.730011</td>\n",
       "      <td>47691700</td>\n",
       "      <td>16502300</td>\n",
       "    </tr>\n",
       "    <tr>\n",
       "      <th>2024-04-04</th>\n",
       "      <td>168.396423</td>\n",
       "      <td>416.377136</td>\n",
       "      <td>168.820007</td>\n",
       "      <td>417.880005</td>\n",
       "      <td>171.919998</td>\n",
       "      <td>428.670013</td>\n",
       "      <td>168.820007</td>\n",
       "      <td>417.570007</td>\n",
       "      <td>170.289993</td>\n",
       "      <td>424.989990</td>\n",
       "      <td>53704400</td>\n",
       "      <td>19370900</td>\n",
       "    </tr>\n",
       "    <tr>\n",
       "      <th>2024-04-05</th>\n",
       "      <td>169.154495</td>\n",
       "      <td>423.989624</td>\n",
       "      <td>169.580002</td>\n",
       "      <td>425.519989</td>\n",
       "      <td>170.389999</td>\n",
       "      <td>426.510010</td>\n",
       "      <td>168.949997</td>\n",
       "      <td>418.320007</td>\n",
       "      <td>169.589996</td>\n",
       "      <td>420.010010</td>\n",
       "      <td>42055200</td>\n",
       "      <td>16544300</td>\n",
       "    </tr>\n",
       "  </tbody>\n",
       "</table>\n",
       "</div>"
      ],
      "text/plain": [
       "Price        Adj Close                   Close                    High  \\\n",
       "Ticker            AAPL        MSFT        AAPL        MSFT        AAPL   \n",
       "Date                                                                     \n",
       "2024-04-01  169.603378  423.043060  170.029999  424.570007  171.250000   \n",
       "2024-04-02  168.416351  419.924347  168.839996  421.440002  169.339996   \n",
       "2024-04-03  169.224319  418.937897  169.649994  420.450012  170.679993   \n",
       "2024-04-04  168.396423  416.377136  168.820007  417.880005  171.919998   \n",
       "2024-04-05  169.154495  423.989624  169.580002  425.519989  170.389999   \n",
       "\n",
       "Price                          Low                    Open              \\\n",
       "Ticker            MSFT        AAPL        MSFT        AAPL        MSFT   \n",
       "Date                                                                     \n",
       "2024-04-01  427.890015  169.479996  422.220001  171.190002  423.950012   \n",
       "2024-04-02  422.380005  168.229996  417.839996  169.080002  420.109985   \n",
       "2024-04-03  423.260010  168.580002  419.089996  168.789993  419.730011   \n",
       "2024-04-04  428.670013  168.820007  417.570007  170.289993  424.989990   \n",
       "2024-04-05  426.510010  168.949997  418.320007  169.589996  420.010010   \n",
       "\n",
       "Price         Volume            \n",
       "Ticker          AAPL      MSFT  \n",
       "Date                            \n",
       "2024-04-01  46240500  16316000  \n",
       "2024-04-02  49329500  17912000  \n",
       "2024-04-03  47691700  16502300  \n",
       "2024-04-04  53704400  19370900  \n",
       "2024-04-05  42055200  16544300  "
      ]
     },
     "execution_count": 19,
     "metadata": {},
     "output_type": "execute_result"
    }
   ],
   "source": []
  },
  {
   "cell_type": "code",
   "execution_count": 20,
   "id": "9610978f-8cb1-47be-a4fd-e37b4101a5f0",
   "metadata": {},
   "outputs": [],
   "source": []
  },
  {
   "cell_type": "code",
   "execution_count": 23,
   "id": "e5dee0b1-e2c9-449a-b5ce-2df50b5f7fbd",
   "metadata": {},
   "outputs": [
    {
     "data": {
      "text/plain": [
       "['AOS', 'ABT', 'ABBV', 'ACN', 'ADBE', 'AMD', 'AES', 'AFL', 'A']"
      ]
     },
     "execution_count": 23,
     "metadata": {},
     "output_type": "execute_result"
    }
   ],
   "source": []
  },
  {
   "cell_type": "code",
   "execution_count": 25,
   "id": "fab7b98a-1d7b-4688-be3d-5598c49189e5",
   "metadata": {},
   "outputs": [],
   "source": [
    "\n"
   ]
  },
  {
   "cell_type": "code",
   "execution_count": 10,
   "id": "2dd6abcf-4b1f-409d-b7b3-95eee332ea51",
   "metadata": {},
   "outputs": [
    {
     "name": "stderr",
     "output_type": "stream",
     "text": [
      "[*********************100%%**********************]  501 of 501 completed\n",
      "\n",
      "1 Failed download:\n",
      "['SW']: YFChartError(\"%ticker%: Data doesn't exist for startDate = 946702800, endDate = 1714536000\")\n"
     ]
    }
   ],
   "source": []
  },
  {
   "cell_type": "code",
   "execution_count": 23,
   "id": "0c8161c2-0efe-4160-830d-2b1306a0077e",
   "metadata": {},
   "outputs": [],
   "source": []
  },
  {
   "cell_type": "code",
   "execution_count": null,
   "id": "74f5004f",
   "metadata": {},
   "outputs": [],
   "source": []
  },
  {
   "cell_type": "code",
   "execution_count": 106,
   "id": "31ecdce0-5c05-4157-b9c1-bdbe43c13855",
   "metadata": {},
   "outputs": [
    {
     "data": {
      "text/plain": [
       "count   4,559.0000\n",
       "mean        3.4920\n",
       "std         5.1254\n",
       "min         1.0000\n",
       "25%         1.0000\n",
       "50%         2.0000\n",
       "75%         4.0000\n",
       "max       111.0000\n",
       "Name: count, dtype: float64"
      ]
     },
     "execution_count": 106,
     "metadata": {},
     "output_type": "execute_result"
    }
   ],
   "source": []
  },
  {
   "cell_type": "code",
   "execution_count": 107,
   "id": "82a64a2e-1844-4126-9c12-532b9cbb097c",
   "metadata": {},
   "outputs": [
    {
     "data": {
      "image/png": "[encoded data removed]",
      "text/plain": [
       "<Figure size 640x480 with 1 Axes>"
      ]
     },
     "metadata": {},
     "output_type": "display_data"
    }
   ],
   "source": []
  },
  {
   "cell_type": "code",
   "execution_count": 108,
   "id": "ef78ab6a-5220-4587-94ae-bfded955732d",
   "metadata": {},
   "outputs": [
    {
     "data": {
      "image/png": "[encoded data removed]",
      "text/plain": [
       "<Figure size 640x480 with 1 Axes>"
      ]
     },
     "metadata": {},
     "output_type": "display_data"
    }
   ],
   "source": [
    "cum_returns.plot()\n",
    "# Customizing the plot\n",
    "plt.title('Cumulative Returns Over Time', fontsize=16, fontweight='bold')\n",
    "plt.xlabel('Date', fontsize=14)\n",
    "plt.ylabel('Cumulative Return', fontsize=14)\n",
    "plt.grid(True)\n",
    "plt.xticks(rotation=45)\n",
    "plt.legend(title_fontsize='13', fontsize='11')\n",
    "\n",
    "# Display the plot\n",
    "plt.show()"
   ]
  },
  {
   "cell_type": "code",
   "execution_count": 109,
   "id": "09c644e2-b7b9-4c41-9dab-4b579c24de05",
   "metadata": {
    "scrolled": true
   },
   "outputs": [],
   "source": []
  },
  {
   "cell_type": "code",
   "execution_count": 110,
   "id": "7e645bba-c61a-4b99-b32d-440dcd0cad83",
   "metadata": {},
   "outputs": [],
   "source": []
  },
  {
   "cell_type": "markdown",
   "id": "a05ec4f9-312e-48b3-a599-91a3ff0d47f2",
   "metadata": {},
   "source": [
    "# DEMO 6\n"
   ]
  },
  {
   "cell_type": "code",
   "execution_count": 13,
   "id": "64aa7915-e92c-46a7-bfd1-ee8bf44bb4ea",
   "metadata": {},
   "outputs": [
    {
     "ename": "NameError",
     "evalue": "name 'np' is not defined",
     "output_type": "error",
     "traceback": [
      "\u001b[1;31m---------------------------------------------------------------------------\u001b[0m",
      "\u001b[1;31mNameError\u001b[0m                                 Traceback (most recent call last)",
      "Cell \u001b[1;32mIn[13], line 2\u001b[0m\n\u001b[0;32m      1\u001b[0m \u001b[38;5;66;03m# Create the predicted and true values of F_1_d_returns as being larger or smaller than 0\u001b[39;00m\n\u001b[1;32m----> 2\u001b[0m total_returns[\u001b[38;5;124m'\u001b[39m\u001b[38;5;124my_test\u001b[39m\u001b[38;5;124m'\u001b[39m] \u001b[38;5;241m=\u001b[39m np\u001b[38;5;241m.\u001b[39mwhere(total_returns[\u001b[38;5;124m'\u001b[39m\u001b[38;5;124mF_1_d_returns\u001b[39m\u001b[38;5;124m'\u001b[39m]\u001b[38;5;241m>\u001b[39m\u001b[38;5;241m0\u001b[39m,\u001b[38;5;241m1\u001b[39m,\u001b[38;5;241m0\u001b[39m)\n\u001b[0;32m      3\u001b[0m total_returns[\u001b[38;5;124m'\u001b[39m\u001b[38;5;124my_pred\u001b[39m\u001b[38;5;124m'\u001b[39m] \u001b[38;5;241m=\u001b[39m total_returns[\u001b[38;5;124m'\u001b[39m\u001b[38;5;124mPosition\u001b[39m\u001b[38;5;124m'\u001b[39m]\n\u001b[0;32m      5\u001b[0m \u001b[38;5;66;03m# Define actual ansd predicted signals as lists\u001b[39;00m\n",
      "\u001b[1;31mNameError\u001b[0m: name 'np' is not defined"
     ]
    }
   ],
   "source": [
    "# Create the predicted and true values of F_1_d_returns as being larger or smaller than 0\n",
    "total_returns['y_test'] = np.where(total_returns['F_1_d_returns']>0,1,0)\n",
    "total_returns['y_pred'] = total_returns['Position']\n",
    "\n",
    "# Define actual ansd predicted signals as lists\n",
    "y_test = total_returns['y_test'].tolist()\n",
    "y_pred = total_returns['y_pred'].tolist()\n"
   ]
  },
  {
   "cell_type": "code",
   "execution_count": 776,
   "id": "2dc27e96-63e3-439b-a38d-dd5f6ccefecc",
   "metadata": {},
   "outputs": [
    {
     "data": {
      "text/html": [
       "<div>\n",
       "<style scoped>\n",
       "    .dataframe tbody tr th:only-of-type {\n",
       "        vertical-align: middle;\n",
       "    }\n",
       "\n",
       "    .dataframe tbody tr th {\n",
       "        vertical-align: top;\n",
       "    }\n",
       "\n",
       "    .dataframe thead th {\n",
       "        text-align: right;\n",
       "    }\n",
       "</style>\n",
       "<table border=\"1\" class=\"dataframe\">\n",
       "  <thead>\n",
       "    <tr style=\"text-align: right;\">\n",
       "      <th></th>\n",
       "      <th>Metric</th>\n",
       "      <th>Value</th>\n",
       "    </tr>\n",
       "  </thead>\n",
       "  <tbody>\n",
       "    <tr>\n",
       "      <th>0</th>\n",
       "      <td>Accuracy</td>\n",
       "      <td>0.4866</td>\n",
       "    </tr>\n",
       "    <tr>\n",
       "      <th>1</th>\n",
       "      <td>Precision</td>\n",
       "      <td>0.5300</td>\n",
       "    </tr>\n",
       "    <tr>\n",
       "      <th>2</th>\n",
       "      <td>Recall</td>\n",
       "      <td>0.0061</td>\n",
       "    </tr>\n",
       "  </tbody>\n",
       "</table>\n",
       "</div>"
      ],
      "text/plain": [
       "      Metric  Value\n",
       "0   Accuracy 0.4866\n",
       "1  Precision 0.5300\n",
       "2     Recall 0.0061"
      ]
     },
     "execution_count": 776,
     "metadata": {},
     "output_type": "execute_result"
    }
   ],
   "source": [
    "# Calculate accuracy, precision, and recall\n",
    "from sklearn.metrics import accuracy_score, precision_score, recall_score\n",
    "\n",
    "accuracy = accuracy_score(y_test, y_pred)\n",
    "precision = precision_score(y_test, y_pred)\n",
    "recall = recall_score(y_test, y_pred)\n",
    "\n",
    "# Create a DataFrame for the metrics\n",
    "metrics_df = pd.DataFrame({\n",
    "    'Metric': ['Accuracy', 'Precision', 'Recall'],\n",
    "    'Value': [accuracy, precision, recall]\n",
    "})\n",
    "\n",
    "metrics_df"
   ]
  },
  {
   "cell_type": "code",
   "execution_count": 779,
   "id": "9c07a661-95c1-47cb-b52a-4fe7e19b7adc",
   "metadata": {},
   "outputs": [
    {
     "data": {
      "text/plain": [
       "y_test\n",
       "1   51.3791\n",
       "0   48.6209\n",
       "Name: count, dtype: float64"
      ]
     },
     "execution_count": 779,
     "metadata": {},
     "output_type": "execute_result"
    }
   ],
   "source": [
    "# Count the number of each class\n",
    "counts = total_returns['y_test'].value_counts()\n",
    "\n",
    "# Calculate the share of each class\n",
    "total = counts.sum()\n",
    "shares = counts / total * 100\n",
    "shares"
   ]
  },
  {
   "cell_type": "code",
   "execution_count": 113,
   "id": "a288d9a9-dd11-4f71-ad65-019da4ccbf02",
   "metadata": {},
   "outputs": [],
   "source": [
    "# Define trading strategy based on RSI\n",
    "def trading_strategy(rsi):\n",
    "    if rsi < 60:\n",
    "        return  1 # Go long\n",
    "    else:\n",
    "        return 0\n",
    "        \n",
    "# Apply trading strategy to each RSI value\n",
    "total_returns['Position'] = total_returns[model_name].transform(trading_strategy)\n",
    "# Create Returns for each Trade\n",
    "total_returns[f'{model_name}_Return'] = total_returns['F_1_d_returns'] *  total_returns['Position'] \n"
   ]
  },
  {
   "cell_type": "code",
   "execution_count": 114,
   "id": "2b10c401-c9bf-4f11-8b35-4cbb32472310",
   "metadata": {},
   "outputs": [
    {
     "data": {
      "text/html": [
       "<div>\n",
       "<style scoped>\n",
       "    .dataframe tbody tr th:only-of-type {\n",
       "        vertical-align: middle;\n",
       "    }\n",
       "\n",
       "    .dataframe tbody tr th {\n",
       "        vertical-align: top;\n",
       "    }\n",
       "\n",
       "    .dataframe thead th {\n",
       "        text-align: right;\n",
       "    }\n",
       "</style>\n",
       "<table border=\"1\" class=\"dataframe\">\n",
       "  <thead>\n",
       "    <tr style=\"text-align: right;\">\n",
       "      <th></th>\n",
       "      <th></th>\n",
       "      <th>F_1_d_returns</th>\n",
       "      <th>1_d_returns</th>\n",
       "      <th>RSI</th>\n",
       "      <th>Position</th>\n",
       "      <th>RSI_Return</th>\n",
       "    </tr>\n",
       "    <tr>\n",
       "      <th>Ticker</th>\n",
       "      <th>Date</th>\n",
       "      <th></th>\n",
       "      <th></th>\n",
       "      <th></th>\n",
       "      <th></th>\n",
       "      <th></th>\n",
       "    </tr>\n",
       "  </thead>\n",
       "  <tbody>\n",
       "    <tr>\n",
       "      <th rowspan=\"5\" valign=\"top\">A</th>\n",
       "      <th>2000-01-05</th>\n",
       "      <td>-0.0381</td>\n",
       "      <td>-0.0620</td>\n",
       "      <td>NaN</td>\n",
       "      <td>0</td>\n",
       "      <td>-0.0000</td>\n",
       "    </tr>\n",
       "    <tr>\n",
       "      <th>2000-01-06</th>\n",
       "      <td>0.0833</td>\n",
       "      <td>-0.0381</td>\n",
       "      <td>NaN</td>\n",
       "      <td>0</td>\n",
       "      <td>0.0000</td>\n",
       "    </tr>\n",
       "    <tr>\n",
       "      <th>2000-01-07</th>\n",
       "      <td>0.0606</td>\n",
       "      <td>0.0833</td>\n",
       "      <td>NaN</td>\n",
       "      <td>0</td>\n",
       "      <td>0.0000</td>\n",
       "    </tr>\n",
       "    <tr>\n",
       "      <th>2000-01-10</th>\n",
       "      <td>-0.0136</td>\n",
       "      <td>0.0606</td>\n",
       "      <td>NaN</td>\n",
       "      <td>0</td>\n",
       "      <td>-0.0000</td>\n",
       "    </tr>\n",
       "    <tr>\n",
       "      <th>2000-01-11</th>\n",
       "      <td>-0.0202</td>\n",
       "      <td>-0.0136</td>\n",
       "      <td>NaN</td>\n",
       "      <td>0</td>\n",
       "      <td>-0.0000</td>\n",
       "    </tr>\n",
       "  </tbody>\n",
       "</table>\n",
       "</div>"
      ],
      "text/plain": [
       "                   F_1_d_returns  1_d_returns  RSI  Position  RSI_Return\n",
       "Ticker Date                                                             \n",
       "A      2000-01-05        -0.0381      -0.0620  NaN         0     -0.0000\n",
       "       2000-01-06         0.0833      -0.0381  NaN         0      0.0000\n",
       "       2000-01-07         0.0606       0.0833  NaN         0      0.0000\n",
       "       2000-01-10        -0.0136       0.0606  NaN         0     -0.0000\n",
       "       2000-01-11        -0.0202      -0.0136  NaN         0     -0.0000"
      ]
     },
     "execution_count": 114,
     "metadata": {},
     "output_type": "execute_result"
    }
   ],
   "source": [
    "total_returns.head()"
   ]
  },
  {
   "cell_type": "code",
   "execution_count": 115,
   "id": "5ec935fd-d9d1-4364-89f9-9678f098b055",
   "metadata": {},
   "outputs": [
    {
     "name": "stdout",
     "output_type": "stream",
     "text": [
      "The CAGR is: 14.98%\n",
      "Sharpe Ratio of Strategy: 0.84\n"
     ]
    },
    {
     "data": {},
     "metadata": {},
     "output_type": "display_data"
    },
    {
     "data": {
      "application/vnd.holoviews_exec.v0+json": "",
      "text/html": [
       "<div id='p1317'>\n",
       "  <div id=\"b6767bc0-212c-43ab-b409-3bcdda4fe26c\" data-root-id=\"p1317\" style=\"display: contents;\"></div>\n",
       "</div>\n",
       "<script type=\"application/javascript\">(function(root) {\n",
       "  var docs_json = {\"3cf958e9-af7c-4a3b-8ce4-caae37af006f\":{\"version\":\"3.3.4\",\"title\":\"Bokeh Application\",\"roots\":[{\"type\":\"object\",\"name\":\"Row\",\"id\":\"p1317\",\"attributes\":{\"name\":\"Row01683\",\"tags\":[\"embedded\"],\"stylesheets\":[\"\\n:host(.pn-loading.pn-arc):before, .pn-loading.pn-arc:before {\\n  background-image: url(\\\"data:image/svg+xml;base64,PHN2ZyB4bWxucz0iaHR0cDovL3d3dy53My5vcmcvMjAwMC9zdmciIHN0eWxlPSJtYXJnaW46IGF1dG87IGJhY2tncm91bmQ6IG5vbmU7IGRpc3BsYXk6IGJsb2NrOyBzaGFwZS1yZW5kZXJpbmc6IGF1dG87IiB2aWV3Qm94PSIwIDAgMTAwIDEwMCIgcHJlc2VydmVBc3BlY3RSYXRpbz0ieE1pZFlNaWQiPiAgPGNpcmNsZSBjeD0iNTAiIGN5PSI1MCIgZmlsbD0ibm9uZSIgc3Ryb2tlPSIjYzNjM2MzIiBzdHJva2Utd2lkdGg9IjEwIiByPSIzNSIgc3Ryb2tlLWRhc2hhcnJheT0iMTY0LjkzMzYxNDMxMzQ2NDE1IDU2Ljk3Nzg3MTQzNzgyMTM4Ij4gICAgPGFuaW1hdGVUcmFuc2Zvcm0gYXR0cmlidXRlTmFtZT0idHJhbnNmb3JtIiB0eXBlPSJyb3RhdGUiIHJlcGVhdENvdW50PSJpbmRlZmluaXRlIiBkdXI9IjFzIiB2YWx1ZXM9IjAgNTAgNTA7MzYwIDUwIDUwIiBrZXlUaW1lcz0iMDsxIj48L2FuaW1hdGVUcmFuc2Zvcm0+ICA8L2NpcmNsZT48L3N2Zz4=\\\");\\n  background-size: auto calc(min(50%, 400px));\\n}\",{\"type\":\"object\",\"name\":\"ImportedStyleSheet\",\"id\":\"p1320\",\"attributes\":{\"url\":\"https://cdn.holoviz.org/panel/1.3.8/dist/css/loading.css\"}},{\"type\":\"object\",\"name\":\"ImportedStyleSheet\",\"id\":\"p1379\",\"attributes\":{\"url\":\"https://cdn.holoviz.org/panel/1.3.8/dist/css/listpanel.css\"}},{\"type\":\"object\",\"name\":\"ImportedStyleSheet\",\"id\":\"p1318\",\"attributes\":{\"url\":\"https://cdn.holoviz.org/panel/1.3.8/dist/bundled/theme/default.css\"}},{\"type\":\"object\",\"name\":\"ImportedStyleSheet\",\"id\":\"p1319\",\"attributes\":{\"url\":\"https://cdn.holoviz.org/panel/1.3.8/dist/bundled/theme/native.css\"}}],\"min_width\":700,\"margin\":0,\"sizing_mode\":\"stretch_width\",\"align\":\"start\",\"children\":[{\"type\":\"object\",\"name\":\"Spacer\",\"id\":\"p1321\",\"attributes\":{\"name\":\"HSpacer01690\",\"stylesheets\":[\"\\n:host(.pn-loading.pn-arc):before, .pn-loading.pn-arc:before {\\n  background-image: url(\\\"data:image/svg+xml;base64,PHN2ZyB4bWxucz0iaHR0cDovL3d3dy53My5vcmcvMjAwMC9zdmciIHN0eWxlPSJtYXJnaW46IGF1dG87IGJhY2tncm91bmQ6IG5vbmU7IGRpc3BsYXk6IGJsb2NrOyBzaGFwZS1yZW5kZXJpbmc6IGF1dG87IiB2aWV3Qm94PSIwIDAgMTAwIDEwMCIgcHJlc2VydmVBc3BlY3RSYXRpbz0ieE1pZFlNaWQiPiAgPGNpcmNsZSBjeD0iNTAiIGN5PSI1MCIgZmlsbD0ibm9uZSIgc3Ryb2tlPSIjYzNjM2MzIiBzdHJva2Utd2lkdGg9IjEwIiByPSIzNSIgc3Ryb2tlLWRhc2hhcnJheT0iMTY0LjkzMzYxNDMxMzQ2NDE1IDU2Ljk3Nzg3MTQzNzgyMTM4Ij4gICAgPGFuaW1hdGVUcmFuc2Zvcm0gYXR0cmlidXRlTmFtZT0idHJhbnNmb3JtIiB0eXBlPSJyb3RhdGUiIHJlcGVhdENvdW50PSJpbmRlZmluaXRlIiBkdXI9IjFzIiB2YWx1ZXM9IjAgNTAgNTA7MzYwIDUwIDUwIiBrZXlUaW1lcz0iMDsxIj48L2FuaW1hdGVUcmFuc2Zvcm0+ICA8L2NpcmNsZT48L3N2Zz4=\\\");\\n  background-size: auto calc(min(50%, 400px));\\n}\",{\"id\":\"p1320\"},{\"id\":\"p1318\"},{\"id\":\"p1319\"}],\"margin\":0,\"sizing_mode\":\"stretch_width\",\"align\":\"start\"}},{\"type\":\"object\",\"name\":\"Figure\",\"id\":\"p1329\",\"attributes\":{\"width\":700,\"height\":300,\"margin\":[5,10],\"sizing_mode\":\"fixed\",\"align\":\"start\",\"x_range\":{\"type\":\"object\",\"name\":\"FactorRange\",\"id\":\"p1322\",\"attributes\":{\"tags\":[[[\"Date\",\"Date\",null]],[]],\"factors\":[[\"2000\",\"RSI_Return\"],[\"2000\",\"SP&500\"],[\"2001\",\"RSI_Return\"],[\"2001\",\"SP&500\"],[\"2002\",\"RSI_Return\"],[\"2002\",\"SP&500\"],[\"2003\",\"RSI_Return\"],[\"2003\",\"SP&500\"],[\"2004\",\"RSI_Return\"],[\"2004\",\"SP&500\"],[\"2005\",\"RSI_Return\"],[\"2005\",\"SP&500\"],[\"2006\",\"RSI_Return\"],[\"2006\",\"SP&500\"],[\"2007\",\"RSI_Return\"],[\"2007\",\"SP&500\"],[\"2008\",\"RSI_Return\"],[\"2008\",\"SP&500\"],[\"2009\",\"RSI_Return\"],[\"2009\",\"SP&500\"],[\"2010\",\"RSI_Return\"],[\"2010\",\"SP&500\"],[\"2011\",\"RSI_Return\"],[\"2011\",\"SP&500\"],[\"2012\",\"RSI_Return\"],[\"2012\",\"SP&500\"],[\"2013\",\"RSI_Return\"],[\"2013\",\"SP&500\"],[\"2014\",\"RSI_Return\"],[\"2014\",\"SP&500\"],[\"2015\",\"RSI_Return\"],[\"2015\",\"SP&500\"],[\"2016\",\"RSI_Return\"],[\"2016\",\"SP&500\"],[\"2017\",\"RSI_Return\"],[\"2017\",\"SP&500\"],[\"2018\",\"RSI_Return\"],[\"2018\",\"SP&500\"],[\"2019\",\"RSI_Return\"],[\"2019\",\"SP&500\"],[\"2020\",\"RSI_Return\"],[\"2020\",\"SP&500\"],[\"2021\",\"RSI_Return\"],[\"2021\",\"SP&500\"],[\"2022\",\"RSI_Return\"],[\"2022\",\"SP&500\"],[\"2023\",\"RSI_Return\"],[\"2023\",\"SP&500\"],[\"2024\",\"RSI_Return\"],[\"2024\",\"SP&500\"]]}},\"y_range\":{\"type\":\"object\",\"name\":\"Range1d\",\"id\":\"p1323\",\"attributes\":{\"tags\":[[[\"value\",\"value\",null]],{\"type\":\"map\",\"entries\":[[\"invert_yaxis\",false],[\"autorange\",false]]}],\"start\":-34.08909127983128,\"end\":54.661996999652644,\"reset_start\":-34.08909127983128,\"reset_end\":54.661996999652644}},\"x_scale\":{\"type\":\"object\",\"name\":\"CategoricalScale\",\"id\":\"p1339\"},\"y_scale\":{\"type\":\"object\",\"name\":\"LinearScale\",\"id\":\"p1340\"},\"title\":{\"type\":\"object\",\"name\":\"Title\",\"id\":\"p1332\",\"attributes\":{\"text_color\":\"black\",\"text_font_size\":\"12pt\"}},\"renderers\":[{\"type\":\"object\",\"name\":\"GlyphRenderer\",\"id\":\"p1370\",\"attributes\":{\"data_source\":{\"type\":\"object\",\"name\":\"ColumnDataSource\",\"id\":\"p1361\",\"attributes\":{\"selected\":{\"type\":\"object\",\"name\":\"Selection\",\"id\":\"p1362\",\"attributes\":{\"indices\":[],\"line_indices\":[]}},\"selection_policy\":{\"type\":\"object\",\"name\":\"UnionRenderers\",\"id\":\"p1363\"},\"data\":{\"type\":\"map\",\"entries\":[[\"xoffsets\",[[\"2000\",\"SP&500\"],[\"2001\",\"SP&500\"],[\"2002\",\"SP&500\"],[\"2003\",\"SP&500\"],[\"2004\",\"SP&500\"],[\"2005\",\"SP&500\"],[\"2006\",\"SP&500\"],[\"2007\",\"SP&500\"],[\"2008\",\"SP&500\"],[\"2009\",\"SP&500\"],[\"2010\",\"SP&500\"],[\"2011\",\"SP&500\"],[\"2012\",\"SP&500\"],[\"2013\",\"SP&500\"],[\"2014\",\"SP&500\"],[\"2015\",\"SP&500\"],[\"2016\",\"SP&500\"],[\"2017\",\"SP&500\"],[\"2018\",\"SP&500\"],[\"2019\",\"SP&500\"],[\"2020\",\"SP&500\"],[\"2021\",\"SP&500\"],[\"2022\",\"SP&500\"],[\"2023\",\"SP&500\"],[\"2024\",\"SP&500\"],[\"2000\",\"RSI_Return\"],[\"2001\",\"RSI_Return\"],[\"2002\",\"RSI_Return\"],[\"2003\",\"RSI_Return\"],[\"2004\",\"RSI_Return\"],[\"2005\",\"RSI_Return\"],[\"2006\",\"RSI_Return\"],[\"2007\",\"RSI_Return\"],[\"2008\",\"RSI_Return\"],[\"2009\",\"RSI_Return\"],[\"2010\",\"RSI_Return\"],[\"2011\",\"RSI_Return\"],[\"2012\",\"RSI_Return\"],[\"2013\",\"RSI_Return\"],[\"2014\",\"RSI_Return\"],[\"2015\",\"RSI_Return\"],[\"2016\",\"RSI_Return\"],[\"2017\",\"RSI_Return\"],[\"2018\",\"RSI_Return\"],[\"2019\",\"RSI_Return\"],[\"2020\",\"RSI_Return\"],[\"2021\",\"RSI_Return\"],[\"2022\",\"RSI_Return\"],[\"2023\",\"RSI_Return\"],[\"2024\",\"RSI_Return\"]]],[\"value\",{\"type\":\"ndarray\",\"array\":{\"type\":\"bytes\",\"data\":\"nkTXZ+O9QEAejXfl4BQyQCXloHk5zxPAPd0PZp53R0C2EgPehFo5QN0wQi4UzzJA3TcPVLCuNUDM0OsaeosiQF2AyWhzsTrAq+nlrQ6iR0C8iEVaMHg6QO528bPYmBVAq5un7aKuOEA+Cfy/p/pBQN6Hf5/03DRAEH8B9L2e/j8AK6WBeZ81QI1XZ2s/ijpAoB4sjKGvDsA3GM0MhCtCQOc2B/y4bDNABMT01DFkQUDhMb+49dYhwKqT0YEfcTJAmqP2pxDZC0Bw4CmqZG87QLMZEbnjJDFAvNzJyKNm+r+I7mV9SStCQB1w0NQgYDVACChpPYicMEBAdOL8d9YwQBYw/KxdjiJA9g0hqEVrOMCmrMS9vW9EQOshWLVttjZANqmvD6oJF0AZJy32bvIzQKPV8m2YSz5AArNQhKT/M0DQArmQbq4GQKByf9VYkTJAIPN87oNcNkAeplXtLKAHwD5FdZP+U0FACKrPmHzqK0Do/fihGJw/QHSrpy3RpyLANLk8XKcgLkCk3xhHpfYLQA==\"},\"shape\":[50],\"dtype\":\"float64\",\"order\":\"little\"}],[\"Date\",[\"2000\",\"2001\",\"2002\",\"2003\",\"2004\",\"2005\",\"2006\",\"2007\",\"2008\",\"2009\",\"2010\",\"2011\",\"2012\",\"2013\",\"2014\",\"2015\",\"2016\",\"2017\",\"2018\",\"2019\",\"2020\",\"2021\",\"2022\",\"2023\",\"2024\",\"2000\",\"2001\",\"2002\",\"2003\",\"2004\",\"2005\",\"2006\",\"2007\",\"2008\",\"2009\",\"2010\",\"2011\",\"2012\",\"2013\",\"2014\",\"2015\",\"2016\",\"2017\",\"2018\",\"2019\",\"2020\",\"2021\",\"2022\",\"2023\",\"2024\"]],[\"Variable\",[\"SP&500\",\"SP&500\",\"SP&500\",\"SP&500\",\"SP&500\",\"SP&500\",\"SP&500\",\"SP&500\",\"SP&500\",\"SP&500\",\"SP&500\",\"SP&500\",\"SP&500\",\"SP&500\",\"SP&500\",\"SP&500\",\"SP&500\",\"SP&500\",\"SP&500\",\"SP&500\",\"SP&500\",\"SP&500\",\"SP&500\",\"SP&500\",\"SP&500\",\"RSI_Return\",\"RSI_Return\",\"RSI_Return\",\"RSI_Return\",\"RSI_Return\",\"RSI_Return\",\"RSI_Return\",\"RSI_Return\",\"RSI_Return\",\"RSI_Return\",\"RSI_Return\",\"RSI_Return\",\"RSI_Return\",\"RSI_Return\",\"RSI_Return\",\"RSI_Return\",\"RSI_Return\",\"RSI_Return\",\"RSI_Return\",\"RSI_Return\",\"RSI_Return\",\"RSI_Return\",\"RSI_Return\",\"RSI_Return\",\"RSI_Return\"]]]}}},\"view\":{\"type\":\"object\",\"name\":\"CDSView\",\"id\":\"p1371\",\"attributes\":{\"filter\":{\"type\":\"object\",\"name\":\"AllIndices\",\"id\":\"p1372\"}}},\"glyph\":{\"type\":\"object\",\"name\":\"VBar\",\"id\":\"p1367\",\"attributes\":{\"tags\":[\"apply_ranges\"],\"x\":{\"type\":\"field\",\"field\":\"xoffsets\"},\"width\":{\"type\":\"value\",\"value\":0.8},\"top\":{\"type\":\"field\",\"field\":\"value\"},\"fill_color\":{\"type\":\"field\",\"field\":\"Variable\",\"transform\":{\"type\":\"object\",\"name\":\"CategoricalColorMapper\",\"id\":\"p1360\",\"attributes\":{\"palette\":[\"#30a2da\",\"#fc4f30\"],\"factors\":[\"SP&500\",\"RSI_Return\"]}}},\"hatch_color\":{\"type\":\"field\",\"field\":\"Variable\",\"transform\":{\"id\":\"p1360\"}}}},\"selection_glyph\":{\"type\":\"object\",\"name\":\"VBar\",\"id\":\"p1375\",\"attributes\":{\"tags\":[\"apply_ranges\"],\"x\":{\"type\":\"field\",\"field\":\"xoffsets\"},\"width\":{\"type\":\"value\",\"value\":0.8},\"bottom\":{\"type\":\"value\",\"value\":0},\"top\":{\"type\":\"field\",\"field\":\"value\"},\"line_color\":{\"type\":\"value\",\"value\":\"black\"},\"line_alpha\":{\"type\":\"value\",\"value\":1.0},\"line_width\":{\"type\":\"value\",\"value\":1},\"line_join\":{\"type\":\"value\",\"value\":\"bevel\"},\"line_cap\":{\"type\":\"value\",\"value\":\"butt\"},\"line_dash\":{\"type\":\"value\",\"value\":[]},\"line_dash_offset\":{\"type\":\"value\",\"value\":0},\"fill_color\":{\"type\":\"field\",\"field\":\"Variable\",\"transform\":{\"id\":\"p1360\"}},\"fill_alpha\":{\"type\":\"value\",\"value\":1.0},\"hatch_color\":{\"type\":\"field\",\"field\":\"Variable\",\"transform\":{\"id\":\"p1360\"}},\"hatch_alpha\":{\"type\":\"value\",\"value\":1.0},\"hatch_scale\":{\"type\":\"value\",\"value\":12.0},\"hatch_pattern\":{\"type\":\"value\",\"value\":null},\"hatch_weight\":{\"type\":\"value\",\"value\":1.0}}},\"nonselection_glyph\":{\"type\":\"object\",\"name\":\"VBar\",\"id\":\"p1368\",\"attributes\":{\"tags\":[\"apply_ranges\"],\"x\":{\"type\":\"field\",\"field\":\"xoffsets\"},\"width\":{\"type\":\"value\",\"value\":0.8},\"top\":{\"type\":\"field\",\"field\":\"value\"},\"line_alpha\":{\"type\":\"value\",\"value\":0.1},\"fill_color\":{\"type\":\"field\",\"field\":\"Variable\",\"transform\":{\"id\":\"p1360\"}},\"fill_alpha\":{\"type\":\"value\",\"value\":0.1},\"hatch_color\":{\"type\":\"field\",\"field\":\"Variable\",\"transform\":{\"id\":\"p1360\"}},\"hatch_alpha\":{\"type\":\"value\",\"value\":0.1}}},\"muted_glyph\":{\"type\":\"object\",\"name\":\"VBar\",\"id\":\"p1369\",\"attributes\":{\"tags\":[\"apply_ranges\"],\"x\":{\"type\":\"field\",\"field\":\"xoffsets\"},\"width\":{\"type\":\"value\",\"value\":0.8},\"top\":{\"type\":\"field\",\"field\":\"value\"},\"line_alpha\":{\"type\":\"value\",\"value\":0.2},\"fill_color\":{\"type\":\"field\",\"field\":\"Variable\",\"transform\":{\"id\":\"p1360\"}},\"fill_alpha\":{\"type\":\"value\",\"value\":0.2},\"hatch_color\":{\"type\":\"field\",\"field\":\"Variable\",\"transform\":{\"id\":\"p1360\"}},\"hatch_alpha\":{\"type\":\"value\",\"value\":0.2}}}}}],\"toolbar\":{\"type\":\"object\",\"name\":\"Toolbar\",\"id\":\"p1338\",\"attributes\":{\"tools\":[{\"type\":\"object\",\"name\":\"WheelZoomTool\",\"id\":\"p1327\",\"attributes\":{\"tags\":[\"hv_created\"],\"renderers\":\"auto\",\"zoom_together\":\"none\"}},{\"type\":\"object\",\"name\":\"HoverTool\",\"id\":\"p1328\",\"attributes\":{\"tags\":[\"hv_created\"],\"renderers\":[{\"id\":\"p1370\"}],\"tooltips\":[[\"Date\",\"@{Date}\"],[\"Variable\",\"@{Variable}\"],[\"value\",\"@{value}\"]]}},{\"type\":\"object\",\"name\":\"SaveTool\",\"id\":\"p1351\"},{\"type\":\"object\",\"name\":\"PanTool\",\"id\":\"p1352\"},{\"type\":\"object\",\"name\":\"BoxZoomTool\",\"id\":\"p1353\",\"attributes\":{\"overlay\":{\"type\":\"object\",\"name\":\"BoxAnnotation\",\"id\":\"p1354\",\"attributes\":{\"syncable\":false,\"level\":\"overlay\",\"visible\":false,\"left\":{\"type\":\"number\",\"value\":\"nan\"},\"right\":{\"type\":\"number\",\"value\":\"nan\"},\"top\":{\"type\":\"number\",\"value\":\"nan\"},\"bottom\":{\"type\":\"number\",\"value\":\"nan\"},\"left_units\":\"canvas\",\"right_units\":\"canvas\",\"top_units\":\"canvas\",\"bottom_units\":\"canvas\",\"line_color\":\"black\",\"line_alpha\":1.0,\"line_width\":2,\"line_dash\":[4,4],\"fill_color\":\"lightgrey\",\"fill_alpha\":0.5}}}},{\"type\":\"object\",\"name\":\"ResetTool\",\"id\":\"p1359\"}],\"active_drag\":{\"id\":\"p1352\"},\"active_scroll\":{\"id\":\"p1327\"}}},\"left\":[{\"type\":\"object\",\"name\":\"LinearAxis\",\"id\":\"p1346\",\"attributes\":{\"ticker\":{\"type\":\"object\",\"name\":\"BasicTicker\",\"id\":\"p1347\",\"attributes\":{\"mantissas\":[1,2,5]}},\"formatter\":{\"type\":\"object\",\"name\":\"BasicTickFormatter\",\"id\":\"p1348\"},\"axis_label\":\"\",\"major_label_policy\":{\"type\":\"object\",\"name\":\"AllLabels\",\"id\":\"p1349\"}}}],\"below\":[{\"type\":\"object\",\"name\":\"CategoricalAxis\",\"id\":\"p1341\",\"attributes\":{\"ticker\":{\"type\":\"object\",\"name\":\"CategoricalTicker\",\"id\":\"p1342\"},\"formatter\":{\"type\":\"object\",\"name\":\"CategoricalTickFormatter\",\"id\":\"p1343\"},\"axis_label\":\"Date\",\"major_label_policy\":{\"type\":\"object\",\"name\":\"AllLabels\",\"id\":\"p1344\"},\"major_label_text_alpha\":0,\"major_label_text_font_size\":\"1px\",\"major_label_text_line_height\":0,\"major_tick_line_alpha\":0,\"separator_line_width\":0,\"group_text_color\":\"black\",\"group_text_font_style\":\"normal\",\"group_text_align\":\"center\",\"group_label_orientation\":0.5235987755982988}}],\"center\":[{\"type\":\"object\",\"name\":\"Grid\",\"id\":\"p1345\",\"attributes\":{\"axis\":{\"id\":\"p1341\"},\"grid_line_color\":null}},{\"type\":\"object\",\"name\":\"Grid\",\"id\":\"p1350\",\"attributes\":{\"dimension\":1,\"axis\":{\"id\":\"p1346\"},\"grid_line_color\":null}},{\"type\":\"object\",\"name\":\"Legend\",\"id\":\"p1373\",\"attributes\":{\"location\":\"top_left\",\"items\":[{\"type\":\"object\",\"name\":\"LegendItem\",\"id\":\"p1374\",\"attributes\":{\"label\":{\"type\":\"field\",\"field\":\"Variable\"},\"renderers\":[{\"id\":\"p1370\"}]}}]}}],\"min_border_top\":10,\"min_border_bottom\":10,\"min_border_left\":10,\"min_border_right\":10,\"output_backend\":\"webgl\"}},{\"type\":\"object\",\"name\":\"Spacer\",\"id\":\"p1377\",\"attributes\":{\"name\":\"HSpacer01691\",\"stylesheets\":[\"\\n:host(.pn-loading.pn-arc):before, .pn-loading.pn-arc:before {\\n  background-image: url(\\\"data:image/svg+xml;base64,PHN2ZyB4bWxucz0iaHR0cDovL3d3dy53My5vcmcvMjAwMC9zdmciIHN0eWxlPSJtYXJnaW46IGF1dG87IGJhY2tncm91bmQ6IG5vbmU7IGRpc3BsYXk6IGJsb2NrOyBzaGFwZS1yZW5kZXJpbmc6IGF1dG87IiB2aWV3Qm94PSIwIDAgMTAwIDEwMCIgcHJlc2VydmVBc3BlY3RSYXRpbz0ieE1pZFlNaWQiPiAgPGNpcmNsZSBjeD0iNTAiIGN5PSI1MCIgZmlsbD0ibm9uZSIgc3Ryb2tlPSIjYzNjM2MzIiBzdHJva2Utd2lkdGg9IjEwIiByPSIzNSIgc3Ryb2tlLWRhc2hhcnJheT0iMTY0LjkzMzYxNDMxMzQ2NDE1IDU2Ljk3Nzg3MTQzNzgyMTM4Ij4gICAgPGFuaW1hdGVUcmFuc2Zvcm0gYXR0cmlidXRlTmFtZT0idHJhbnNmb3JtIiB0eXBlPSJyb3RhdGUiIHJlcGVhdENvdW50PSJpbmRlZmluaXRlIiBkdXI9IjFzIiB2YWx1ZXM9IjAgNTAgNTA7MzYwIDUwIDUwIiBrZXlUaW1lcz0iMDsxIj48L2FuaW1hdGVUcmFuc2Zvcm0+ICA8L2NpcmNsZT48L3N2Zz4=\\\");\\n  background-size: auto calc(min(50%, 400px));\\n}\",{\"id\":\"p1320\"},{\"id\":\"p1318\"},{\"id\":\"p1319\"}],\"margin\":0,\"sizing_mode\":\"stretch_width\",\"align\":\"start\"}}]}}],\"defs\":[{\"type\":\"model\",\"name\":\"ReactiveHTML1\"},{\"type\":\"model\",\"name\":\"FlexBox1\",\"properties\":[{\"name\":\"align_content\",\"kind\":\"Any\",\"default\":\"flex-start\"},{\"name\":\"align_items\",\"kind\":\"Any\",\"default\":\"flex-start\"},{\"name\":\"flex_direction\",\"kind\":\"Any\",\"default\":\"row\"},{\"name\":\"flex_wrap\",\"kind\":\"Any\",\"default\":\"wrap\"},{\"name\":\"justify_content\",\"kind\":\"Any\",\"default\":\"flex-start\"}]},{\"type\":\"model\",\"name\":\"FloatPanel1\",\"properties\":[{\"name\":\"config\",\"kind\":\"Any\",\"default\":{\"type\":\"map\"}},{\"name\":\"contained\",\"kind\":\"Any\",\"default\":true},{\"name\":\"position\",\"kind\":\"Any\",\"default\":\"right-top\"},{\"name\":\"offsetx\",\"kind\":\"Any\",\"default\":null},{\"name\":\"offsety\",\"kind\":\"Any\",\"default\":null},{\"name\":\"theme\",\"kind\":\"Any\",\"default\":\"primary\"},{\"name\":\"status\",\"kind\":\"Any\",\"default\":\"normalized\"}]},{\"type\":\"model\",\"name\":\"GridStack1\",\"properties\":[{\"name\":\"mode\",\"kind\":\"Any\",\"default\":\"warn\"},{\"name\":\"ncols\",\"kind\":\"Any\",\"default\":null},{\"name\":\"nrows\",\"kind\":\"Any\",\"default\":null},{\"name\":\"allow_resize\",\"kind\":\"Any\",\"default\":true},{\"name\":\"allow_drag\",\"kind\":\"Any\",\"default\":true},{\"name\":\"state\",\"kind\":\"Any\",\"default\":[]}]},{\"type\":\"model\",\"name\":\"drag1\",\"properties\":[{\"name\":\"slider_width\",\"kind\":\"Any\",\"default\":5},{\"name\":\"slider_color\",\"kind\":\"Any\",\"default\":\"black\"},{\"name\":\"value\",\"kind\":\"Any\",\"default\":50}]},{\"type\":\"model\",\"name\":\"click1\",\"properties\":[{\"name\":\"terminal_output\",\"kind\":\"Any\",\"default\":\"\"},{\"name\":\"debug_name\",\"kind\":\"Any\",\"default\":\"\"},{\"name\":\"clears\",\"kind\":\"Any\",\"default\":0}]},{\"type\":\"model\",\"name\":\"copy_to_clipboard1\",\"properties\":[{\"name\":\"fill\",\"kind\":\"Any\",\"default\":\"none\"},{\"name\":\"value\",\"kind\":\"Any\",\"default\":null}]},{\"type\":\"model\",\"name\":\"FastWrapper1\",\"properties\":[{\"name\":\"object\",\"kind\":\"Any\",\"default\":null},{\"name\":\"style\",\"kind\":\"Any\",\"default\":null}]},{\"type\":\"model\",\"name\":\"NotificationAreaBase1\",\"properties\":[{\"name\":\"js_events\",\"kind\":\"Any\",\"default\":{\"type\":\"map\"}},{\"name\":\"position\",\"kind\":\"Any\",\"default\":\"bottom-right\"},{\"name\":\"_clear\",\"kind\":\"Any\",\"default\":0}]},{\"type\":\"model\",\"name\":\"NotificationArea1\",\"properties\":[{\"name\":\"js_events\",\"kind\":\"Any\",\"default\":{\"type\":\"map\"}},{\"name\":\"notifications\",\"kind\":\"Any\",\"default\":[]},{\"name\":\"position\",\"kind\":\"Any\",\"default\":\"bottom-right\"},{\"name\":\"_clear\",\"kind\":\"Any\",\"default\":0},{\"name\":\"types\",\"kind\":\"Any\",\"default\":[{\"type\":\"map\",\"entries\":[[\"type\",\"warning\"],[\"background\",\"#ffc107\"],[\"icon\",{\"type\":\"map\",\"entries\":[[\"className\",\"fas fa-exclamation-triangle\"],[\"tagName\",\"i\"],[\"color\",\"white\"]]}]]},{\"type\":\"map\",\"entries\":[[\"type\",\"info\"],[\"background\",\"#007bff\"],[\"icon\",{\"type\":\"map\",\"entries\":[[\"className\",\"fas fa-info-circle\"],[\"tagName\",\"i\"],[\"color\",\"white\"]]}]]}]}]},{\"type\":\"model\",\"name\":\"Notification\",\"properties\":[{\"name\":\"background\",\"kind\":\"Any\",\"default\":null},{\"name\":\"duration\",\"kind\":\"Any\",\"default\":3000},{\"name\":\"icon\",\"kind\":\"Any\",\"default\":null},{\"name\":\"message\",\"kind\":\"Any\",\"default\":\"\"},{\"name\":\"notification_type\",\"kind\":\"Any\",\"default\":null},{\"name\":\"_destroyed\",\"kind\":\"Any\",\"default\":false}]},{\"type\":\"model\",\"name\":\"TemplateActions1\",\"properties\":[{\"name\":\"open_modal\",\"kind\":\"Any\",\"default\":0},{\"name\":\"close_modal\",\"kind\":\"Any\",\"default\":0}]},{\"type\":\"model\",\"name\":\"BootstrapTemplateActions1\",\"properties\":[{\"name\":\"open_modal\",\"kind\":\"Any\",\"default\":0},{\"name\":\"close_modal\",\"kind\":\"Any\",\"default\":0}]},{\"type\":\"model\",\"name\":\"MaterialTemplateActions1\",\"properties\":[{\"name\":\"open_modal\",\"kind\":\"Any\",\"default\":0},{\"name\":\"close_modal\",\"kind\":\"Any\",\"default\":0}]}]}};\n",
       "  var render_items = [{\"docid\":\"3cf958e9-af7c-4a3b-8ce4-caae37af006f\",\"roots\":{\"p1317\":\"b6767bc0-212c-43ab-b409-3bcdda4fe26c\"},\"root_ids\":[\"p1317\"]}];\n",
       "  var docs = Object.values(docs_json)\n",
       "  if (!docs) {\n",
       "    return\n",
       "  }\n",
       "  const py_version = docs[0].version.replace('rc', '-rc.').replace('.dev', '-dev.')\n",
       "  function embed_document(root) {\n",
       "    var Bokeh = get_bokeh(root)\n",
       "    Bokeh.embed.embed_items_notebook(docs_json, render_items);\n",
       "    for (const render_item of render_items) {\n",
       "      for (const root_id of render_item.root_ids) {\n",
       "\tconst id_el = document.getElementById(root_id)\n",
       "\tif (id_el.children.length && (id_el.children[0].className === 'bk-root')) {\n",
       "\t  const root_el = id_el.children[0]\n",
       "\t  root_el.id = root_el.id + '-rendered'\n",
       "\t}\n",
       "      }\n",
       "    }\n",
       "  }\n",
       "  function get_bokeh(root) {\n",
       "    if (root.Bokeh === undefined) {\n",
       "      return null\n",
       "    } else if (root.Bokeh.version !== py_version) {\n",
       "      if (root.Bokeh.versions === undefined || !root.Bokeh.versions.has(py_version)) {\n",
       "\treturn null\n",
       "      }\n",
       "      return root.Bokeh.versions.get(py_version);\n",
       "    } else if (root.Bokeh.version === py_version) {\n",
       "      return root.Bokeh\n",
       "    }\n",
       "    return null\n",
       "  }\n",
       "  function is_loaded(root) {\n",
       "    var Bokeh = get_bokeh(root)\n",
       "    return (Bokeh != null && Bokeh.Panel !== undefined)\n",
       "  }\n",
       "  if (is_loaded(root)) {\n",
       "    embed_document(root);\n",
       "  } else {\n",
       "    var attempts = 0;\n",
       "    var timer = setInterval(function(root) {\n",
       "      if (is_loaded(root)) {\n",
       "        clearInterval(timer);\n",
       "        embed_document(root);\n",
       "      } else if (document.readyState == \"complete\") {\n",
       "        attempts++;\n",
       "        if (attempts > 200) {\n",
       "          clearInterval(timer);\n",
       "\t  var Bokeh = get_bokeh(root)\n",
       "\t  if (Bokeh == null || Bokeh.Panel == null) {\n",
       "            console.warn(\"Panel: ERROR: Unable to run Panel code because Bokeh or Panel library is missing\");\n",
       "\t  } else {\n",
       "\t    console.warn(\"Panel: WARNING: Attempting to render but not all required libraries could be resolved.\")\n",
       "\t    embed_document(root)\n",
       "\t  }\n",
       "        }\n",
       "      }\n",
       "    }, 25, root)\n",
       "  }\n",
       "})(window);</script>"
      ],
      "text/plain": [
       ":Bars   [Date,Variable]   (value)"
      ]
     },
     "execution_count": 115,
     "metadata": {
      "application/vnd.holoviews_exec.v0+json": {
       "id": "p1317"
      }
     },
     "output_type": "execute_result"
    }
   ],
   "source": [
    "# Define trading strategy based on RSI\n",
    "def trading_strategy(rsi):\n",
    "    if rsi < 30:\n",
    "        return  1 # Go long\n",
    "    else:\n",
    "        return 0\n",
    "        \n",
    "\n",
    "# Compute the daily mean of all stocks. This will be our equal weighted benchmark\n",
    "daily_mean  = pd.DataFrame(total_returns.loc[:,f'{model_name}_Return'].groupby(level='Date').mean())\n",
    "\n",
    "# Convert daily returns to cumulative returns\n",
    "cum_returns.loc[:,f'{model_name}_Return']  = pd.DataFrame((daily_mean[[f'{model_name}_Return']]+1).cumprod())\n",
    "\n",
    "# Calculate the number of years in the dataset\n",
    "number_of_years = len(daily_mean) / 252  # Assuming 252 trading days in a year\n",
    "\n",
    "ending_value    = cum_returns[f'{model_name}_Return'].iloc[-1]\n",
    "beginning_value = cum_returns[f'{model_name}_Return'].iloc[1]\n",
    "\n",
    "ratio = ending_value/beginning_value\n",
    "# Compute the Compound Annual Growth Rate (CAGR)\n",
    "cagr = round((ratio**(1/number_of_years)-1)*100,2)\n",
    "\n",
    "print(f'The CAGR is: {cagr}%')\n",
    "\n",
    "# Compute the Sharpe Ratio by annualizing the daily mean and the daily std\n",
    "average_daily_return  = daily_mean[[f'{model_name}_Return']].describe().iloc[1,:] * 252\n",
    "stand_dev_dail_return   = daily_mean[[f'{model_name}_Return']].describe().iloc[2,:] * pow(252,1/2)\n",
    "\n",
    "# Compute the Sharpe Ratio and print it out\n",
    "sharpe  = average_daily_return/stand_dev_dail_return\n",
    "\n",
    "print(f'Sharpe Ratio of Strategy: {round(sharpe.iloc[0],2)}')\n",
    "\n",
    "ann_returns = (pd.DataFrame((daily_mean[f'{model_name}_Return']+1).groupby(daily_mean.index.get_level_values(0).year).cumprod())-1)*100\n",
    "\n",
    "\n",
    "calendar_returns.loc[:,f'{model_name}_Return']  = pd.DataFrame(ann_returns[f'{model_name}_Return'].groupby(daily_mean.index.get_level_values(0).year).last())\n",
    "calendar_returns.hvplot.bar(rot=30,  legend='top_left').opts(multi_level=False) "
   ]
  },
  {
   "cell_type": "code",
   "execution_count": 117,
   "id": "846f75cd-79c1-438f-908c-71281d494867",
   "metadata": {},
   "outputs": [
    {
     "data": {
      "text/plain": [
       "<Axes: xlabel='Date'>"
      ]
     },
     "execution_count": 117,
     "metadata": {},
     "output_type": "execute_result"
    },
    {
     "data": {
      "image/png": "[encoded data removed]",
      "text/plain": [
       "<Figure size 640x480 with 1 Axes>"
      ]
     },
     "metadata": {},
     "output_type": "display_data"
    }
   ],
   "source": [
    "cum_returns.plot()"
   ]
  },
  {
   "cell_type": "code",
   "execution_count": 818,
   "id": "eef91590-e7cf-49d1-be93-12662ec5476b",
   "metadata": {},
   "outputs": [
    {
     "data": {
      "text/html": [
       "<div>\n",
       "<style scoped>\n",
       "    .dataframe tbody tr th:only-of-type {\n",
       "        vertical-align: middle;\n",
       "    }\n",
       "\n",
       "    .dataframe tbody tr th {\n",
       "        vertical-align: top;\n",
       "    }\n",
       "\n",
       "    .dataframe thead th {\n",
       "        text-align: right;\n",
       "    }\n",
       "</style>\n",
       "<table border=\"1\" class=\"dataframe\">\n",
       "  <thead>\n",
       "    <tr style=\"text-align: right;\">\n",
       "      <th></th>\n",
       "      <th></th>\n",
       "      <th>F_1_d_returns</th>\n",
       "      <th>1_d_returns</th>\n",
       "      <th>RSI</th>\n",
       "      <th>Quantiles</th>\n",
       "      <th>Position</th>\n",
       "      <th>RSI_Return</th>\n",
       "      <th>y</th>\n",
       "      <th>y_pred</th>\n",
       "      <th>y_test</th>\n",
       "    </tr>\n",
       "    <tr>\n",
       "      <th>Ticker</th>\n",
       "      <th>Date</th>\n",
       "      <th></th>\n",
       "      <th></th>\n",
       "      <th></th>\n",
       "      <th></th>\n",
       "      <th></th>\n",
       "      <th></th>\n",
       "      <th></th>\n",
       "      <th></th>\n",
       "      <th></th>\n",
       "    </tr>\n",
       "  </thead>\n",
       "  <tbody>\n",
       "    <tr>\n",
       "      <th rowspan=\"5\" valign=\"top\">A</th>\n",
       "      <th>2000-01-05</th>\n",
       "      <td>-0.0381</td>\n",
       "      <td>-0.0620</td>\n",
       "      <td>NaN</td>\n",
       "      <td>NaN</td>\n",
       "      <td>0</td>\n",
       "      <td>-0.0000</td>\n",
       "      <td>0</td>\n",
       "      <td>0</td>\n",
       "      <td>0</td>\n",
       "    </tr>\n",
       "    <tr>\n",
       "      <th>2000-01-06</th>\n",
       "      <td>0.0833</td>\n",
       "      <td>-0.0381</td>\n",
       "      <td>NaN</td>\n",
       "      <td>NaN</td>\n",
       "      <td>0</td>\n",
       "      <td>0.0000</td>\n",
       "      <td>1</td>\n",
       "      <td>0</td>\n",
       "      <td>1</td>\n",
       "    </tr>\n",
       "    <tr>\n",
       "      <th>2000-01-07</th>\n",
       "      <td>0.0606</td>\n",
       "      <td>0.0833</td>\n",
       "      <td>NaN</td>\n",
       "      <td>NaN</td>\n",
       "      <td>0</td>\n",
       "      <td>0.0000</td>\n",
       "      <td>1</td>\n",
       "      <td>0</td>\n",
       "      <td>1</td>\n",
       "    </tr>\n",
       "    <tr>\n",
       "      <th>2000-01-10</th>\n",
       "      <td>-0.0136</td>\n",
       "      <td>0.0606</td>\n",
       "      <td>NaN</td>\n",
       "      <td>NaN</td>\n",
       "      <td>0</td>\n",
       "      <td>-0.0000</td>\n",
       "      <td>0</td>\n",
       "      <td>0</td>\n",
       "      <td>0</td>\n",
       "    </tr>\n",
       "    <tr>\n",
       "      <th>2000-01-11</th>\n",
       "      <td>-0.0202</td>\n",
       "      <td>-0.0136</td>\n",
       "      <td>NaN</td>\n",
       "      <td>NaN</td>\n",
       "      <td>0</td>\n",
       "      <td>-0.0000</td>\n",
       "      <td>0</td>\n",
       "      <td>0</td>\n",
       "      <td>0</td>\n",
       "    </tr>\n",
       "  </tbody>\n",
       "</table>\n",
       "</div>"
      ],
      "text/plain": [
       "                   F_1_d_returns  1_d_returns  RSI  Quantiles  Position  \\\n",
       "Ticker Date                                                               \n",
       "A      2000-01-05        -0.0381      -0.0620  NaN        NaN         0   \n",
       "       2000-01-06         0.0833      -0.0381  NaN        NaN         0   \n",
       "       2000-01-07         0.0606       0.0833  NaN        NaN         0   \n",
       "       2000-01-10        -0.0136       0.0606  NaN        NaN         0   \n",
       "       2000-01-11        -0.0202      -0.0136  NaN        NaN         0   \n",
       "\n",
       "                   RSI_Return  y  y_pred  y_test  \n",
       "Ticker Date                                       \n",
       "A      2000-01-05     -0.0000  0       0       0  \n",
       "       2000-01-06      0.0000  1       0       1  \n",
       "       2000-01-07      0.0000  1       0       1  \n",
       "       2000-01-10     -0.0000  0       0       0  \n",
       "       2000-01-11     -0.0000  0       0       0  "
      ]
     },
     "execution_count": 818,
     "metadata": {},
     "output_type": "execute_result"
    }
   ],
   "source": [
    "total_returns.head()"
   ]
  },
  {
   "cell_type": "code",
   "execution_count": 829,
   "id": "51cb2c4a-9d04-4a9b-865e-2d04d46f0b68",
   "metadata": {},
   "outputs": [
    {
     "data": {
      "text/html": [
       "<div>\n",
       "<style scoped>\n",
       "    .dataframe tbody tr th:only-of-type {\n",
       "        vertical-align: middle;\n",
       "    }\n",
       "\n",
       "    .dataframe tbody tr th {\n",
       "        vertical-align: top;\n",
       "    }\n",
       "\n",
       "    .dataframe thead th {\n",
       "        text-align: right;\n",
       "    }\n",
       "</style>\n",
       "<table border=\"1\" class=\"dataframe\">\n",
       "  <thead>\n",
       "    <tr style=\"text-align: right;\">\n",
       "      <th></th>\n",
       "      <th>Metric</th>\n",
       "      <th>Value</th>\n",
       "    </tr>\n",
       "  </thead>\n",
       "  <tbody>\n",
       "    <tr>\n",
       "      <th>0</th>\n",
       "      <td>Accuracy</td>\n",
       "      <td>0.5125</td>\n",
       "    </tr>\n",
       "    <tr>\n",
       "      <th>1</th>\n",
       "      <td>Precision</td>\n",
       "      <td>0.5154</td>\n",
       "    </tr>\n",
       "    <tr>\n",
       "      <th>2</th>\n",
       "      <td>Recall</td>\n",
       "      <td>0.8541</td>\n",
       "    </tr>\n",
       "  </tbody>\n",
       "</table>\n",
       "</div>"
      ],
      "text/plain": [
       "      Metric  Value\n",
       "0   Accuracy 0.5125\n",
       "1  Precision 0.5154\n",
       "2     Recall 0.8541"
      ]
     },
     "execution_count": 829,
     "metadata": {},
     "output_type": "execute_result"
    }
   ],
   "source": [
    "# Create the predicted and true values of F_1_d_returns as being larger or smaller than 0\n",
    "total_returns['y_test'] = np.where(total_returns['F_1_d_returns']>0,1,0)\n",
    "total_returns['y_pred'] = total_returns['Position']\n",
    "\n",
    "# Define actual ansd predicted signals as lists\n",
    "y_test = total_returns['y_test'].tolist()\n",
    "y_pred = total_returns['y_pred'].tolist()\n",
    "\n",
    "accuracy = accuracy_score(y_test, y_pred)\n",
    "precision = precision_score(y_test, y_pred)\n",
    "recall = recall_score(y_test, y_pred)\n",
    "\n",
    "# Create a DataFrame for the metrics\n",
    "metrics_df = pd.DataFrame({\n",
    "    'Metric': ['Accuracy', 'Precision', 'Recall'],\n",
    "    'Value': [accuracy, precision, recall]\n",
    "})\n",
    "\n",
    "metrics_df"
   ]
  }
 ],
 "metadata": {
  "kernelspec": {
   "display_name": "Python 3 (ipykernel)",
   "language": "python",
   "name": "python3"
  },
  "language_info": {
   "codemirror_mode": {
    "name": "ipython",
    "version": 3
   },
   "file_extension": ".py",
   "mimetype": "text/x-python",
   "name": "python",
   "nbconvert_exporter": "python",
   "pygments_lexer": "ipython3",
   "version": "3.12.4"
  }
 },
 "nbformat": 4,
 "nbformat_minor": 5
}
