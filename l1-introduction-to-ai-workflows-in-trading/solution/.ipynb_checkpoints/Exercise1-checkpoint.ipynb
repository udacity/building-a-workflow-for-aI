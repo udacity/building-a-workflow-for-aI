{
 "cells": [
  {
   "cell_type": "markdown",
   "id": "db68f9ed-b3d6-4722-92da-d23681ceaab2",
   "metadata": {},
   "source": [
    "# Exercise 1\n",
    "\n",
    "## Creating Data and Backtesting a Trading Strategy\n",
    "\n",
    "---\n",
    "\n",
    "## Overview\n",
    "\n",
    "Welcome to this Excercise. We are now going to put our skills to the test and create a dataset and prepare our first backtests. Proper data preparation is essential to conducting succesful backtest, and we want to make sure that we build a solid foundation and develop proper techniques to ensure that we can build our datasets easily at scale and develop proper data wrangling and preparation approaches. In particular, we are going to cover the  essential steps that are necessary to succesfully build trading  models beginning from creating datasets from publicly available stock price data to conducting exploratory data analysis to finally building and testing models. We are then quickly shifts gears and illustrate a few advanced investment ideas that can be used for further analysis.\n",
    "\n",
    "---\n",
    "\n",
    "## Introduction\n",
    "\n",
    "We are going to start with downloading data using the yfinance library and then prepare this data by computing returns to conduct our exploratory analysis.\n",
    "\n",
    "---\n",
    "\n",
    "## Key Features\n",
    "\n",
    "1) First use the yfinance library to download both data sets. You will be using the constituents of the S&P 500. \n",
    "\n",
    "2) We will then start to compute returns.\n",
    "\n"
   ]
  },
  {
   "cell_type": "code",
   "execution_count": 48,
   "id": "90a0b611-3cfe-410d-b1e8-7a48f6a17943",
   "metadata": {},
   "outputs": [],
   "source": [
    "# Import Libraries\n",
    "import yfinance as yf\n",
    "import pandas as pd\n",
    "from sklearn.cluster import KMeans\n",
    "from sklearn.preprocessing import StandardScaler\n",
    "OMP_NUM_THREADS=2\n",
    "import matplotlib.pyplot as plt"
   ]
  },
  {
   "cell_type": "code",
   "execution_count": 2,
   "id": "ab513e37-ff87-42cd-b51e-35de3cbb0898",
   "metadata": {},
   "outputs": [],
   "source": [
    "# We can decide whther we want to download the data or use the saved csv version of it\n",
    "DOWNLOAD_DATA_FROM_API = False \n",
    "# Set the min required num of obs per ticker to 100\n",
    "MIN_REQUIRED_NUM_OBS_PER_TICKER=100"
   ]
  },
  {
   "cell_type": "code",
   "execution_count": 47,
   "id": "ce72d202-638a-48f2-b996-b53ad6d53930",
   "metadata": {},
   "outputs": [],
   "source": [
    "if DOWNLOAD_DATA_FROM_API == True:\n",
    "    # Get the list of S&P 500 constituents\n",
    "    sp500_tickers = pd.read_html('https://en.wikipedia.org/wiki/List_of_S%26P_500_companies')[0]['Symbol'].tolist()\n",
    "    \n",
    "    # Filter out Class B shares that have a '.B' in the ticker name\n",
    "    sp500_tickers = [ticker for ticker in sp500_tickers if '.B' not in ticker]\n",
    "    \n",
    "    # Define the start and end dates for historical data\n",
    "    start_date = '2000-01-01'\n",
    "    end_date   = '2024-05-01'\n",
    "    \n",
    "    # Download historical prices for the list of ticker sp500_tickers\n",
    "    historical_prices = yf.download(sp500_tickers, start=start_date, end=end_date)\n",
    "\n",
    "    # Remove the MultiIndex and keep only the second level\n",
    "    historical_prices.columns = historical_prices.columns.droplevel(0)\n",
    "    \n",
    "    # Filter and keep only columns where the first level of the MultiIndex is 'Adj Close'\n",
    "    historical_prices  = historical_prices.loc[:, historical_prices.columns.get_level_values(0) == 'Adj Close']\n",
    "\n",
    "    # Count non-missing values for each ticker\n",
    "    ticker_counts = historical_prices.count()\n",
    "\n",
    "    # Filter out tickers with fewer than n=MIN_REQUIRED_NUM_OBS_PER_TICKER=100 non-missing values\n",
    "    valid_tickers = ticker_counts[ticker_counts >= MIN_REQUIRED_NUM_OBS_PER_TICKER].index\n",
    "    \n",
    "    # Filter the DataFrame based on valid tickers\n",
    "    historical_prices = historical_prices[valid_tickers]\n",
    "    \n",
    "\n",
    "else:\n",
    "    # Read the previously download data\n",
    "    historical_prices = pd.read_csv('historical_prices.csv', index_col='Date', parse_dates=True)\n",
    "    historical_prices.columns.name = 'Ticker'"
   ]
  },
  {
   "cell_type": "code",
   "execution_count": 4,
   "id": "951b003f-b564-4ae1-892a-684d3016184c",
   "metadata": {},
   "outputs": [
    {
     "data": {
      "text/html": [
       "<div>\n",
       "<style scoped>\n",
       "    .dataframe tbody tr th:only-of-type {\n",
       "        vertical-align: middle;\n",
       "    }\n",
       "\n",
       "    .dataframe tbody tr th {\n",
       "        vertical-align: top;\n",
       "    }\n",
       "\n",
       "    .dataframe thead th {\n",
       "        text-align: right;\n",
       "    }\n",
       "</style>\n",
       "<table border=\"1\" class=\"dataframe\">\n",
       "  <thead>\n",
       "    <tr style=\"text-align: right;\">\n",
       "      <th>Ticker</th>\n",
       "      <th>A</th>\n",
       "      <th>AAL</th>\n",
       "      <th>AAPL</th>\n",
       "      <th>ABBV</th>\n",
       "      <th>ABNB</th>\n",
       "      <th>ABT</th>\n",
       "      <th>ACGL</th>\n",
       "      <th>ACN</th>\n",
       "      <th>ADBE</th>\n",
       "      <th>ADI</th>\n",
       "      <th>...</th>\n",
       "      <th>WTW</th>\n",
       "      <th>WY</th>\n",
       "      <th>WYNN</th>\n",
       "      <th>XEL</th>\n",
       "      <th>XOM</th>\n",
       "      <th>XYL</th>\n",
       "      <th>YUM</th>\n",
       "      <th>ZBH</th>\n",
       "      <th>ZBRA</th>\n",
       "      <th>ZTS</th>\n",
       "    </tr>\n",
       "    <tr>\n",
       "      <th>Date</th>\n",
       "      <th></th>\n",
       "      <th></th>\n",
       "      <th></th>\n",
       "      <th></th>\n",
       "      <th></th>\n",
       "      <th></th>\n",
       "      <th></th>\n",
       "      <th></th>\n",
       "      <th></th>\n",
       "      <th></th>\n",
       "      <th></th>\n",
       "      <th></th>\n",
       "      <th></th>\n",
       "      <th></th>\n",
       "      <th></th>\n",
       "      <th></th>\n",
       "      <th></th>\n",
       "      <th></th>\n",
       "      <th></th>\n",
       "      <th></th>\n",
       "      <th></th>\n",
       "    </tr>\n",
       "  </thead>\n",
       "  <tbody>\n",
       "    <tr>\n",
       "      <th>2000-01-03</th>\n",
       "      <td>43.613007</td>\n",
       "      <td>NaN</td>\n",
       "      <td>0.844981</td>\n",
       "      <td>NaN</td>\n",
       "      <td>NaN</td>\n",
       "      <td>8.992848</td>\n",
       "      <td>1.277778</td>\n",
       "      <td>NaN</td>\n",
       "      <td>16.274675</td>\n",
       "      <td>28.438286</td>\n",
       "      <td>...</td>\n",
       "      <td>NaN</td>\n",
       "      <td>11.505342</td>\n",
       "      <td>NaN</td>\n",
       "      <td>6.977997</td>\n",
       "      <td>18.328693</td>\n",
       "      <td>NaN</td>\n",
       "      <td>4.680301</td>\n",
       "      <td>NaN</td>\n",
       "      <td>25.027779</td>\n",
       "      <td>NaN</td>\n",
       "    </tr>\n",
       "    <tr>\n",
       "      <th>2000-01-04</th>\n",
       "      <td>40.281452</td>\n",
       "      <td>NaN</td>\n",
       "      <td>0.773741</td>\n",
       "      <td>NaN</td>\n",
       "      <td>NaN</td>\n",
       "      <td>8.735912</td>\n",
       "      <td>1.270833</td>\n",
       "      <td>NaN</td>\n",
       "      <td>14.909400</td>\n",
       "      <td>26.999619</td>\n",
       "      <td>...</td>\n",
       "      <td>NaN</td>\n",
       "      <td>11.073115</td>\n",
       "      <td>NaN</td>\n",
       "      <td>7.138673</td>\n",
       "      <td>17.977634</td>\n",
       "      <td>NaN</td>\n",
       "      <td>4.586222</td>\n",
       "      <td>NaN</td>\n",
       "      <td>24.666668</td>\n",
       "      <td>NaN</td>\n",
       "    </tr>\n",
       "    <tr>\n",
       "      <th>2000-01-05</th>\n",
       "      <td>37.782795</td>\n",
       "      <td>NaN</td>\n",
       "      <td>0.785063</td>\n",
       "      <td>NaN</td>\n",
       "      <td>NaN</td>\n",
       "      <td>8.719849</td>\n",
       "      <td>1.388889</td>\n",
       "      <td>NaN</td>\n",
       "      <td>15.204174</td>\n",
       "      <td>27.393782</td>\n",
       "      <td>...</td>\n",
       "      <td>NaN</td>\n",
       "      <td>11.659699</td>\n",
       "      <td>NaN</td>\n",
       "      <td>7.414120</td>\n",
       "      <td>18.957697</td>\n",
       "      <td>NaN</td>\n",
       "      <td>4.609740</td>\n",
       "      <td>NaN</td>\n",
       "      <td>25.138889</td>\n",
       "      <td>NaN</td>\n",
       "    </tr>\n",
       "    <tr>\n",
       "      <th>2000-01-06</th>\n",
       "      <td>36.344185</td>\n",
       "      <td>NaN</td>\n",
       "      <td>0.717125</td>\n",
       "      <td>NaN</td>\n",
       "      <td>NaN</td>\n",
       "      <td>9.024967</td>\n",
       "      <td>1.375000</td>\n",
       "      <td>NaN</td>\n",
       "      <td>15.328290</td>\n",
       "      <td>26.644875</td>\n",
       "      <td>...</td>\n",
       "      <td>NaN</td>\n",
       "      <td>12.205125</td>\n",
       "      <td>NaN</td>\n",
       "      <td>7.345260</td>\n",
       "      <td>19.937763</td>\n",
       "      <td>NaN</td>\n",
       "      <td>4.570544</td>\n",
       "      <td>NaN</td>\n",
       "      <td>23.777779</td>\n",
       "      <td>NaN</td>\n",
       "    </tr>\n",
       "    <tr>\n",
       "      <th>2000-01-07</th>\n",
       "      <td>39.372852</td>\n",
       "      <td>NaN</td>\n",
       "      <td>0.751094</td>\n",
       "      <td>NaN</td>\n",
       "      <td>NaN</td>\n",
       "      <td>9.121321</td>\n",
       "      <td>1.451389</td>\n",
       "      <td>NaN</td>\n",
       "      <td>16.072987</td>\n",
       "      <td>27.393782</td>\n",
       "      <td>...</td>\n",
       "      <td>NaN</td>\n",
       "      <td>11.803776</td>\n",
       "      <td>NaN</td>\n",
       "      <td>7.345260</td>\n",
       "      <td>19.879248</td>\n",
       "      <td>NaN</td>\n",
       "      <td>4.468626</td>\n",
       "      <td>NaN</td>\n",
       "      <td>23.513889</td>\n",
       "      <td>NaN</td>\n",
       "    </tr>\n",
       "  </tbody>\n",
       "</table>\n",
       "<p>5 rows × 501 columns</p>\n",
       "</div>"
      ],
      "text/plain": [
       "Ticker              A  AAL      AAPL  ABBV  ABNB       ABT      ACGL  ACN  \\\n",
       "Date                                                                        \n",
       "2000-01-03  43.613007  NaN  0.844981   NaN   NaN  8.992848  1.277778  NaN   \n",
       "2000-01-04  40.281452  NaN  0.773741   NaN   NaN  8.735912  1.270833  NaN   \n",
       "2000-01-05  37.782795  NaN  0.785063   NaN   NaN  8.719849  1.388889  NaN   \n",
       "2000-01-06  36.344185  NaN  0.717125   NaN   NaN  9.024967  1.375000  NaN   \n",
       "2000-01-07  39.372852  NaN  0.751094   NaN   NaN  9.121321  1.451389  NaN   \n",
       "\n",
       "Ticker           ADBE        ADI  ...  WTW         WY  WYNN       XEL  \\\n",
       "Date                              ...                                   \n",
       "2000-01-03  16.274675  28.438286  ...  NaN  11.505342   NaN  6.977997   \n",
       "2000-01-04  14.909400  26.999619  ...  NaN  11.073115   NaN  7.138673   \n",
       "2000-01-05  15.204174  27.393782  ...  NaN  11.659699   NaN  7.414120   \n",
       "2000-01-06  15.328290  26.644875  ...  NaN  12.205125   NaN  7.345260   \n",
       "2000-01-07  16.072987  27.393782  ...  NaN  11.803776   NaN  7.345260   \n",
       "\n",
       "Ticker            XOM  XYL       YUM  ZBH       ZBRA  ZTS  \n",
       "Date                                                       \n",
       "2000-01-03  18.328693  NaN  4.680301  NaN  25.027779  NaN  \n",
       "2000-01-04  17.977634  NaN  4.586222  NaN  24.666668  NaN  \n",
       "2000-01-05  18.957697  NaN  4.609740  NaN  25.138889  NaN  \n",
       "2000-01-06  19.937763  NaN  4.570544  NaN  23.777779  NaN  \n",
       "2000-01-07  19.879248  NaN  4.468626  NaN  23.513889  NaN  \n",
       "\n",
       "[5 rows x 501 columns]"
      ]
     },
     "execution_count": 4,
     "metadata": {},
     "output_type": "execute_result"
    }
   ],
   "source": [
    "# Print the first 5 rows\n",
    "historical_prices.head()"
   ]
  },
  {
   "cell_type": "code",
   "execution_count": 5,
   "id": "b4f77062-2b2f-4209-9cc1-e5a79ae9da3d",
   "metadata": {},
   "outputs": [
    {
     "name": "stdout",
     "output_type": "stream",
     "text": [
      "<class 'pandas.core.frame.DataFrame'>\n",
      "DatetimeIndex: 6120 entries, 2000-01-03 to 2024-04-30\n",
      "Columns: 501 entries, A to ZTS\n",
      "dtypes: float64(501)\n",
      "memory usage: 23.4 MB\n"
     ]
    }
   ],
   "source": [
    "# Use the pandas info function to verify the data types of the dataframe column\n",
    "historical_prices.info()"
   ]
  },
  {
   "cell_type": "code",
   "execution_count": 6,
   "id": "183a3ebe-fff8-4b10-a0ee-16c5bdb63e8e",
   "metadata": {},
   "outputs": [],
   "source": [
    "# Create a function called 'computingReturns' that takes close prices and a list of integers (momentums) as an inpute \n",
    "def computingReturns(close_prices, list_of_momentums): \n",
    "    # Initialize the forecast horizon\n",
    "    forecast = 1\n",
    "    # Compute forward returns by taking percentage change of close prices\n",
    "    # and shifting by the forecast horizon\n",
    "    f_returns = close_prices.pct_change(forecast)\n",
    "    f_returns = f_returns.shift(-forecast)\n",
    "    # Convert the result to a DataFrame\n",
    "    f_returns = pd.DataFrame(f_returns.unstack())\n",
    "    # Name the column based on the forecast horizon\n",
    "    name = \"F_\" + str(forecast) + \"_d_returns\"\n",
    "    f_returns.rename(columns={0: name}, inplace=True)\n",
    "    # Reset the index to make Ticker and Date as regular columns\n",
    "    f_returns.reset_index(inplace=True)\n",
    "    # Rename the index column to 'Ticker'\n",
    "    f_returns.rename(columns={'level_0': 'Ticker'}, inplace=True)\n",
    "    # Initialize total_returns with forward returns\n",
    "    total_returns = f_returns\n",
    "    \n",
    "    # Iterate over the list of momentum values\n",
    "    for i in list_of_momentums:   \n",
    "        # Compute returns for each momentum value\n",
    "        feature = close_prices.pct_change(i)\n",
    "        feature = pd.DataFrame(feature.unstack())\n",
    "        # Name the column based on the momentum value\n",
    "        name = str(i) + \"_d_returns\"        \n",
    "        feature.reset_index(inplace=True)\n",
    "        # Rename columns and reset index\n",
    "        feature.rename(columns={0: name, 'level_0': 'Ticker'}, inplace=True)\n",
    "        # Merge computed feature returns with total_returns based on Ticker and Date\n",
    "        total_returns = pd.merge(total_returns, feature, left_on=['Ticker', 'Date'], right_on=['Ticker', 'Date'], how='left', suffixes=('_original', '_right'))\n",
    "      \n",
    "    # Drop rows with any NaN values\n",
    "    total_returns.dropna(axis=0, how='any', inplace=True) \n",
    "    # Set Date and Ticker as the index\n",
    "    total_returns.set_index(['Date', 'Ticker'], inplace=True)\n",
    "\n",
    "    # Return the computed total returns DataFrame\n",
    "    return total_returns\n"
   ]
  },
  {
   "cell_type": "code",
   "execution_count": 8,
   "id": "d73be1a7-848d-4f1f-baaf-bf921760544b",
   "metadata": {},
   "outputs": [
    {
     "data": {
      "text/html": [
       "<div>\n",
       "<style scoped>\n",
       "    .dataframe tbody tr th:only-of-type {\n",
       "        vertical-align: middle;\n",
       "    }\n",
       "\n",
       "    .dataframe tbody tr th {\n",
       "        vertical-align: top;\n",
       "    }\n",
       "\n",
       "    .dataframe thead th {\n",
       "        text-align: right;\n",
       "    }\n",
       "</style>\n",
       "<table border=\"1\" class=\"dataframe\">\n",
       "  <thead>\n",
       "    <tr style=\"text-align: right;\">\n",
       "      <th></th>\n",
       "      <th></th>\n",
       "      <th>F_1_d_returns</th>\n",
       "      <th>1_d_returns</th>\n",
       "      <th>2_d_returns</th>\n",
       "    </tr>\n",
       "    <tr>\n",
       "      <th>Date</th>\n",
       "      <th>Ticker</th>\n",
       "      <th></th>\n",
       "      <th></th>\n",
       "      <th></th>\n",
       "    </tr>\n",
       "  </thead>\n",
       "  <tbody>\n",
       "    <tr>\n",
       "      <th>2000-01-05</th>\n",
       "      <th>A</th>\n",
       "      <td>-0.038076</td>\n",
       "      <td>-0.062030</td>\n",
       "      <td>-0.133681</td>\n",
       "    </tr>\n",
       "    <tr>\n",
       "      <th>2000-01-06</th>\n",
       "      <th>A</th>\n",
       "      <td>0.083333</td>\n",
       "      <td>-0.038076</td>\n",
       "      <td>-0.097744</td>\n",
       "    </tr>\n",
       "    <tr>\n",
       "      <th>2000-01-07</th>\n",
       "      <th>A</th>\n",
       "      <td>0.060577</td>\n",
       "      <td>0.083333</td>\n",
       "      <td>0.042084</td>\n",
       "    </tr>\n",
       "    <tr>\n",
       "      <th>2000-01-10</th>\n",
       "      <th>A</th>\n",
       "      <td>-0.013599</td>\n",
       "      <td>0.060577</td>\n",
       "      <td>0.148958</td>\n",
       "    </tr>\n",
       "    <tr>\n",
       "      <th>2000-01-11</th>\n",
       "      <th>A</th>\n",
       "      <td>-0.020221</td>\n",
       "      <td>-0.013599</td>\n",
       "      <td>0.046154</td>\n",
       "    </tr>\n",
       "  </tbody>\n",
       "</table>\n",
       "</div>"
      ],
      "text/plain": [
       "                   F_1_d_returns  1_d_returns  2_d_returns\n",
       "Date       Ticker                                         \n",
       "2000-01-05 A           -0.038076    -0.062030    -0.133681\n",
       "2000-01-06 A            0.083333    -0.038076    -0.097744\n",
       "2000-01-07 A            0.060577     0.083333     0.042084\n",
       "2000-01-10 A           -0.013599     0.060577     0.148958\n",
       "2000-01-11 A           -0.020221    -0.013599     0.046154"
      ]
     },
     "execution_count": 8,
     "metadata": {},
     "output_type": "execute_result"
    }
   ],
   "source": [
    "# Create a list of momentums for 1d and 2d returns\n",
    "list_of_momentums = [1,2]\n",
    "# Run the function computingReturns and save the output as total_data\n",
    "total_data = computingReturns(historical_prices, list_of_momentums)\n",
    "#Print the first 5 rows of total_data\n",
    "total_data.head()"
   ]
  },
  {
   "cell_type": "markdown",
   "id": "b7e59565-d2c2-465b-b8ea-66aa18e90ac4",
   "metadata": {},
   "source": [
    "## How many tickers does our dataset have? "
   ]
  },
  {
   "cell_type": "code",
   "execution_count": 129,
   "id": "1d9b422d-efc1-44c5-af46-58aa2be0277e",
   "metadata": {},
   "outputs": [
    {
     "data": {
      "text/plain": [
       "501"
      ]
     },
     "execution_count": 129,
     "metadata": {},
     "output_type": "execute_result"
    }
   ],
   "source": [
    "total_data.index.get_level_values(1).nunique()"
   ]
  },
  {
   "cell_type": "markdown",
   "id": "5d5fbba8-924a-445a-9760-66468480c754",
   "metadata": {},
   "source": [
    "## How many uniquye trading days does our dataset have? "
   ]
  },
  {
   "cell_type": "code",
   "execution_count": 9,
   "id": "27e88d52-87b1-428b-83b8-24019d2b9652",
   "metadata": {},
   "outputs": [
    {
     "data": {
      "text/plain": [
       "6117"
      ]
     },
     "execution_count": 9,
     "metadata": {},
     "output_type": "execute_result"
    }
   ],
   "source": [
    "total_data.index.get_level_values(0).nunique()"
   ]
  },
  {
   "cell_type": "markdown",
   "id": "c6568ea6-1452-4a74-92f4-a80bd591f31e",
   "metadata": {},
   "source": [
    "## How many missing values do we have?"
   ]
  },
  {
   "cell_type": "code",
   "execution_count": 10,
   "id": "ee7516f6-274e-4cda-adf4-d8b850846674",
   "metadata": {},
   "outputs": [
    {
     "data": {
      "text/plain": [
       "F_1_d_returns    0.0\n",
       "1_d_returns      0.0\n",
       "2_d_returns      0.0\n",
       "dtype: float64"
      ]
     },
     "execution_count": 10,
     "metadata": {},
     "output_type": "execute_result"
    }
   ],
   "source": [
    "total_data.isna().mean()"
   ]
  },
  {
   "cell_type": "markdown",
   "id": "4a084552-961e-4b12-8871-095d72c35260",
   "metadata": {},
   "source": [
    "## What is the CAGR and Sharpe of an equal weighted Portfolio?"
   ]
  },
  {
   "cell_type": "code",
   "execution_count": 11,
   "id": "410f967d-22ff-4f75-aa74-53a5ff21e816",
   "metadata": {},
   "outputs": [
    {
     "name": "stdout",
     "output_type": "stream",
     "text": [
      "The CAGR is: 17.24%\n",
      "Sharpe Ratio of Strategy: 0.88\n"
     ]
    }
   ],
   "source": [
    "# Compute the daily mean of all stocks. This will be our equal weighted benchmark\n",
    "df_daily_mean  = pd.DataFrame(total_data.loc[:,'F_1_d_returns'].groupby(level='Date').mean())\n",
    "\n",
    "# Convert daily returns to cumulative returns\n",
    "df_cum_returns = pd.DataFrame((df_daily_mean[['F_1_d_returns']]+1).cumprod())\n",
    "\n",
    "# Calculate the number of years in the dataset\n",
    "years = len(df_daily_mean) / 252  # Assuming 252 trading days in a year\n",
    "\n",
    "# Compute the Compound Annual Growth Rate (CAGR)\n",
    "cagr = round((df_cum_returns['F_1_d_returns'].iloc[-1]**(1/years)-1)*100,2)\n",
    "\n",
    "print(f'The CAGR is: {cagr}%')\n",
    "\n",
    "# Compute the Sharpe Ratio by annualizing the daily mean and the daily std\n",
    "df_daily_mean_mean  = df_daily_mean[['F_1_d_returns']].describe().iloc[1,:] * 252\n",
    "df_daily_mean_std   = df_daily_mean[['F_1_d_returns']].describe().iloc[2,:] * pow(252,1/2)\n",
    "\n",
    "# Compute the Sharpe Ratio and print it out\n",
    "sharpe  = df_daily_mean_mean/df_daily_mean_std\n",
    "\n",
    "print(f'Sharpe Ratio of Strategy: {round(sharpe.iloc[0],2)}')"
   ]
  },
  {
   "cell_type": "code",
   "execution_count": null,
   "id": "c74a3329-ea87-4106-a76e-66bd99fd6501",
   "metadata": {},
   "outputs": [],
   "source": []
  },
  {
   "cell_type": "markdown",
   "id": "c7760387-481a-4ecc-a35b-ecf034269ff6",
   "metadata": {},
   "source": [
    "### Plot the cumulative Returns of the equal weighted portfolio"
   ]
  },
  {
   "cell_type": "code",
   "execution_count": 15,
   "id": "a1d526b0-e33c-4a18-9ec3-53632dc02516",
   "metadata": {},
   "outputs": [
    {
     "data": {},
     "metadata": {},
     "output_type": "display_data"
    },
    {
     "data": {
      "application/vnd.holoviews_exec.v0+json": "",
      "text/html": [
       "<div id='p1141'>\n",
       "  <div id=\"b4324487-962a-44ab-b20c-3d993efd4b85\" data-root-id=\"p1141\" style=\"display: contents;\"></div>\n",
       "</div>\n",
       "<script type=\"application/javascript\">(function(root) {\n",
       "  var docs_json = {\"404a1500-7b30-4167-99a1-910dc1c50b42\":{\"version\":\"3.3.4\",\"title\":\"Bokeh Application\",\"roots\":[{\"type\":\"object\",\"name\":\"Row\",\"id\":\"p1141\",\"attributes\":{\"name\":\"Row01154\",\"tags\":[\"embedded\"],\"stylesheets\":[\"\\n:host(.pn-loading.pn-arc):before, .pn-loading.pn-arc:before {\\n  background-image: url(\\\"data:image/svg+xml;base64,PHN2ZyB4bWxucz0iaHR0cDovL3d3dy53My5vcmcvMjAwMC9zdmciIHN0eWxlPSJtYXJnaW46IGF1dG87IGJhY2tncm91bmQ6IG5vbmU7IGRpc3BsYXk6IGJsb2NrOyBzaGFwZS1yZW5kZXJpbmc6IGF1dG87IiB2aWV3Qm94PSIwIDAgMTAwIDEwMCIgcHJlc2VydmVBc3BlY3RSYXRpbz0ieE1pZFlNaWQiPiAgPGNpcmNsZSBjeD0iNTAiIGN5PSI1MCIgZmlsbD0ibm9uZSIgc3Ryb2tlPSIjYzNjM2MzIiBzdHJva2Utd2lkdGg9IjEwIiByPSIzNSIgc3Ryb2tlLWRhc2hhcnJheT0iMTY0LjkzMzYxNDMxMzQ2NDE1IDU2Ljk3Nzg3MTQzNzgyMTM4Ij4gICAgPGFuaW1hdGVUcmFuc2Zvcm0gYXR0cmlidXRlTmFtZT0idHJhbnNmb3JtIiB0eXBlPSJyb3RhdGUiIHJlcGVhdENvdW50PSJpbmRlZmluaXRlIiBkdXI9IjFzIiB2YWx1ZXM9IjAgNTAgNTA7MzYwIDUwIDUwIiBrZXlUaW1lcz0iMDsxIj48L2FuaW1hdGVUcmFuc2Zvcm0+ICA8L2NpcmNsZT48L3N2Zz4=\\\");\\n  background-size: auto calc(min(50%, 400px));\\n}\",{\"type\":\"object\",\"name\":\"ImportedStyleSheet\",\"id\":\"p1144\",\"attributes\":{\"url\":\"https://cdn.holoviz.org/panel/1.3.8/dist/css/loading.css\"}},{\"type\":\"object\",\"name\":\"ImportedStyleSheet\",\"id\":\"p1212\",\"attributes\":{\"url\":\"https://cdn.holoviz.org/panel/1.3.8/dist/css/listpanel.css\"}},{\"type\":\"object\",\"name\":\"ImportedStyleSheet\",\"id\":\"p1142\",\"attributes\":{\"url\":\"https://cdn.holoviz.org/panel/1.3.8/dist/bundled/theme/default.css\"}},{\"type\":\"object\",\"name\":\"ImportedStyleSheet\",\"id\":\"p1143\",\"attributes\":{\"url\":\"https://cdn.holoviz.org/panel/1.3.8/dist/bundled/theme/native.css\"}}],\"min_width\":700,\"margin\":0,\"sizing_mode\":\"stretch_width\",\"align\":\"start\",\"children\":[{\"type\":\"object\",\"name\":\"Spacer\",\"id\":\"p1145\",\"attributes\":{\"name\":\"HSpacer01161\",\"stylesheets\":[\"\\n:host(.pn-loading.pn-arc):before, .pn-loading.pn-arc:before {\\n  background-image: url(\\\"data:image/svg+xml;base64,PHN2ZyB4bWxucz0iaHR0cDovL3d3dy53My5vcmcvMjAwMC9zdmciIHN0eWxlPSJtYXJnaW46IGF1dG87IGJhY2tncm91bmQ6IG5vbmU7IGRpc3BsYXk6IGJsb2NrOyBzaGFwZS1yZW5kZXJpbmc6IGF1dG87IiB2aWV3Qm94PSIwIDAgMTAwIDEwMCIgcHJlc2VydmVBc3BlY3RSYXRpbz0ieE1pZFlNaWQiPiAgPGNpcmNsZSBjeD0iNTAiIGN5PSI1MCIgZmlsbD0ibm9uZSIgc3Ryb2tlPSIjYzNjM2MzIiBzdHJva2Utd2lkdGg9IjEwIiByPSIzNSIgc3Ryb2tlLWRhc2hhcnJheT0iMTY0LjkzMzYxNDMxMzQ2NDE1IDU2Ljk3Nzg3MTQzNzgyMTM4Ij4gICAgPGFuaW1hdGVUcmFuc2Zvcm0gYXR0cmlidXRlTmFtZT0idHJhbnNmb3JtIiB0eXBlPSJyb3RhdGUiIHJlcGVhdENvdW50PSJpbmRlZmluaXRlIiBkdXI9IjFzIiB2YWx1ZXM9IjAgNTAgNTA7MzYwIDUwIDUwIiBrZXlUaW1lcz0iMDsxIj48L2FuaW1hdGVUcmFuc2Zvcm0+ICA8L2NpcmNsZT48L3N2Zz4=\\\");\\n  background-size: auto calc(min(50%, 400px));\\n}\",{\"id\":\"p1144\"},{\"id\":\"p1142\"},{\"id\":\"p1143\"}],\"margin\":0,\"sizing_mode\":\"stretch_width\",\"align\":\"start\"}},{\"type\":\"object\",\"name\":\"Figure\",\"id\":\"p1153\",\"attributes\":{\"width\":700,\"height\":300,\"margin\":[5,10],\"sizing_mode\":\"fixed\",\"align\":\"start\",\"x_range\":{\"type\":\"object\",\"name\":\"Range1d\",\"id\":\"p1146\",\"attributes\":{\"tags\":[[[\"Date\",\"Date\",null]],[]],\"start\":947030400000.0,\"end\":1714348800000.0,\"reset_start\":947030400000.0,\"reset_end\":1714348800000.0}},\"y_range\":{\"type\":\"object\",\"name\":\"Range1d\",\"id\":\"p1147\",\"attributes\":{\"tags\":[[[\"F_1_d_returns\",\"F_1_d_returns\",null]],{\"type\":\"map\",\"entries\":[[\"invert_yaxis\",false],[\"autorange\",false]]}],\"start\":-3.9116521209056727,\"end\":54.78215708239048,\"reset_start\":-3.9116521209056727,\"reset_end\":54.78215708239048}},\"x_scale\":{\"type\":\"object\",\"name\":\"LinearScale\",\"id\":\"p1163\"},\"y_scale\":{\"type\":\"object\",\"name\":\"LinearScale\",\"id\":\"p1164\"},\"title\":{\"type\":\"object\",\"name\":\"Title\",\"id\":\"p1156\",\"attributes\":{\"text_color\":\"black\",\"text_font_size\":\"12pt\"}},\"renderers\":[{\"type\":\"object\",\"name\":\"GlyphRenderer\",\"id\":\"p1205\",\"attributes\":{\"data_source\":{\"type\":\"object\",\"name\":\"ColumnDataSource\",\"id\":\"p1196\",\"attributes\":{\"selected\":{\"type\":\"object\",\"name\":\"Selection\",\"id\":\"p1197\",\"attributes\":{\"indices\":[],\"line_indices\":[]}},\"selection_policy\":{\"type\":\"object\",\"name\":\"UnionRenderers\",\"id\":\"p1198\"},\"data\":{\"type\":\"map\",\"entries\":[[\"Date\",{\"type\":\"ndarray\",\"array\":{\"type\":\"bytes\",\"data\":\"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\"},\"shape\":[6117],\"dtype\":\"float64\",\"order\":\"little\"}],[\"F_1_d_returns\",{\"type\":\"ndarray\",\"array\":{\"type\":\"bytes\",\"data\":\"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\"},\"shape\":[6117],\"dtype\":\"float64\",\"order\":\"little\"}]]}}},\"view\":{\"type\":\"object\",\"name\":\"CDSView\",\"id\":\"p1206\",\"attributes\":{\"filter\":{\"type\":\"object\",\"name\":\"AllIndices\",\"id\":\"p1207\"}}},\"glyph\":{\"type\":\"object\",\"name\":\"Line\",\"id\":\"p1202\",\"attributes\":{\"tags\":[\"apply_ranges\"],\"x\":{\"type\":\"field\",\"field\":\"Date\"},\"y\":{\"type\":\"field\",\"field\":\"F_1_d_returns\"},\"line_color\":\"#30a2da\",\"line_width\":2}},\"selection_glyph\":{\"type\":\"object\",\"name\":\"Line\",\"id\":\"p1208\",\"attributes\":{\"tags\":[\"apply_ranges\"],\"x\":{\"type\":\"field\",\"field\":\"Date\"},\"y\":{\"type\":\"field\",\"field\":\"F_1_d_returns\"},\"line_color\":\"#30a2da\",\"line_width\":2}},\"nonselection_glyph\":{\"type\":\"object\",\"name\":\"Line\",\"id\":\"p1203\",\"attributes\":{\"tags\":[\"apply_ranges\"],\"x\":{\"type\":\"field\",\"field\":\"Date\"},\"y\":{\"type\":\"field\",\"field\":\"F_1_d_returns\"},\"line_color\":\"#30a2da\",\"line_alpha\":0.1,\"line_width\":2}},\"muted_glyph\":{\"type\":\"object\",\"name\":\"Line\",\"id\":\"p1204\",\"attributes\":{\"tags\":[\"apply_ranges\"],\"x\":{\"type\":\"field\",\"field\":\"Date\"},\"y\":{\"type\":\"field\",\"field\":\"F_1_d_returns\"},\"line_color\":\"#30a2da\",\"line_alpha\":0.2,\"line_width\":2}}}}],\"toolbar\":{\"type\":\"object\",\"name\":\"Toolbar\",\"id\":\"p1162\",\"attributes\":{\"tools\":[{\"type\":\"object\",\"name\":\"WheelZoomTool\",\"id\":\"p1151\",\"attributes\":{\"tags\":[\"hv_created\"],\"renderers\":\"auto\",\"zoom_together\":\"none\"}},{\"type\":\"object\",\"name\":\"HoverTool\",\"id\":\"p1152\",\"attributes\":{\"tags\":[\"hv_created\"],\"renderers\":[{\"id\":\"p1205\"}],\"tooltips\":[[\"Date\",\"@{Date}{%F %T}\"],[\"F_1_d_returns\",\"@{F_1_d_returns}\"]],\"formatters\":{\"type\":\"map\",\"entries\":[[\"@{Date}\",\"datetime\"]]}}},{\"type\":\"object\",\"name\":\"SaveTool\",\"id\":\"p1187\"},{\"type\":\"object\",\"name\":\"PanTool\",\"id\":\"p1188\"},{\"type\":\"object\",\"name\":\"BoxZoomTool\",\"id\":\"p1189\",\"attributes\":{\"overlay\":{\"type\":\"object\",\"name\":\"BoxAnnotation\",\"id\":\"p1190\",\"attributes\":{\"syncable\":false,\"level\":\"overlay\",\"visible\":false,\"left\":{\"type\":\"number\",\"value\":\"nan\"},\"right\":{\"type\":\"number\",\"value\":\"nan\"},\"top\":{\"type\":\"number\",\"value\":\"nan\"},\"bottom\":{\"type\":\"number\",\"value\":\"nan\"},\"left_units\":\"canvas\",\"right_units\":\"canvas\",\"top_units\":\"canvas\",\"bottom_units\":\"canvas\",\"line_color\":\"black\",\"line_alpha\":1.0,\"line_width\":2,\"line_dash\":[4,4],\"fill_color\":\"lightgrey\",\"fill_alpha\":0.5}}}},{\"type\":\"object\",\"name\":\"ResetTool\",\"id\":\"p1195\"}],\"active_drag\":{\"id\":\"p1188\"},\"active_scroll\":{\"id\":\"p1151\"}}},\"left\":[{\"type\":\"object\",\"name\":\"LinearAxis\",\"id\":\"p1182\",\"attributes\":{\"ticker\":{\"type\":\"object\",\"name\":\"BasicTicker\",\"id\":\"p1183\",\"attributes\":{\"mantissas\":[1,2,5]}},\"formatter\":{\"type\":\"object\",\"name\":\"BasicTickFormatter\",\"id\":\"p1184\"},\"axis_label\":\"F_1_d_returns\",\"major_label_policy\":{\"type\":\"object\",\"name\":\"AllLabels\",\"id\":\"p1185\"}}}],\"below\":[{\"type\":\"object\",\"name\":\"DatetimeAxis\",\"id\":\"p1165\",\"attributes\":{\"ticker\":{\"type\":\"object\",\"name\":\"DatetimeTicker\",\"id\":\"p1166\",\"attributes\":{\"num_minor_ticks\":5,\"tickers\":[{\"type\":\"object\",\"name\":\"AdaptiveTicker\",\"id\":\"p1167\",\"attributes\":{\"num_minor_ticks\":0,\"mantissas\":[1,2,5],\"max_interval\":500.0}},{\"type\":\"object\",\"name\":\"AdaptiveTicker\",\"id\":\"p1168\",\"attributes\":{\"num_minor_ticks\":0,\"base\":60,\"mantissas\":[1,2,5,10,15,20,30],\"min_interval\":1000.0,\"max_interval\":1800000.0}},{\"type\":\"object\",\"name\":\"AdaptiveTicker\",\"id\":\"p1169\",\"attributes\":{\"num_minor_ticks\":0,\"base\":24,\"mantissas\":[1,2,4,6,8,12],\"min_interval\":3600000.0,\"max_interval\":43200000.0}},{\"type\":\"object\",\"name\":\"DaysTicker\",\"id\":\"p1170\",\"attributes\":{\"days\":[1,2,3,4,5,6,7,8,9,10,11,12,13,14,15,16,17,18,19,20,21,22,23,24,25,26,27,28,29,30,31]}},{\"type\":\"object\",\"name\":\"DaysTicker\",\"id\":\"p1171\",\"attributes\":{\"days\":[1,4,7,10,13,16,19,22,25,28]}},{\"type\":\"object\",\"name\":\"DaysTicker\",\"id\":\"p1172\",\"attributes\":{\"days\":[1,8,15,22]}},{\"type\":\"object\",\"name\":\"DaysTicker\",\"id\":\"p1173\",\"attributes\":{\"days\":[1,15]}},{\"type\":\"object\",\"name\":\"MonthsTicker\",\"id\":\"p1174\",\"attributes\":{\"months\":[0,1,2,3,4,5,6,7,8,9,10,11]}},{\"type\":\"object\",\"name\":\"MonthsTicker\",\"id\":\"p1175\",\"attributes\":{\"months\":[0,2,4,6,8,10]}},{\"type\":\"object\",\"name\":\"MonthsTicker\",\"id\":\"p1176\",\"attributes\":{\"months\":[0,4,8]}},{\"type\":\"object\",\"name\":\"MonthsTicker\",\"id\":\"p1177\",\"attributes\":{\"months\":[0,6]}},{\"type\":\"object\",\"name\":\"YearsTicker\",\"id\":\"p1178\"}]}},\"formatter\":{\"type\":\"object\",\"name\":\"DatetimeTickFormatter\",\"id\":\"p1179\"},\"axis_label\":\"Date\",\"major_label_policy\":{\"type\":\"object\",\"name\":\"AllLabels\",\"id\":\"p1180\"}}}],\"center\":[{\"type\":\"object\",\"name\":\"Grid\",\"id\":\"p1181\",\"attributes\":{\"axis\":{\"id\":\"p1165\"},\"grid_line_color\":null}},{\"type\":\"object\",\"name\":\"Grid\",\"id\":\"p1186\",\"attributes\":{\"dimension\":1,\"axis\":{\"id\":\"p1182\"},\"grid_line_color\":null}}],\"min_border_top\":10,\"min_border_bottom\":10,\"min_border_left\":10,\"min_border_right\":10,\"output_backend\":\"webgl\"}},{\"type\":\"object\",\"name\":\"Spacer\",\"id\":\"p1210\",\"attributes\":{\"name\":\"HSpacer01162\",\"stylesheets\":[\"\\n:host(.pn-loading.pn-arc):before, .pn-loading.pn-arc:before {\\n  background-image: url(\\\"data:image/svg+xml;base64,PHN2ZyB4bWxucz0iaHR0cDovL3d3dy53My5vcmcvMjAwMC9zdmciIHN0eWxlPSJtYXJnaW46IGF1dG87IGJhY2tncm91bmQ6IG5vbmU7IGRpc3BsYXk6IGJsb2NrOyBzaGFwZS1yZW5kZXJpbmc6IGF1dG87IiB2aWV3Qm94PSIwIDAgMTAwIDEwMCIgcHJlc2VydmVBc3BlY3RSYXRpbz0ieE1pZFlNaWQiPiAgPGNpcmNsZSBjeD0iNTAiIGN5PSI1MCIgZmlsbD0ibm9uZSIgc3Ryb2tlPSIjYzNjM2MzIiBzdHJva2Utd2lkdGg9IjEwIiByPSIzNSIgc3Ryb2tlLWRhc2hhcnJheT0iMTY0LjkzMzYxNDMxMzQ2NDE1IDU2Ljk3Nzg3MTQzNzgyMTM4Ij4gICAgPGFuaW1hdGVUcmFuc2Zvcm0gYXR0cmlidXRlTmFtZT0idHJhbnNmb3JtIiB0eXBlPSJyb3RhdGUiIHJlcGVhdENvdW50PSJpbmRlZmluaXRlIiBkdXI9IjFzIiB2YWx1ZXM9IjAgNTAgNTA7MzYwIDUwIDUwIiBrZXlUaW1lcz0iMDsxIj48L2FuaW1hdGVUcmFuc2Zvcm0+ICA8L2NpcmNsZT48L3N2Zz4=\\\");\\n  background-size: auto calc(min(50%, 400px));\\n}\",{\"id\":\"p1144\"},{\"id\":\"p1142\"},{\"id\":\"p1143\"}],\"margin\":0,\"sizing_mode\":\"stretch_width\",\"align\":\"start\"}}]}}],\"defs\":[{\"type\":\"model\",\"name\":\"ReactiveHTML1\"},{\"type\":\"model\",\"name\":\"FlexBox1\",\"properties\":[{\"name\":\"align_content\",\"kind\":\"Any\",\"default\":\"flex-start\"},{\"name\":\"align_items\",\"kind\":\"Any\",\"default\":\"flex-start\"},{\"name\":\"flex_direction\",\"kind\":\"Any\",\"default\":\"row\"},{\"name\":\"flex_wrap\",\"kind\":\"Any\",\"default\":\"wrap\"},{\"name\":\"justify_content\",\"kind\":\"Any\",\"default\":\"flex-start\"}]},{\"type\":\"model\",\"name\":\"FloatPanel1\",\"properties\":[{\"name\":\"config\",\"kind\":\"Any\",\"default\":{\"type\":\"map\"}},{\"name\":\"contained\",\"kind\":\"Any\",\"default\":true},{\"name\":\"position\",\"kind\":\"Any\",\"default\":\"right-top\"},{\"name\":\"offsetx\",\"kind\":\"Any\",\"default\":null},{\"name\":\"offsety\",\"kind\":\"Any\",\"default\":null},{\"name\":\"theme\",\"kind\":\"Any\",\"default\":\"primary\"},{\"name\":\"status\",\"kind\":\"Any\",\"default\":\"normalized\"}]},{\"type\":\"model\",\"name\":\"GridStack1\",\"properties\":[{\"name\":\"mode\",\"kind\":\"Any\",\"default\":\"warn\"},{\"name\":\"ncols\",\"kind\":\"Any\",\"default\":null},{\"name\":\"nrows\",\"kind\":\"Any\",\"default\":null},{\"name\":\"allow_resize\",\"kind\":\"Any\",\"default\":true},{\"name\":\"allow_drag\",\"kind\":\"Any\",\"default\":true},{\"name\":\"state\",\"kind\":\"Any\",\"default\":[]}]},{\"type\":\"model\",\"name\":\"drag1\",\"properties\":[{\"name\":\"slider_width\",\"kind\":\"Any\",\"default\":5},{\"name\":\"slider_color\",\"kind\":\"Any\",\"default\":\"black\"},{\"name\":\"value\",\"kind\":\"Any\",\"default\":50}]},{\"type\":\"model\",\"name\":\"click1\",\"properties\":[{\"name\":\"terminal_output\",\"kind\":\"Any\",\"default\":\"\"},{\"name\":\"debug_name\",\"kind\":\"Any\",\"default\":\"\"},{\"name\":\"clears\",\"kind\":\"Any\",\"default\":0}]},{\"type\":\"model\",\"name\":\"copy_to_clipboard1\",\"properties\":[{\"name\":\"fill\",\"kind\":\"Any\",\"default\":\"none\"},{\"name\":\"value\",\"kind\":\"Any\",\"default\":null}]},{\"type\":\"model\",\"name\":\"FastWrapper1\",\"properties\":[{\"name\":\"object\",\"kind\":\"Any\",\"default\":null},{\"name\":\"style\",\"kind\":\"Any\",\"default\":null}]},{\"type\":\"model\",\"name\":\"NotificationAreaBase1\",\"properties\":[{\"name\":\"js_events\",\"kind\":\"Any\",\"default\":{\"type\":\"map\"}},{\"name\":\"position\",\"kind\":\"Any\",\"default\":\"bottom-right\"},{\"name\":\"_clear\",\"kind\":\"Any\",\"default\":0}]},{\"type\":\"model\",\"name\":\"NotificationArea1\",\"properties\":[{\"name\":\"js_events\",\"kind\":\"Any\",\"default\":{\"type\":\"map\"}},{\"name\":\"notifications\",\"kind\":\"Any\",\"default\":[]},{\"name\":\"position\",\"kind\":\"Any\",\"default\":\"bottom-right\"},{\"name\":\"_clear\",\"kind\":\"Any\",\"default\":0},{\"name\":\"types\",\"kind\":\"Any\",\"default\":[{\"type\":\"map\",\"entries\":[[\"type\",\"warning\"],[\"background\",\"#ffc107\"],[\"icon\",{\"type\":\"map\",\"entries\":[[\"className\",\"fas fa-exclamation-triangle\"],[\"tagName\",\"i\"],[\"color\",\"white\"]]}]]},{\"type\":\"map\",\"entries\":[[\"type\",\"info\"],[\"background\",\"#007bff\"],[\"icon\",{\"type\":\"map\",\"entries\":[[\"className\",\"fas fa-info-circle\"],[\"tagName\",\"i\"],[\"color\",\"white\"]]}]]}]}]},{\"type\":\"model\",\"name\":\"Notification\",\"properties\":[{\"name\":\"background\",\"kind\":\"Any\",\"default\":null},{\"name\":\"duration\",\"kind\":\"Any\",\"default\":3000},{\"name\":\"icon\",\"kind\":\"Any\",\"default\":null},{\"name\":\"message\",\"kind\":\"Any\",\"default\":\"\"},{\"name\":\"notification_type\",\"kind\":\"Any\",\"default\":null},{\"name\":\"_destroyed\",\"kind\":\"Any\",\"default\":false}]},{\"type\":\"model\",\"name\":\"TemplateActions1\",\"properties\":[{\"name\":\"open_modal\",\"kind\":\"Any\",\"default\":0},{\"name\":\"close_modal\",\"kind\":\"Any\",\"default\":0}]},{\"type\":\"model\",\"name\":\"BootstrapTemplateActions1\",\"properties\":[{\"name\":\"open_modal\",\"kind\":\"Any\",\"default\":0},{\"name\":\"close_modal\",\"kind\":\"Any\",\"default\":0}]},{\"type\":\"model\",\"name\":\"MaterialTemplateActions1\",\"properties\":[{\"name\":\"open_modal\",\"kind\":\"Any\",\"default\":0},{\"name\":\"close_modal\",\"kind\":\"Any\",\"default\":0}]}]}};\n",
       "  var render_items = [{\"docid\":\"404a1500-7b30-4167-99a1-910dc1c50b42\",\"roots\":{\"p1141\":\"b4324487-962a-44ab-b20c-3d993efd4b85\"},\"root_ids\":[\"p1141\"]}];\n",
       "  var docs = Object.values(docs_json)\n",
       "  if (!docs) {\n",
       "    return\n",
       "  }\n",
       "  const py_version = docs[0].version.replace('rc', '-rc.').replace('.dev', '-dev.')\n",
       "  function embed_document(root) {\n",
       "    var Bokeh = get_bokeh(root)\n",
       "    Bokeh.embed.embed_items_notebook(docs_json, render_items);\n",
       "    for (const render_item of render_items) {\n",
       "      for (const root_id of render_item.root_ids) {\n",
       "\tconst id_el = document.getElementById(root_id)\n",
       "\tif (id_el.children.length && (id_el.children[0].className === 'bk-root')) {\n",
       "\t  const root_el = id_el.children[0]\n",
       "\t  root_el.id = root_el.id + '-rendered'\n",
       "\t}\n",
       "      }\n",
       "    }\n",
       "  }\n",
       "  function get_bokeh(root) {\n",
       "    if (root.Bokeh === undefined) {\n",
       "      return null\n",
       "    } else if (root.Bokeh.version !== py_version) {\n",
       "      if (root.Bokeh.versions === undefined || !root.Bokeh.versions.has(py_version)) {\n",
       "\treturn null\n",
       "      }\n",
       "      return root.Bokeh.versions.get(py_version);\n",
       "    } else if (root.Bokeh.version === py_version) {\n",
       "      return root.Bokeh\n",
       "    }\n",
       "    return null\n",
       "  }\n",
       "  function is_loaded(root) {\n",
       "    var Bokeh = get_bokeh(root)\n",
       "    return (Bokeh != null && Bokeh.Panel !== undefined)\n",
       "  }\n",
       "  if (is_loaded(root)) {\n",
       "    embed_document(root);\n",
       "  } else {\n",
       "    var attempts = 0;\n",
       "    var timer = setInterval(function(root) {\n",
       "      if (is_loaded(root)) {\n",
       "        clearInterval(timer);\n",
       "        embed_document(root);\n",
       "      } else if (document.readyState == \"complete\") {\n",
       "        attempts++;\n",
       "        if (attempts > 200) {\n",
       "          clearInterval(timer);\n",
       "\t  var Bokeh = get_bokeh(root)\n",
       "\t  if (Bokeh == null || Bokeh.Panel == null) {\n",
       "            console.warn(\"Panel: ERROR: Unable to run Panel code because Bokeh or Panel library is missing\");\n",
       "\t  } else {\n",
       "\t    console.warn(\"Panel: WARNING: Attempting to render but not all required libraries could be resolved.\")\n",
       "\t    embed_document(root)\n",
       "\t  }\n",
       "        }\n",
       "      }\n",
       "    }, 25, root)\n",
       "  }\n",
       "})(window);</script>"
      ],
      "text/plain": [
       ":Curve   [Date]   (F_1_d_returns)"
      ]
     },
     "execution_count": 15,
     "metadata": {
      "application/vnd.holoviews_exec.v0+json": {
       "id": "p1141"
      }
     },
     "output_type": "execute_result"
    }
   ],
   "source": [
    "import hvplot.pandas  \n",
    "df_cum_returns.hvplot()"
   ]
  },
  {
   "cell_type": "code",
   "execution_count": 20,
   "id": "ee64f7b9-c363-4cd2-8339-64827476e943",
   "metadata": {
    "scrolled": true
   },
   "outputs": [
    {
     "data": {},
     "metadata": {},
     "output_type": "display_data"
    },
    {
     "data": {
      "application/vnd.holoviews_exec.v0+json": "",
      "text/html": [
       "<div id='p1278'>\n",
       "  <div id=\"ea35992c-7c92-4e38-9996-65f2f0bd7d1b\" data-root-id=\"p1278\" style=\"display: contents;\"></div>\n",
       "</div>\n",
       "<script type=\"application/javascript\">(function(root) {\n",
       "  var docs_json = {\"b6786c77-519d-4bc5-b044-217c013a1fae\":{\"version\":\"3.3.4\",\"title\":\"Bokeh Application\",\"roots\":[{\"type\":\"object\",\"name\":\"Row\",\"id\":\"p1278\",\"attributes\":{\"name\":\"Row01370\",\"tags\":[\"embedded\"],\"stylesheets\":[\"\\n:host(.pn-loading.pn-arc):before, .pn-loading.pn-arc:before {\\n  background-image: url(\\\"data:image/svg+xml;base64,PHN2ZyB4bWxucz0iaHR0cDovL3d3dy53My5vcmcvMjAwMC9zdmciIHN0eWxlPSJtYXJnaW46IGF1dG87IGJhY2tncm91bmQ6IG5vbmU7IGRpc3BsYXk6IGJsb2NrOyBzaGFwZS1yZW5kZXJpbmc6IGF1dG87IiB2aWV3Qm94PSIwIDAgMTAwIDEwMCIgcHJlc2VydmVBc3BlY3RSYXRpbz0ieE1pZFlNaWQiPiAgPGNpcmNsZSBjeD0iNTAiIGN5PSI1MCIgZmlsbD0ibm9uZSIgc3Ryb2tlPSIjYzNjM2MzIiBzdHJva2Utd2lkdGg9IjEwIiByPSIzNSIgc3Ryb2tlLWRhc2hhcnJheT0iMTY0LjkzMzYxNDMxMzQ2NDE1IDU2Ljk3Nzg3MTQzNzgyMTM4Ij4gICAgPGFuaW1hdGVUcmFuc2Zvcm0gYXR0cmlidXRlTmFtZT0idHJhbnNmb3JtIiB0eXBlPSJyb3RhdGUiIHJlcGVhdENvdW50PSJpbmRlZmluaXRlIiBkdXI9IjFzIiB2YWx1ZXM9IjAgNTAgNTA7MzYwIDUwIDUwIiBrZXlUaW1lcz0iMDsxIj48L2FuaW1hdGVUcmFuc2Zvcm0+ICA8L2NpcmNsZT48L3N2Zz4=\\\");\\n  background-size: auto calc(min(50%, 400px));\\n}\",{\"type\":\"object\",\"name\":\"ImportedStyleSheet\",\"id\":\"p1281\",\"attributes\":{\"url\":\"https://cdn.holoviz.org/panel/1.3.8/dist/css/loading.css\"}},{\"type\":\"object\",\"name\":\"ImportedStyleSheet\",\"id\":\"p1337\",\"attributes\":{\"url\":\"https://cdn.holoviz.org/panel/1.3.8/dist/css/listpanel.css\"}},{\"type\":\"object\",\"name\":\"ImportedStyleSheet\",\"id\":\"p1279\",\"attributes\":{\"url\":\"https://cdn.holoviz.org/panel/1.3.8/dist/bundled/theme/default.css\"}},{\"type\":\"object\",\"name\":\"ImportedStyleSheet\",\"id\":\"p1280\",\"attributes\":{\"url\":\"https://cdn.holoviz.org/panel/1.3.8/dist/bundled/theme/native.css\"}}],\"min_width\":700,\"margin\":0,\"sizing_mode\":\"stretch_width\",\"align\":\"start\",\"children\":[{\"type\":\"object\",\"name\":\"Spacer\",\"id\":\"p1282\",\"attributes\":{\"name\":\"HSpacer01377\",\"stylesheets\":[\"\\n:host(.pn-loading.pn-arc):before, .pn-loading.pn-arc:before {\\n  background-image: url(\\\"data:image/svg+xml;base64,PHN2ZyB4bWxucz0iaHR0cDovL3d3dy53My5vcmcvMjAwMC9zdmciIHN0eWxlPSJtYXJnaW46IGF1dG87IGJhY2tncm91bmQ6IG5vbmU7IGRpc3BsYXk6IGJsb2NrOyBzaGFwZS1yZW5kZXJpbmc6IGF1dG87IiB2aWV3Qm94PSIwIDAgMTAwIDEwMCIgcHJlc2VydmVBc3BlY3RSYXRpbz0ieE1pZFlNaWQiPiAgPGNpcmNsZSBjeD0iNTAiIGN5PSI1MCIgZmlsbD0ibm9uZSIgc3Ryb2tlPSIjYzNjM2MzIiBzdHJva2Utd2lkdGg9IjEwIiByPSIzNSIgc3Ryb2tlLWRhc2hhcnJheT0iMTY0LjkzMzYxNDMxMzQ2NDE1IDU2Ljk3Nzg3MTQzNzgyMTM4Ij4gICAgPGFuaW1hdGVUcmFuc2Zvcm0gYXR0cmlidXRlTmFtZT0idHJhbnNmb3JtIiB0eXBlPSJyb3RhdGUiIHJlcGVhdENvdW50PSJpbmRlZmluaXRlIiBkdXI9IjFzIiB2YWx1ZXM9IjAgNTAgNTA7MzYwIDUwIDUwIiBrZXlUaW1lcz0iMDsxIj48L2FuaW1hdGVUcmFuc2Zvcm0+ICA8L2NpcmNsZT48L3N2Zz4=\\\");\\n  background-size: auto calc(min(50%, 400px));\\n}\",{\"id\":\"p1281\"},{\"id\":\"p1279\"},{\"id\":\"p1280\"}],\"margin\":0,\"sizing_mode\":\"stretch_width\",\"align\":\"start\"}},{\"type\":\"object\",\"name\":\"Figure\",\"id\":\"p1290\",\"attributes\":{\"width\":700,\"height\":300,\"margin\":[5,10],\"sizing_mode\":\"fixed\",\"align\":\"start\",\"x_range\":{\"type\":\"object\",\"name\":\"FactorRange\",\"id\":\"p1283\",\"attributes\":{\"tags\":[[[\"Date\",\"Date\",null]],[]],\"factors\":[\"2000\",\"2001\",\"2002\",\"2003\",\"2004\",\"2005\",\"2006\",\"2007\",\"2008\",\"2009\",\"2010\",\"2011\",\"2012\",\"2013\",\"2014\",\"2015\",\"2016\",\"2017\",\"2018\",\"2019\",\"2020\",\"2021\",\"2022\",\"2023\",\"2024\"]}},\"y_range\":{\"type\":\"object\",\"name\":\"Range1d\",\"id\":\"p1284\",\"attributes\":{\"tags\":[[[\"F_1_d_returns\",\"F_1_d_returns\",null]],{\"type\":\"map\",\"entries\":[[\"invert_yaxis\",false],[\"autorange\",false]]}],\"start\":-34.089069007099475,\"end\":54.661993809928575,\"reset_start\":-34.089069007099475,\"reset_end\":54.661993809928575}},\"x_scale\":{\"type\":\"object\",\"name\":\"CategoricalScale\",\"id\":\"p1300\"},\"y_scale\":{\"type\":\"object\",\"name\":\"LinearScale\",\"id\":\"p1301\"},\"title\":{\"type\":\"object\",\"name\":\"Title\",\"id\":\"p1293\",\"attributes\":{\"text_color\":\"black\",\"text_font_size\":\"12pt\"}},\"renderers\":[{\"type\":\"object\",\"name\":\"GlyphRenderer\",\"id\":\"p1330\",\"attributes\":{\"data_source\":{\"type\":\"object\",\"name\":\"ColumnDataSource\",\"id\":\"p1321\",\"attributes\":{\"selected\":{\"type\":\"object\",\"name\":\"Selection\",\"id\":\"p1322\",\"attributes\":{\"indices\":[],\"line_indices\":[]}},\"selection_policy\":{\"type\":\"object\",\"name\":\"UnionRenderers\",\"id\":\"p1323\"},\"data\":{\"type\":\"map\",\"entries\":[[\"Date\",[\"2000\",\"2001\",\"2002\",\"2003\",\"2004\",\"2005\",\"2006\",\"2007\",\"2008\",\"2009\",\"2010\",\"2011\",\"2012\",\"2013\",\"2014\",\"2015\",\"2016\",\"2017\",\"2018\",\"2019\",\"2020\",\"2021\",\"2022\",\"2023\",\"2024\"]],[\"F_1_d_returns\",{\"type\":\"ndarray\",\"array\":{\"type\":\"bytes\",\"data\":\"Wp9ZZuS9QEAQWHzE8xQyQO9fTnAtzxPACn0bppd3R0BNBVW7Q1o5QIO2F9ITzzJAvEC0xbCuNUC5d7iaeYsiQPU2thZysTrAarfwpA6iR0AeKz+xKXg6QIm/YKDVmBVAKcl0OqGuOEClwqNcp/pBQNjHD3D03DRATB8P08ye/j+Mfc94eZ81QPSLeG4/ijpA7p0IUaGvDsA8stD7gytCQL304vG4bDNAuXCV2zFkQUBdBN3J9dYhwMvWJoAfcTJA0ohI2LQ1DEA=\"},\"shape\":[25],\"dtype\":\"float64\",\"order\":\"little\"}]]}}},\"view\":{\"type\":\"object\",\"name\":\"CDSView\",\"id\":\"p1331\",\"attributes\":{\"filter\":{\"type\":\"object\",\"name\":\"AllIndices\",\"id\":\"p1332\"}}},\"glyph\":{\"type\":\"object\",\"name\":\"VBar\",\"id\":\"p1327\",\"attributes\":{\"tags\":[\"apply_ranges\"],\"x\":{\"type\":\"field\",\"field\":\"Date\"},\"width\":{\"type\":\"value\",\"value\":0.8},\"top\":{\"type\":\"field\",\"field\":\"F_1_d_returns\"},\"fill_color\":{\"type\":\"value\",\"value\":\"#30a2da\"},\"hatch_color\":{\"type\":\"value\",\"value\":\"#30a2da\"}}},\"selection_glyph\":{\"type\":\"object\",\"name\":\"VBar\",\"id\":\"p1333\",\"attributes\":{\"tags\":[\"apply_ranges\"],\"x\":{\"type\":\"field\",\"field\":\"Date\"},\"width\":{\"type\":\"value\",\"value\":0.8},\"bottom\":{\"type\":\"value\",\"value\":0},\"top\":{\"type\":\"field\",\"field\":\"F_1_d_returns\"},\"line_color\":{\"type\":\"value\",\"value\":\"black\"},\"line_alpha\":{\"type\":\"value\",\"value\":1.0},\"line_width\":{\"type\":\"value\",\"value\":1},\"line_join\":{\"type\":\"value\",\"value\":\"bevel\"},\"line_cap\":{\"type\":\"value\",\"value\":\"butt\"},\"line_dash\":{\"type\":\"value\",\"value\":[]},\"line_dash_offset\":{\"type\":\"value\",\"value\":0},\"fill_color\":{\"type\":\"value\",\"value\":\"#30a2da\"},\"fill_alpha\":{\"type\":\"value\",\"value\":1.0},\"hatch_color\":{\"type\":\"value\",\"value\":\"#30a2da\"},\"hatch_alpha\":{\"type\":\"value\",\"value\":1.0},\"hatch_scale\":{\"type\":\"value\",\"value\":12.0},\"hatch_pattern\":{\"type\":\"value\",\"value\":null},\"hatch_weight\":{\"type\":\"value\",\"value\":1.0}}},\"nonselection_glyph\":{\"type\":\"object\",\"name\":\"VBar\",\"id\":\"p1328\",\"attributes\":{\"tags\":[\"apply_ranges\"],\"x\":{\"type\":\"field\",\"field\":\"Date\"},\"width\":{\"type\":\"value\",\"value\":0.8},\"top\":{\"type\":\"field\",\"field\":\"F_1_d_returns\"},\"line_alpha\":{\"type\":\"value\",\"value\":0.1},\"fill_color\":{\"type\":\"value\",\"value\":\"#30a2da\"},\"fill_alpha\":{\"type\":\"value\",\"value\":0.1},\"hatch_color\":{\"type\":\"value\",\"value\":\"#30a2da\"},\"hatch_alpha\":{\"type\":\"value\",\"value\":0.1}}},\"muted_glyph\":{\"type\":\"object\",\"name\":\"VBar\",\"id\":\"p1329\",\"attributes\":{\"tags\":[\"apply_ranges\"],\"x\":{\"type\":\"field\",\"field\":\"Date\"},\"width\":{\"type\":\"value\",\"value\":0.8},\"top\":{\"type\":\"field\",\"field\":\"F_1_d_returns\"},\"line_alpha\":{\"type\":\"value\",\"value\":0.2},\"fill_color\":{\"type\":\"value\",\"value\":\"#30a2da\"},\"fill_alpha\":{\"type\":\"value\",\"value\":0.2},\"hatch_color\":{\"type\":\"value\",\"value\":\"#30a2da\"},\"hatch_alpha\":{\"type\":\"value\",\"value\":0.2}}}}}],\"toolbar\":{\"type\":\"object\",\"name\":\"Toolbar\",\"id\":\"p1299\",\"attributes\":{\"tools\":[{\"type\":\"object\",\"name\":\"WheelZoomTool\",\"id\":\"p1288\",\"attributes\":{\"tags\":[\"hv_created\"],\"renderers\":\"auto\",\"zoom_together\":\"none\"}},{\"type\":\"object\",\"name\":\"HoverTool\",\"id\":\"p1289\",\"attributes\":{\"tags\":[\"hv_created\"],\"renderers\":[{\"id\":\"p1330\"}],\"tooltips\":[[\"Date\",\"@{Date}\"],[\"F_1_d_returns\",\"@{F_1_d_returns}\"]]}},{\"type\":\"object\",\"name\":\"SaveTool\",\"id\":\"p1312\"},{\"type\":\"object\",\"name\":\"PanTool\",\"id\":\"p1313\"},{\"type\":\"object\",\"name\":\"BoxZoomTool\",\"id\":\"p1314\",\"attributes\":{\"overlay\":{\"type\":\"object\",\"name\":\"BoxAnnotation\",\"id\":\"p1315\",\"attributes\":{\"syncable\":false,\"level\":\"overlay\",\"visible\":false,\"left\":{\"type\":\"number\",\"value\":\"nan\"},\"right\":{\"type\":\"number\",\"value\":\"nan\"},\"top\":{\"type\":\"number\",\"value\":\"nan\"},\"bottom\":{\"type\":\"number\",\"value\":\"nan\"},\"left_units\":\"canvas\",\"right_units\":\"canvas\",\"top_units\":\"canvas\",\"bottom_units\":\"canvas\",\"line_color\":\"black\",\"line_alpha\":1.0,\"line_width\":2,\"line_dash\":[4,4],\"fill_color\":\"lightgrey\",\"fill_alpha\":0.5}}}},{\"type\":\"object\",\"name\":\"ResetTool\",\"id\":\"p1320\"}],\"active_drag\":{\"id\":\"p1313\"},\"active_scroll\":{\"id\":\"p1288\"}}},\"left\":[{\"type\":\"object\",\"name\":\"LinearAxis\",\"id\":\"p1307\",\"attributes\":{\"ticker\":{\"type\":\"object\",\"name\":\"BasicTicker\",\"id\":\"p1308\",\"attributes\":{\"mantissas\":[1,2,5]}},\"formatter\":{\"type\":\"object\",\"name\":\"BasicTickFormatter\",\"id\":\"p1309\"},\"axis_label\":\"F_1_d_returns\",\"major_label_policy\":{\"type\":\"object\",\"name\":\"AllLabels\",\"id\":\"p1310\"}}}],\"below\":[{\"type\":\"object\",\"name\":\"CategoricalAxis\",\"id\":\"p1302\",\"attributes\":{\"ticker\":{\"type\":\"object\",\"name\":\"CategoricalTicker\",\"id\":\"p1303\"},\"formatter\":{\"type\":\"object\",\"name\":\"CategoricalTickFormatter\",\"id\":\"p1304\"},\"axis_label\":\"Date\",\"major_label_orientation\":0.5235987755982988,\"major_label_policy\":{\"type\":\"object\",\"name\":\"AllLabels\",\"id\":\"p1305\"}}}],\"center\":[{\"type\":\"object\",\"name\":\"Grid\",\"id\":\"p1306\",\"attributes\":{\"axis\":{\"id\":\"p1302\"},\"grid_line_color\":null}},{\"type\":\"object\",\"name\":\"Grid\",\"id\":\"p1311\",\"attributes\":{\"dimension\":1,\"axis\":{\"id\":\"p1307\"},\"grid_line_color\":null}}],\"min_border_top\":10,\"min_border_bottom\":10,\"min_border_left\":10,\"min_border_right\":10,\"output_backend\":\"webgl\"}},{\"type\":\"object\",\"name\":\"Spacer\",\"id\":\"p1335\",\"attributes\":{\"name\":\"HSpacer01378\",\"stylesheets\":[\"\\n:host(.pn-loading.pn-arc):before, .pn-loading.pn-arc:before {\\n  background-image: url(\\\"data:image/svg+xml;base64,PHN2ZyB4bWxucz0iaHR0cDovL3d3dy53My5vcmcvMjAwMC9zdmciIHN0eWxlPSJtYXJnaW46IGF1dG87IGJhY2tncm91bmQ6IG5vbmU7IGRpc3BsYXk6IGJsb2NrOyBzaGFwZS1yZW5kZXJpbmc6IGF1dG87IiB2aWV3Qm94PSIwIDAgMTAwIDEwMCIgcHJlc2VydmVBc3BlY3RSYXRpbz0ieE1pZFlNaWQiPiAgPGNpcmNsZSBjeD0iNTAiIGN5PSI1MCIgZmlsbD0ibm9uZSIgc3Ryb2tlPSIjYzNjM2MzIiBzdHJva2Utd2lkdGg9IjEwIiByPSIzNSIgc3Ryb2tlLWRhc2hhcnJheT0iMTY0LjkzMzYxNDMxMzQ2NDE1IDU2Ljk3Nzg3MTQzNzgyMTM4Ij4gICAgPGFuaW1hdGVUcmFuc2Zvcm0gYXR0cmlidXRlTmFtZT0idHJhbnNmb3JtIiB0eXBlPSJyb3RhdGUiIHJlcGVhdENvdW50PSJpbmRlZmluaXRlIiBkdXI9IjFzIiB2YWx1ZXM9IjAgNTAgNTA7MzYwIDUwIDUwIiBrZXlUaW1lcz0iMDsxIj48L2FuaW1hdGVUcmFuc2Zvcm0+ICA8L2NpcmNsZT48L3N2Zz4=\\\");\\n  background-size: auto calc(min(50%, 400px));\\n}\",{\"id\":\"p1281\"},{\"id\":\"p1279\"},{\"id\":\"p1280\"}],\"margin\":0,\"sizing_mode\":\"stretch_width\",\"align\":\"start\"}}]}}],\"defs\":[{\"type\":\"model\",\"name\":\"ReactiveHTML1\"},{\"type\":\"model\",\"name\":\"FlexBox1\",\"properties\":[{\"name\":\"align_content\",\"kind\":\"Any\",\"default\":\"flex-start\"},{\"name\":\"align_items\",\"kind\":\"Any\",\"default\":\"flex-start\"},{\"name\":\"flex_direction\",\"kind\":\"Any\",\"default\":\"row\"},{\"name\":\"flex_wrap\",\"kind\":\"Any\",\"default\":\"wrap\"},{\"name\":\"justify_content\",\"kind\":\"Any\",\"default\":\"flex-start\"}]},{\"type\":\"model\",\"name\":\"FloatPanel1\",\"properties\":[{\"name\":\"config\",\"kind\":\"Any\",\"default\":{\"type\":\"map\"}},{\"name\":\"contained\",\"kind\":\"Any\",\"default\":true},{\"name\":\"position\",\"kind\":\"Any\",\"default\":\"right-top\"},{\"name\":\"offsetx\",\"kind\":\"Any\",\"default\":null},{\"name\":\"offsety\",\"kind\":\"Any\",\"default\":null},{\"name\":\"theme\",\"kind\":\"Any\",\"default\":\"primary\"},{\"name\":\"status\",\"kind\":\"Any\",\"default\":\"normalized\"}]},{\"type\":\"model\",\"name\":\"GridStack1\",\"properties\":[{\"name\":\"mode\",\"kind\":\"Any\",\"default\":\"warn\"},{\"name\":\"ncols\",\"kind\":\"Any\",\"default\":null},{\"name\":\"nrows\",\"kind\":\"Any\",\"default\":null},{\"name\":\"allow_resize\",\"kind\":\"Any\",\"default\":true},{\"name\":\"allow_drag\",\"kind\":\"Any\",\"default\":true},{\"name\":\"state\",\"kind\":\"Any\",\"default\":[]}]},{\"type\":\"model\",\"name\":\"drag1\",\"properties\":[{\"name\":\"slider_width\",\"kind\":\"Any\",\"default\":5},{\"name\":\"slider_color\",\"kind\":\"Any\",\"default\":\"black\"},{\"name\":\"value\",\"kind\":\"Any\",\"default\":50}]},{\"type\":\"model\",\"name\":\"click1\",\"properties\":[{\"name\":\"terminal_output\",\"kind\":\"Any\",\"default\":\"\"},{\"name\":\"debug_name\",\"kind\":\"Any\",\"default\":\"\"},{\"name\":\"clears\",\"kind\":\"Any\",\"default\":0}]},{\"type\":\"model\",\"name\":\"copy_to_clipboard1\",\"properties\":[{\"name\":\"fill\",\"kind\":\"Any\",\"default\":\"none\"},{\"name\":\"value\",\"kind\":\"Any\",\"default\":null}]},{\"type\":\"model\",\"name\":\"FastWrapper1\",\"properties\":[{\"name\":\"object\",\"kind\":\"Any\",\"default\":null},{\"name\":\"style\",\"kind\":\"Any\",\"default\":null}]},{\"type\":\"model\",\"name\":\"NotificationAreaBase1\",\"properties\":[{\"name\":\"js_events\",\"kind\":\"Any\",\"default\":{\"type\":\"map\"}},{\"name\":\"position\",\"kind\":\"Any\",\"default\":\"bottom-right\"},{\"name\":\"_clear\",\"kind\":\"Any\",\"default\":0}]},{\"type\":\"model\",\"name\":\"NotificationArea1\",\"properties\":[{\"name\":\"js_events\",\"kind\":\"Any\",\"default\":{\"type\":\"map\"}},{\"name\":\"notifications\",\"kind\":\"Any\",\"default\":[]},{\"name\":\"position\",\"kind\":\"Any\",\"default\":\"bottom-right\"},{\"name\":\"_clear\",\"kind\":\"Any\",\"default\":0},{\"name\":\"types\",\"kind\":\"Any\",\"default\":[{\"type\":\"map\",\"entries\":[[\"type\",\"warning\"],[\"background\",\"#ffc107\"],[\"icon\",{\"type\":\"map\",\"entries\":[[\"className\",\"fas fa-exclamation-triangle\"],[\"tagName\",\"i\"],[\"color\",\"white\"]]}]]},{\"type\":\"map\",\"entries\":[[\"type\",\"info\"],[\"background\",\"#007bff\"],[\"icon\",{\"type\":\"map\",\"entries\":[[\"className\",\"fas fa-info-circle\"],[\"tagName\",\"i\"],[\"color\",\"white\"]]}]]}]}]},{\"type\":\"model\",\"name\":\"Notification\",\"properties\":[{\"name\":\"background\",\"kind\":\"Any\",\"default\":null},{\"name\":\"duration\",\"kind\":\"Any\",\"default\":3000},{\"name\":\"icon\",\"kind\":\"Any\",\"default\":null},{\"name\":\"message\",\"kind\":\"Any\",\"default\":\"\"},{\"name\":\"notification_type\",\"kind\":\"Any\",\"default\":null},{\"name\":\"_destroyed\",\"kind\":\"Any\",\"default\":false}]},{\"type\":\"model\",\"name\":\"TemplateActions1\",\"properties\":[{\"name\":\"open_modal\",\"kind\":\"Any\",\"default\":0},{\"name\":\"close_modal\",\"kind\":\"Any\",\"default\":0}]},{\"type\":\"model\",\"name\":\"BootstrapTemplateActions1\",\"properties\":[{\"name\":\"open_modal\",\"kind\":\"Any\",\"default\":0},{\"name\":\"close_modal\",\"kind\":\"Any\",\"default\":0}]},{\"type\":\"model\",\"name\":\"MaterialTemplateActions1\",\"properties\":[{\"name\":\"open_modal\",\"kind\":\"Any\",\"default\":0},{\"name\":\"close_modal\",\"kind\":\"Any\",\"default\":0}]}]}};\n",
       "  var render_items = [{\"docid\":\"b6786c77-519d-4bc5-b044-217c013a1fae\",\"roots\":{\"p1278\":\"ea35992c-7c92-4e38-9996-65f2f0bd7d1b\"},\"root_ids\":[\"p1278\"]}];\n",
       "  var docs = Object.values(docs_json)\n",
       "  if (!docs) {\n",
       "    return\n",
       "  }\n",
       "  const py_version = docs[0].version.replace('rc', '-rc.').replace('.dev', '-dev.')\n",
       "  function embed_document(root) {\n",
       "    var Bokeh = get_bokeh(root)\n",
       "    Bokeh.embed.embed_items_notebook(docs_json, render_items);\n",
       "    for (const render_item of render_items) {\n",
       "      for (const root_id of render_item.root_ids) {\n",
       "\tconst id_el = document.getElementById(root_id)\n",
       "\tif (id_el.children.length && (id_el.children[0].className === 'bk-root')) {\n",
       "\t  const root_el = id_el.children[0]\n",
       "\t  root_el.id = root_el.id + '-rendered'\n",
       "\t}\n",
       "      }\n",
       "    }\n",
       "  }\n",
       "  function get_bokeh(root) {\n",
       "    if (root.Bokeh === undefined) {\n",
       "      return null\n",
       "    } else if (root.Bokeh.version !== py_version) {\n",
       "      if (root.Bokeh.versions === undefined || !root.Bokeh.versions.has(py_version)) {\n",
       "\treturn null\n",
       "      }\n",
       "      return root.Bokeh.versions.get(py_version);\n",
       "    } else if (root.Bokeh.version === py_version) {\n",
       "      return root.Bokeh\n",
       "    }\n",
       "    return null\n",
       "  }\n",
       "  function is_loaded(root) {\n",
       "    var Bokeh = get_bokeh(root)\n",
       "    return (Bokeh != null && Bokeh.Panel !== undefined)\n",
       "  }\n",
       "  if (is_loaded(root)) {\n",
       "    embed_document(root);\n",
       "  } else {\n",
       "    var attempts = 0;\n",
       "    var timer = setInterval(function(root) {\n",
       "      if (is_loaded(root)) {\n",
       "        clearInterval(timer);\n",
       "        embed_document(root);\n",
       "      } else if (document.readyState == \"complete\") {\n",
       "        attempts++;\n",
       "        if (attempts > 200) {\n",
       "          clearInterval(timer);\n",
       "\t  var Bokeh = get_bokeh(root)\n",
       "\t  if (Bokeh == null || Bokeh.Panel == null) {\n",
       "            console.warn(\"Panel: ERROR: Unable to run Panel code because Bokeh or Panel library is missing\");\n",
       "\t  } else {\n",
       "\t    console.warn(\"Panel: WARNING: Attempting to render but not all required libraries could be resolved.\")\n",
       "\t    embed_document(root)\n",
       "\t  }\n",
       "        }\n",
       "      }\n",
       "    }, 25, root)\n",
       "  }\n",
       "})(window);</script>"
      ],
      "text/plain": [
       ":Bars   [Date]   (F_1_d_returns)"
      ]
     },
     "execution_count": 20,
     "metadata": {
      "application/vnd.holoviews_exec.v0+json": {
       "id": "p1278"
      }
     },
     "output_type": "execute_result"
    }
   ],
   "source": [
    "# Compute the returns per calendar year and save them in a dataframe calendar_returns_eq_wgt\n",
    "ann_returns = (pd.DataFrame((df_daily_mean[['F_1_d_returns']]+1).groupby(df_daily_mean.index.get_level_values(0).year).cumprod())-1)*100\n",
    "calendar_returns  = pd.DataFrame(ann_returns['F_1_d_returns'].groupby(ann_returns.index.get_level_values(0).year).last())\n",
    "# Plot the  returns per calendar year\n",
    "calendar_returns.hvplot.bar(rot=30,  legend='top_left')#.opts(multi_level=False) "
   ]
  },
  {
   "cell_type": "markdown",
   "id": "fffde268-73b7-4a68-9fe9-40d5695d9656",
   "metadata": {},
   "source": [
    "## We store the information on all stocks for use as our benchmark"
   ]
  },
  {
   "cell_type": "code",
   "execution_count": 22,
   "id": "c6de590a-7b31-48d3-90f4-e8a9fa283dc8",
   "metadata": {},
   "outputs": [],
   "source": [
    "# Store df_cum_returns as df_cum_returns_bm\n",
    "df_cum_returns_bm = df_cum_returns\n",
    "df_cum_returns_bm.rename(columns={'F_1_d_returns':'SP500_eq_wgt'}, inplace=True)\n",
    "# Store ann_returns as ann_returns_bm\n",
    "ann_returns_bm = ann_returns\n",
    "# Store ann_returns as ann_returns_bm\n",
    "calendar_returns_bm  = calendar_returns\n",
    "calendar_returns_bm.rename(columns={'F_1_d_returns':'SP500_eq_wgt'}, inplace=True)"
   ]
  },
  {
   "cell_type": "markdown",
   "id": "87e44a3e-45db-482e-8cd4-6d2603914040",
   "metadata": {},
   "source": [
    "### Create a function to calculate the RSI Indicator and add the RSI to the total_returns dataframe"
   ]
  },
  {
   "cell_type": "code",
   "execution_count": 26,
   "id": "9425e875-0e20-4266-a5ca-143dd0cb433f",
   "metadata": {},
   "outputs": [],
   "source": [
    "# Create a function to calculate RSI\n",
    "def calculate_rsi(data, window=14):\n",
    "    delta = data.diff()\n",
    "    gain = (delta.where(delta > 0, 0)).rolling(window=window).mean()\n",
    "    loss = (-delta.where(delta < 0, 0)).rolling(window=window).mean()\n",
    "    rs = gain / loss\n",
    "    rsi = 100 - (100 / (1 + rs))\n",
    "    return rsi"
   ]
  },
  {
   "cell_type": "code",
   "execution_count": 32,
   "id": "b816c836-3a17-490e-85a5-919d4f746662",
   "metadata": {},
   "outputs": [
    {
     "data": {
      "text/html": [
       "<div>\n",
       "<style scoped>\n",
       "    .dataframe tbody tr th:only-of-type {\n",
       "        vertical-align: middle;\n",
       "    }\n",
       "\n",
       "    .dataframe tbody tr th {\n",
       "        vertical-align: top;\n",
       "    }\n",
       "\n",
       "    .dataframe thead th {\n",
       "        text-align: right;\n",
       "    }\n",
       "</style>\n",
       "<table border=\"1\" class=\"dataframe\">\n",
       "  <thead>\n",
       "    <tr style=\"text-align: right;\">\n",
       "      <th></th>\n",
       "      <th></th>\n",
       "      <th>F_1_d_returns</th>\n",
       "      <th>1_d_returns</th>\n",
       "      <th>2_d_returns</th>\n",
       "      <th>RSI</th>\n",
       "    </tr>\n",
       "    <tr>\n",
       "      <th>Date</th>\n",
       "      <th>Ticker</th>\n",
       "      <th></th>\n",
       "      <th></th>\n",
       "      <th></th>\n",
       "      <th></th>\n",
       "    </tr>\n",
       "  </thead>\n",
       "  <tbody>\n",
       "    <tr>\n",
       "      <th>2000-02-11</th>\n",
       "      <th>A</th>\n",
       "      <td>0.014096</td>\n",
       "      <td>-0.017115</td>\n",
       "      <td>-0.004950</td>\n",
       "      <td>50.487748</td>\n",
       "    </tr>\n",
       "    <tr>\n",
       "      <th>2000-02-14</th>\n",
       "      <th>A</th>\n",
       "      <td>0.071136</td>\n",
       "      <td>0.014096</td>\n",
       "      <td>-0.003260</td>\n",
       "      <td>55.571923</td>\n",
       "    </tr>\n",
       "    <tr>\n",
       "      <th>2000-02-15</th>\n",
       "      <th>A</th>\n",
       "      <td>-0.010687</td>\n",
       "      <td>0.071136</td>\n",
       "      <td>0.086235</td>\n",
       "      <td>49.006474</td>\n",
       "    </tr>\n",
       "    <tr>\n",
       "      <th>2000-02-16</th>\n",
       "      <th>A</th>\n",
       "      <td>0.197531</td>\n",
       "      <td>-0.010687</td>\n",
       "      <td>0.059689</td>\n",
       "      <td>62.217517</td>\n",
       "    </tr>\n",
       "    <tr>\n",
       "      <th>2000-02-17</th>\n",
       "      <th>A</th>\n",
       "      <td>-0.033505</td>\n",
       "      <td>0.197531</td>\n",
       "      <td>0.184733</td>\n",
       "      <td>49.713531</td>\n",
       "    </tr>\n",
       "  </tbody>\n",
       "</table>\n",
       "</div>"
      ],
      "text/plain": [
       "                   F_1_d_returns  1_d_returns  2_d_returns        RSI\n",
       "Date       Ticker                                                    \n",
       "2000-02-11 A            0.014096    -0.017115    -0.004950  50.487748\n",
       "2000-02-14 A            0.071136     0.014096    -0.003260  55.571923\n",
       "2000-02-15 A           -0.010687     0.071136     0.086235  49.006474\n",
       "2000-02-16 A            0.197531    -0.010687     0.059689  62.217517\n",
       "2000-02-17 A           -0.033505     0.197531     0.184733  49.713531"
      ]
     },
     "execution_count": 32,
     "metadata": {},
     "output_type": "execute_result"
    }
   ],
   "source": [
    "# Calculate RSI for each ticker separately and add to the DataFrame\n",
    "total_data['RSI'] = total_data.groupby('Ticker')[['F_1_d_returns']].transform(calculate_rsi)\n",
    "# Drop missing values\n",
    "total_data.dropna(inplace=True)\n",
    "total_data.head(5)\n"
   ]
  },
  {
   "cell_type": "markdown",
   "id": "c805cb8d-6e77-4da9-adc5-d4780c9cb234",
   "metadata": {},
   "source": [
    "###  Build a trading strategy using RSI"
   ]
  },
  {
   "cell_type": "code",
   "execution_count": 35,
   "id": "f936af41-f730-49e2-9775-5bcad26ee302",
   "metadata": {},
   "outputs": [],
   "source": [
    "# Define trading strategy based on RSI\n",
    "def trading_strategy(rsi):\n",
    "    if rsi < 30:\n",
    "        return 1  # Go long\n",
    "    elif rsi > 70:\n",
    "        return -1  # Go short\n",
    "    else:\n",
    "        return 0\n",
    "\n",
    "# Apply trading strategy to each RSI value\n",
    "total_data['Position'] = total_data['RSI'].transform(trading_strategy)\n",
    "# Create Returns for each Trade\n",
    "total_data['Realized_Ret'] = total_data['F_1_d_returns'] *  total_data['Position'] "
   ]
  },
  {
   "cell_type": "code",
   "execution_count": 36,
   "id": "0d403e07-a2d3-4f31-9aed-548886532be4",
   "metadata": {},
   "outputs": [
    {
     "name": "stdout",
     "output_type": "stream",
     "text": [
      "The CAGR is: -3.08%\n",
      "Sharpe Ratio of Strategy: -6.36\n"
     ]
    }
   ],
   "source": [
    "# Compute the daily mean of our trading strategy\n",
    "df_daily_mean  = pd.DataFrame(total_data.loc[:,'Realized_Ret'].groupby(level='Date').mean())\n",
    "\n",
    "# Convert daily returns to cumulative return\n",
    "df_cum_returns = pd.DataFrame((df_daily_mean[['Realized_Ret']]+1).cumprod())\n",
    "\n",
    "# Calculate the number of years in the dataset\n",
    "years = len(df_daily_mean) / 252  # Assuming 252 trading days in a year\n",
    "\n",
    "# Compute the Compound Annual Growth Rate (CAGR)\n",
    "cagr = round((df_cum_returns['Realized_Ret'].iloc[-1]**(1/years)-1)*100,2)\n",
    "\n",
    "print(f'The CAGR is: {cagr}%')\n",
    "\n",
    "# Compute the Sharpe Ratio by annualizing the daily mean and the daily std\n",
    "df_daily_mean_mean  = df_daily_mean[['Realized_Ret']].describe().iloc[1,:] * 252\n",
    "df_daily_mean_std   = df_daily_mean[['Realized_Ret']].describe().iloc[2,:] * pow(252,1/2)\n",
    "\n",
    "sharpe  = df_daily_mean_mean/df_daily_mean_std\n",
    "\n",
    "print(f'Sharpe Ratio of Strategy: {round(sharpe.iloc[0],2)}')"
   ]
  },
  {
   "cell_type": "markdown",
   "id": "d7d4f62b-e0e8-4f98-9467-68bc36527f8a",
   "metadata": {},
   "source": [
    "##  Produce the Confusion Matrix for our Strategy"
   ]
  },
  {
   "cell_type": "code",
   "execution_count": 46,
   "id": "cc32eb34-d5a7-4898-a5c7-f4b600327f8c",
   "metadata": {},
   "outputs": [
    {
     "name": "stdout",
     "output_type": "stream",
     "text": [
      "              precision    recall  f1-score   support\n",
      "\n",
      "          -1       0.49      1.00      0.65   1312856\n",
      "           1       0.10      0.00      0.00   1389462\n",
      "\n",
      "    accuracy                           0.48   2702318\n",
      "   macro avg       0.29      0.50      0.33   2702318\n",
      "weighted avg       0.29      0.48      0.32   2702318\n",
      "\n"
     ]
    }
   ],
   "source": [
    "# Apply trading strategy to each RSI value\n",
    "import numpy as np\n",
    "from sklearn.metrics import classification_report\n",
    "from sklearn.metrics import confusion_matrix\n",
    "\n",
    "# Create the predicted and true values of F_1_d_returns as being larger or smaller than 0\n",
    "total_data['y'] = np.where(total_data['F_1_d_returns']>0,1,-1)\n",
    "total_data['y_pred'] = np.where(total_data['Position']>0,1,-1)\n",
    "\n",
    "# Define actual and predicted signals (for demonstration purposes)\n",
    "actual_signals    = total_data['y'].tolist()\n",
    "predicted_signals = total_data['y_pred'].tolist()\n",
    "\n",
    "# Compute confusion matrix\n",
    "cm = confusion_matrix(actual_signals, predicted_signals)\n",
    "\n",
    "print(classification_report(actual_signals, predicted_signals))"
   ]
  }
 ],
 "metadata": {
  "kernelspec": {
   "display_name": "Python 3 (ipykernel)",
   "language": "python",
   "name": "python3"
  },
  "language_info": {
   "codemirror_mode": {
    "name": "ipython",
    "version": 3
   },
   "file_extension": ".py",
   "mimetype": "text/x-python",
   "name": "python",
   "nbconvert_exporter": "python",
   "pygments_lexer": "ipython3",
   "version": "3.11.7"
  }
 },
 "nbformat": 4,
 "nbformat_minor": 5
}
