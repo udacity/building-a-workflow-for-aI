{
 "cells": [
  {
   "cell_type": "markdown",
   "id": "0262bc41-f8dc-4150-8b16-f437a909b75e",
   "metadata": {},
   "source": [
    "# DEMO 5\n",
    "\n",
    "Elastic Net Regression applied to Stock Market Data\n"
   ]
  },
  {
   "cell_type": "code",
   "execution_count": 1,
   "id": "ebe82aee-c62f-44be-b9a1-c92b93578830",
   "metadata": {
    "scrolled": true
   },
   "outputs": [],
   "source": [
    "import sys\n",
    "import os\n",
    "\n",
    "# Manually set the path relative to the py file's location that you want to import\n",
    "func_lib_path = os.path.abspath(os.path.join(os.getcwd(), '../../'))# Add the path to sys.path\n",
    "sys.path.append(func_lib_path)\n",
    "\n",
    "# Now you can import func_lib\n",
    "import func_lib\n",
    "import pandas as pd\n",
    "import matplotlib.pyplot as plt\n",
    "import numpy as np\n",
    "from sklearn.preprocessing import StandardScaler\n",
    "from sklearn.linear_model import ElasticNet"
   ]
  },
  {
   "cell_type": "code",
   "execution_count": null,
   "id": "fe34aaa4-84a1-4a95-b918-e619148dac1f",
   "metadata": {
    "scrolled": true
   },
   "outputs": [
    {
     "name": "stderr",
     "output_type": "stream",
     "text": [
      "[*************         27%%                      ]  136 of 501 completed"
     ]
    }
   ],
   "source": [
    "historical_prices = func_lib.createHistPrices()\n",
    "list_of_momentums = [1, 5, 15, 20]\n",
    "total_returns     = func_lib.computingReturns(historical_prices, list_of_momentums)\n",
    "total_returns.dropna(inplace=True)"
   ]
  },
  {
   "cell_type": "code",
   "execution_count": null,
   "id": "98ac81ab-49bf-477a-98a6-f68726701f76",
   "metadata": {},
   "outputs": [],
   "source": [
    "# Determine the split index for 70% of the dates\n",
    "unique_dates = total_returns.index.get_level_values('Date').unique()\n",
    "split_date = unique_dates[int(0.7 * len(unique_dates))]\n",
    "# Create the training set: all data before the split date\n",
    "train_data = total_returns.loc[total_returns.index.get_level_values('Date') < split_date]\n",
    "\n",
    "# Create the testing set: all data from the split date onwards\n",
    "test_data = total_returns.loc[total_returns.index.get_level_values('Date') >= split_date]\n",
    "\n",
    "features = ['1_d_returns', '5_d_returns', '15_d_returns', '20_d_returns']\n",
    "target   = ['F_1_d_returns']\n",
    "\n",
    "# Split the data into training and testing sets\n",
    "X_train = train_data[features]\n",
    "X_test  = test_data[features]\n",
    "y_train = train_data[target]\n",
    "y_test  = test_data[target]\n",
    "\n",
    "# Standardize the features\n",
    "scaler = StandardScaler()\n",
    "X_train_scaled = scaler.fit_transform(X_train)\n",
    "X_test_scaled  = scaler.transform(X_test)\n",
    "\n",
    "X_train_scaled = pd.DataFrame(X_train_scaled, index=X_train.index, columns=X_train.columns)\n",
    "X_test_scaled  = pd.DataFrame(X_test_scaled, index=X_test.index, columns=X_test.columns)"
   ]
  },
  {
   "cell_type": "code",
   "execution_count": null,
   "id": "48525f3c-d5a4-4281-b330-7795a1412455",
   "metadata": {},
   "outputs": [],
   "source": [
    "model = ElasticNet(alpha=0.001, l1_ratio=0.5) \n",
    "model.fit(X_train_scaled, y_train)"
   ]
  },
  {
   "cell_type": "code",
   "execution_count": null,
   "id": "47a5d7a6-9859-4362-845a-5813f5507f67",
   "metadata": {},
   "outputs": [],
   "source": [
    "model_name = 'ElasticNet'\n",
    "# Make predictions\n",
    "y_pred = model.predict(X_test_scaled)\n",
    "y_pred_df = pd.DataFrame(y_pred, index= X_test_scaled.index)\n",
    "y_pred_df.rename(columns={0:model_name}, inplace=True)\n",
    "\n",
    "y_test_df = pd.DataFrame(y_test)\n",
    "\n",
    "y_test_and_pred = pd.merge(y_test_df, y_pred_df, left_index=True, right_index=True)"
   ]
  },
  {
   "cell_type": "code",
   "execution_count": null,
   "id": "4cf2bce9-cb5e-4300-8530-3e250ec4da07",
   "metadata": {},
   "outputs": [],
   "source": [
    "model_name = 'ElasticNet'\n",
    "# Define trading strategy based on ElasticNet\n",
    "def trading_strategy(y_pred):\n",
    "    if y_pred >0:\n",
    "        return  1 # Go long\n",
    "    else:\n",
    "        return 0\n",
    "        "
   ]
  },
  {
   "cell_type": "code",
   "execution_count": null,
   "id": "a2a40d08-f9ea-40bf-8199-e6634309730b",
   "metadata": {},
   "outputs": [],
   "source": [
    "cum_returns, calendar_returns = func_lib.compute_strat_perf(y_test_and_pred, cum_returns, calendar_returns, trading_strategy, model_name)"
   ]
  },
  {
   "cell_type": "code",
   "execution_count": null,
   "id": "b6fa1799-dd5b-4cb2-bc26-9ab857790c04",
   "metadata": {},
   "outputs": [],
   "source": []
  },
  {
   "cell_type": "code",
   "execution_count": null,
   "id": "7a29abbe-f115-4169-a331-c0e9e5294f06",
   "metadata": {},
   "outputs": [],
   "source": []
  }
 ],
 "metadata": {
  "kernelspec": {
   "display_name": "Python 3 (ipykernel)",
   "language": "python",
   "name": "python3"
  },
  "language_info": {
   "codemirror_mode": {
    "name": "ipython",
    "version": 3
   },
   "file_extension": ".py",
   "mimetype": "text/x-python",
   "name": "python",
   "nbconvert_exporter": "python",
   "pygments_lexer": "ipython3",
   "version": "3.12.3"
  }
 },
 "nbformat": 4,
 "nbformat_minor": 5
}
