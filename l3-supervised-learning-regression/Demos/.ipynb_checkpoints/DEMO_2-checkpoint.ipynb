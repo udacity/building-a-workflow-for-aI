{
 "cells": [
  {
   "cell_type": "markdown",
   "id": "0262bc41-f8dc-4150-8b16-f437a909b75e",
   "metadata": {},
   "source": [
    "# DEMO 2\n",
    "\n",
    "Regression applied to Stock Market Data\n"
   ]
  },
  {
   "cell_type": "code",
   "execution_count": 5,
   "id": "ebe82aee-c62f-44be-b9a1-c92b93578830",
   "metadata": {
    "scrolled": true
   },
   "outputs": [],
   "source": [
    "import sys\n",
    "import os\n",
    "\n",
    "# Manually set the path relative to the py file's location that you want to import\n",
    "func_lib_path = os.path.abspath(os.path.join(os.getcwd(), '../../'))# Add the path to sys.path\n",
    "sys.path.append(func_lib_path)\n",
    "\n",
    "# Now you can import func_lib\n",
    "import func_lib\n",
    "import pandas as pd\n",
    "import matplotlib.pyplot as plt\n",
    "import numpy as np\n",
    "from sklearn.preprocessing import StandardScaler\n",
    "import statsmodels.api as sm\n",
    "from sklearn.linear_model import LinearRegression"
   ]
  },
  {
   "cell_type": "code",
   "execution_count": null,
   "id": "fe34aaa4-84a1-4a95-b918-e619148dac1f",
   "metadata": {},
   "outputs": [
    {
     "name": "stderr",
     "output_type": "stream",
     "text": [
      "[*********************100%%**********************]  501 of 501 completed\n",
      "\n",
      "1 Failed download:\n",
      "['SW']: YFChartError(\"%ticker%: Data doesn't exist for startDate = 946702800, endDate = 1714536000\")\n"
     ]
    }
   ],
   "source": [
    "historical_prices = func_lib.createHistPrices()\n",
    "list_of_momentums = [1, 5, 15, 20]\n",
    "total_returns     = func_lib.computingReturns(historical_prices, list_of_momentums)\n",
    "total_returns.dropna(inplace=True)"
   ]
  },
  {
   "cell_type": "code",
   "execution_count": null,
   "id": "2546703d-41d9-4ad6-bc28-c0852a2f311c",
   "metadata": {},
   "outputs": [],
   "source": [
    "total_returns.head()"
   ]
  },
  {
   "cell_type": "code",
   "execution_count": null,
   "id": "5806934b-6552-4b20-abe3-3f14c1fda34b",
   "metadata": {},
   "outputs": [],
   "source": [
    "# Determine the split index for 70% of the dates\n",
    "unique_dates = total_returns.index.get_level_values('Date').unique()\n",
    "split_date = unique_dates[int(0.7 * len(unique_dates))]\n",
    "split_date"
   ]
  },
  {
   "cell_type": "code",
   "execution_count": null,
   "id": "3bd3759d-c7b7-4503-a46c-40e025dfb280",
   "metadata": {},
   "outputs": [],
   "source": [
    "# Create the training set: all data before the split date\n",
    "train_data = total_returns.loc[total_returns.index.get_level_values('Date') < split_date]\n",
    "\n",
    "# Create the testing set: all data from the split date onwards\n",
    "test_data = total_returns.loc[total_returns.index.get_level_values('Date') >= split_date]"
   ]
  },
  {
   "cell_type": "code",
   "execution_count": null,
   "id": "a6dc3d52-ffe0-4246-ba5d-8ef8de045c11",
   "metadata": {},
   "outputs": [],
   "source": [
    "total_returns  = test_data['F_1_d_returns']"
   ]
  },
  {
   "cell_type": "code",
   "execution_count": null,
   "id": "9666dc2b-c9e2-4125-aee6-8842c48f2753",
   "metadata": {},
   "outputs": [],
   "source": [
    "features = ['1_d_returns', '5_d_returns', '15_d_returns', '20_d_returns']\n",
    "target   = ['F_1_d_returns_Ind']\n",
    "\n",
    "# Split the data into training and testing sets\n",
    "X_train = train_data[features]\n",
    "X_test  = test_data[features]\n",
    "y_train = train_data[target]\n",
    "y_test  = test_data[target]"
   ]
  },
  {
   "cell_type": "code",
   "execution_count": null,
   "id": "3b644ae4-1bd0-4618-8821-de2fb215497d",
   "metadata": {},
   "outputs": [],
   "source": [
    "# Standardize the features\n",
    "scaler = StandardScaler()\n",
    "X_train_scaled = scaler.fit_transform(X_train)\n",
    "X_test_scaled  = scaler.transform(X_test)\n",
    "\n",
    "X_train_scaled = pd.DataFrame(X_train_scaled, index=X_train.index, columns=X_train.columns)\n",
    "X_test_scaled  = pd.DataFrame(X_test_scaled, index=X_test.index, columns=X_test.columns)"
   ]
  },
  {
   "cell_type": "code",
   "execution_count": null,
   "id": "e6cf2c2d-2691-4ad8-8dd9-ac1f972853fd",
   "metadata": {},
   "outputs": [],
   "source": [
    "# Add a constant to the model (intercept)\n",
    "X_train_scaled_const_add = sm.add_constant(X_train_scaled)\n",
    "X_test_scaled_const_add  = sm.add_constant(X_test_scaled)\n",
    "\n",
    "# Fit the model\n",
    "# Creating and fitting the logistic regression model\n",
    "model = sm.OLS(y_train, X_train_scaled_const_add).fit()\n",
    "\n",
    "# Print the model summary\n",
    "print(model.summary())"
   ]
  },
  {
   "cell_type": "code",
   "execution_count": null,
   "id": "52aed73e-6ca6-47c8-830a-398ef2ebc755",
   "metadata": {},
   "outputs": [],
   "source": [
    "model_name = 'Reg'\n",
    "# Make predictions\n",
    "y_pred = model.predict(X_test_scaled_const_add)\n",
    "\n",
    "y_test_df = pd.DataFrame(y_test)\n",
    "y_pred_df = pd.DataFrame(y_pred)\n",
    "y_pred_df.rename(columns={0:model_name}, inplace=True)\n",
    "\n",
    "y_test_and_pred = pd.merge(y_pred_df, total_returns, left_index=True, right_index=True)"
   ]
  },
  {
   "cell_type": "code",
   "execution_count": null,
   "id": "7b9eec7a-1752-42fd-b853-6c1edc96dc61",
   "metadata": {},
   "outputs": [],
   "source": [
    "# Define trading strategy based on Logit\n",
    "def trading_strategy(y_pred):\n",
    "    if y_pred >0.5:\n",
    "        return  1 # Go long\n",
    "    else:\n",
    "        return  0  \n"
   ]
  },
  {
   "cell_type": "code",
   "execution_count": null,
   "id": "5a6519a9-cc9f-4fbe-94b4-a4f3181f1bed",
   "metadata": {},
   "outputs": [],
   "source": [
    "cum_returns, calendar_returns = func_lib.compute_BM_Perf(y_test_and_pred)"
   ]
  },
  {
   "cell_type": "code",
   "execution_count": null,
   "id": "b12cecad-0612-413e-9fc8-c6eaa974798d",
   "metadata": {},
   "outputs": [],
   "source": [
    "cum_returns, calendar_returns = func_lib.compute_strat_perf(y_test_and_pred, cum_returns, calendar_returns, trading_strategy, model_name)"
   ]
  },
  {
   "cell_type": "code",
   "execution_count": null,
   "id": "0f334c35-536a-4642-a083-a816e1ce8db5",
   "metadata": {},
   "outputs": [],
   "source": []
  },
  {
   "cell_type": "code",
   "execution_count": null,
   "id": "9a28f488-3710-41c0-9836-41cffee948ac",
   "metadata": {},
   "outputs": [],
   "source": []
  }
 ],
 "metadata": {
  "kernelspec": {
   "display_name": "Python 3 (ipykernel)",
   "language": "python",
   "name": "python3"
  },
  "language_info": {
   "codemirror_mode": {
    "name": "ipython",
    "version": 3
   },
   "file_extension": ".py",
   "mimetype": "text/x-python",
   "name": "python",
   "nbconvert_exporter": "python",
   "pygments_lexer": "ipython3",
   "version": "3.12.3"
  }
 },
 "nbformat": 4,
 "nbformat_minor": 5
}
