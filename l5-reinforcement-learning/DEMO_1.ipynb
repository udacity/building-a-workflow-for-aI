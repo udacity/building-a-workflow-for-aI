{
 "cells": [
  {
   "cell_type": "markdown",
   "id": "37d0b0b3-ea21-486d-bdbe-1b821f0f04d0",
   "metadata": {},
   "source": [
    "# DEMO 1\n",
    "\n",
    "Applying an RL model to the Cartpole environment."
   ]
  },
  {
   "cell_type": "code",
   "execution_count": 2,
   "id": "a81b307b-5438-49e1-a884-9edc8ae89f63",
   "metadata": {},
   "outputs": [],
   "source": [
    "import sys\n",
    "import os\n",
    "\n",
    "# Manually set the path relative to the py file's location that you want to import\n",
    "func_lib_path = os.path.abspath(os.path.join(os.getcwd(), '../'))# Add the path to sys.path\n",
    "sys.path.append(func_lib_path)\n",
    "\n",
    "# Now you can import func_lib\n",
    "import func_lib\n",
    "import gymnasium as gym\n",
    "from stable_baselines3 import DQN\n",
    "import time"
   ]
  },
  {
   "cell_type": "code",
   "execution_count": 3,
   "id": "c3f1067d-3486-4105-874f-c97a8cde27ec",
   "metadata": {},
   "outputs": [
    {
     "data": {
      "text/plain": [
       "<stable_baselines3.dqn.dqn.DQN at 0x1964a3f5010>"
      ]
     },
     "execution_count": 3,
     "metadata": {},
     "output_type": "execute_result"
    }
   ],
   "source": [
    "# Create the environment with render mode set to 'human'\n",
    "env = gym.make('CartPole-v1', render_mode='human')\n",
    "\n",
    "# Create the agent with verbose turned off\n",
    "agent = DQN('MlpPolicy', env, verbose=0)\n",
    "\n",
    "# Train the agent\n",
    "agent.learn(total_timesteps=10000)"
   ]
  },
  {
   "cell_type": "code",
   "execution_count": 4,
   "id": "8623f280-c5da-45fb-8aaf-ecb27a5e791e",
   "metadata": {},
   "outputs": [],
   "source": [
    "# Test the trained agent\n",
    "obs, _ = env.reset()\n",
    "done = False\n",
    "\n",
    "try:\n",
    "    while not done:\n",
    "        action, _ = agent.predict(obs)\n",
    "        obs, reward, done, _, _ = env.step(action)\n",
    "        env.render()\n",
    "        time.sleep(0.05)  # Add a small delay to see the rendering\n",
    "\n",
    "except SystemExit:\n",
    "    pygame.quit()"
   ]
  },
  {
   "cell_type": "code",
   "execution_count": null,
   "id": "438a5bf0-eb34-472d-89cb-766aef906edc",
   "metadata": {},
   "outputs": [],
   "source": []
  }
 ],
 "metadata": {
  "kernelspec": {
   "display_name": "Python 3 (ipykernel)",
   "language": "python",
   "name": "python3"
  },
  "language_info": {
   "codemirror_mode": {
    "name": "ipython",
    "version": 3
   },
   "file_extension": ".py",
   "mimetype": "text/x-python",
   "name": "python",
   "nbconvert_exporter": "python",
   "pygments_lexer": "ipython3",
   "version": "3.12.3"
  }
 },
 "nbformat": 4,
 "nbformat_minor": 5
}
