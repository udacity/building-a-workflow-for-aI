{
 "cells": [
  {
   "cell_type": "markdown",
   "id": "37d0b0b3-ea21-486d-bdbe-1b821f0f04d0",
   "metadata": {},
   "source": [
    "# DEMO \n",
    "\n",
    "Applying RL-Model to Stock Market Data"
   ]
  },
  {
   "cell_type": "code",
   "execution_count": 5,
   "id": "a81b307b-5438-49e1-a884-9edc8ae89f63",
   "metadata": {},
   "outputs": [],
   "source": [
    "import sys\n",
    "import os\n",
    "\n",
    "# Manually set the path relative to the py file's location that you want to import\n",
    "func_lib_path = os.path.abspath(os.path.join(os.getcwd(), '../'))# Add the path to sys.path\n",
    "sys.path.append(func_lib_path)\n",
    "\n",
    "# Now you can import func_lib\n",
    "import func_lib\n",
    "import gymnasium as gym\n",
    "from stable_baselines3 import DQN\n",
    "import time"
   ]
  },
  {
   "cell_type": "code",
   "execution_count": null,
   "id": "571db649-ee87-4583-8de3-b6711174fc56",
   "metadata": {},
   "outputs": [],
   "source": [
    "# Create the environment with render mode set to 'human'\n",
    "env = gym.make('CartPole-v1', render_mode='human')\n",
    "\n",
    "# Create the agent with verbose turned off\n",
    "agent = DQN('MlpPolicy', env, verbose=0)\n",
    "\n",
    "# Train the agent\n",
    "agent.learn(total_timesteps=10000)"
   ]
  },
  {
   "cell_type": "code",
   "execution_count": null,
   "id": "4f03a216-966c-4cbf-999c-e13229e04b13",
   "metadata": {},
   "outputs": [],
   "source": [
    "# Test the trained agent\n",
    "obs, _ = env.reset()\n",
    "done = False\n",
    "try:\n",
    "    while not done:\n",
    "        action, _ = agent.predict(obs)\n",
    "        obs, reward, done, _, _ = env.step(action)\n",
    "        env.render()\n",
    "        time.sleep(0.05)  # Add a small delay to see the rendering\n",
    "\n",
    "except SystemExit:\n",
    "    pygame.quit()\n",
    "env.close()"
   ]
  },
  {
   "cell_type": "code",
   "execution_count": null,
   "id": "d300650e-6f62-44cb-b1c5-a1c0ad9b7910",
   "metadata": {},
   "outputs": [],
   "source": []
  }
 ],
 "metadata": {
  "kernelspec": {
   "display_name": "Python 3 (ipykernel)",
   "language": "python",
   "name": "python3"
  },
  "language_info": {
   "codemirror_mode": {
    "name": "ipython",
    "version": 3
   },
   "file_extension": ".py",
   "mimetype": "text/x-python",
   "name": "python",
   "nbconvert_exporter": "python",
   "pygments_lexer": "ipython3",
   "version": "3.12.3"
  }
 },
 "nbformat": 4,
 "nbformat_minor": 5
}
