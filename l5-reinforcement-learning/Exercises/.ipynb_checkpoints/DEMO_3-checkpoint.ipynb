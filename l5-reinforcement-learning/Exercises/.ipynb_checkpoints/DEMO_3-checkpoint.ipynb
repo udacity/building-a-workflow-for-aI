{
 "cells": [
  {
   "cell_type": "markdown",
   "id": "0262bc41-f8dc-4150-8b16-f437a909b75e",
   "metadata": {},
   "source": [
    "# DEMO 3\n",
    "\n",
    "Decision Trees applied to Stock Market Data\n"
   ]
  },
  {
   "cell_type": "code",
   "execution_count": 1,
   "id": "ebe82aee-c62f-44be-b9a1-c92b93578830",
   "metadata": {
    "scrolled": true
   },
   "outputs": [],
   "source": [
    "import sys\n",
    "import os\n",
    "\n",
    "# Manually set the path relative to the py file's location that you want to import\n",
    "func_lib_path = os.path.abspath(os.path.join(os.getcwd(), '../'))# Add the path to sys.path\n",
    "sys.path.append(func_lib_path)\n",
    "\n",
    "# Now you can import func_lib\n",
    "import func_lib\n",
    "import pandas as pd\n",
    "import matplotlib.pyplot as plt\n",
    "import numpy as np\n",
    "from sklearn.preprocessing import StandardScaler\n",
    "from sklearn.tree import DecisionTreeClassifier"
   ]
  },
  {
   "cell_type": "code",
   "execution_count": null,
   "id": "cddf89df-9a77-4341-9587-fc88714afad5",
   "metadata": {},
   "outputs": [],
   "source": [
    "import gymnasium as gym\n",
    "import numpy as np\n",
    "import pandas as pd\n",
    "from stable_baselines3 import DQN\n",
    "from gymnasium import spaces"
   ]
  },
  {
   "cell_type": "code",
   "execution_count": null,
   "id": "a1985261-5222-4ffb-a77c-8bdb31714e17",
   "metadata": {},
   "outputs": [],
   "source": [
    "# Generate the training dataset\n",
    "np.random.seed(42)\n",
    "days = 100\n",
    "milk_consumption = np.random.uniform(0, 10, size=days)  # Random milk consumption between 0 and 10 ounces\n",
    "discomfort = (milk_consumption > 5).astype(int)  # Discomfort turns to 1 if consumption > 5 ounces\n",
    "\n",
    "# Create a DataFrame for the training dataset\n",
    "data = pd.DataFrame({\n",
    "    'day': range(1, days + 1),\n",
    "    'milk_consumption': milk_consumption,\n",
    "    'discomfort': discomfort\n",
    "})\n",
    "\n",
    "# Generate the testing dataset\n",
    "np.random.seed(24)\n",
    "days_test = 50\n",
    "milk_consumption_test = np.random.uniform(0, 10, size=days_test)  # Random milk consumption between 0 and 10 ounces\n",
    "discomfort_test = (milk_consumption_test > 5).astype(int)  # Discomfort turns to 1 if consumption > 5 ounces\n",
    "\n",
    "\n",
    "\n",
    "# Create a DataFrame for the testing dataset\n",
    "data_test = pd.DataFrame({\n",
    "    'day': range(1, days_test + 1),\n",
    "    'milk_consumption': milk_consumption_test,\n",
    "    'discomfort': discomfort_test\n",
    "})"
   ]
  },
  {
   "cell_type": "code",
   "execution_count": null,
   "id": "e7a7f458-c272-40f6-8849-ca2b1a8cb26b",
   "metadata": {},
   "outputs": [],
   "source": [
    "\n",
    "# Define the custom environment for milk consumption\n",
    "class MilkConsumptionEnv(gym.Env):\n",
    "    def __init__(self, data):\n",
    "        super(MilkConsumptionEnv, self).__init__()\n",
    "        self.data = data\n",
    "        self.current_day = 0\n",
    "        self.action_space = spaces.Discrete(2)  # 0: consume less milk, 1: consume more milk\n",
    "        self.observation_space = spaces.Box(low=0, high=10, shape=(1,), dtype=np.float32)\n",
    "        \n",
    "    def reset(self, seed=None, options=None):\n",
    "        super().reset(seed=seed)\n",
    "        self.current_day = 0\n",
    "        obs = np.array([self.data.iloc[self.current_day]['milk_consumption']], dtype=np.float32)\n",
    "        return obs, {}\n",
    "    \n",
    "    def step(self, action):\n",
    "        self.current_day += 1\n",
    "        \n",
    "        if action == 0:  # consume less milk\n",
    "            next_obs = max(0, self.data.iloc[self.current_day]['milk_consumption'] - 1)\n",
    "        else:  # consume more milk\n",
    "            next_obs = min(10, self.data.iloc[self.current_day]['milk_consumption'] + 1)\n",
    "        \n",
    "        next_obs = np.array([next_obs], dtype=np.float32)\n",
    "        done = self.current_day >= len(self.data) - 1\n",
    "        \n",
    "        # Reward is -1 if discomfort (1), 0 otherwiseS\n",
    "        reward = -1 if self.data.iloc[self.current_day]['discomfort'] == 1 else 0\n",
    "        \n",
    "        return next_obs, reward, done, False, {}\n",
    "    \n",
    "    def render(self):\n",
    "        pass\n",
    "    \n",
    "    def close(self):\n",
    "        pass"
   ]
  },
  {
   "cell_type": "code",
   "execution_count": null,
   "id": "57994073-6dda-4b65-a033-c7174d542775",
   "metadata": {},
   "outputs": [],
   "source": [
    "# Initialize the environment with the training dataset\n",
    "env = MilkConsumptionEnv(data)\n",
    "\n",
    "# Create the agent using DQN\n",
    "agent = DQN('MlpPolicy', env, verbose=0)\n",
    "\n",
    "# Train the agent\n",
    "agent.learn(total_timesteps=10000)\n"
   ]
  },
  {
   "cell_type": "code",
   "execution_count": null,
   "id": "526b7660-693d-44fd-a416-cde361746fd4",
   "metadata": {},
   "outputs": [],
   "source": [
    "\n",
    "# Initialize the testing environment with the new dataset\n",
    "env_test = MilkConsumptionEnv(data_test)\n",
    "\n",
    "# Variables to keep track of correct predictions\n",
    "correct_predictions = 0\n",
    "total_predictions = 0\n",
    "\n",
    "# Test the trained agent on the new dataset\n",
    "obs, _ = env_test.reset()\n",
    "done = False\n",
    "while not done:\n",
    "    action, _ = agent.predict(obs)\n",
    "    obs, reward, done, _, _ = env_test.step(action)\n",
    "    \n",
    "    # The agent's action is based on whether it predicts discomfort or not\n",
    "    predicted_discomfort = 1 if obs[0] > 5 else 0\n",
    "    \n",
    "    # Compare prediction with actual discomfort\n",
    "    actual_discomfort = env_test.data.iloc[env_test.current_day - 1]['discomfort']\n",
    "    if predicted_discomfort == actual_discomfort:\n",
    "        correct_predictions += 1\n",
    "    total_predictions += 1\n",
    "\n",
    "# Calculate prediction accuracy\n",
    "accuracy = correct_predictions / total_predictions * 100\n",
    "print(f\"Prediction accuracy on the new dataset: {accuracy:.2f}%\")\n",
    "\n"
   ]
  }
 ],
 "metadata": {
  "kernelspec": {
   "display_name": "Python 3 (ipykernel)",
   "language": "python",
   "name": "python3"
  },
  "language_info": {
   "codemirror_mode": {
    "name": "ipython",
    "version": 3
   },
   "file_extension": ".py",
   "mimetype": "text/x-python",
   "name": "python",
   "nbconvert_exporter": "python",
   "pygments_lexer": "ipython3",
   "version": "3.12.4"
  }
 },
 "nbformat": 4,
 "nbformat_minor": 5
}
