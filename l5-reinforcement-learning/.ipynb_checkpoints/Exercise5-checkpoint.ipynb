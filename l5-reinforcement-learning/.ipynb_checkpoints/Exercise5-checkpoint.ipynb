{
 "cells": [
  {
   "cell_type": "markdown",
   "id": "db68f9ed-b3d6-4722-92da-d23681ceaab2",
   "metadata": {},
   "source": [
    "# Reinforcement Learning\n",
    "\n",
    "## An Introduction to Algorithmic Trading\n",
    "\n",
    "---\n",
    "\n",
    "## Overview\n",
    "\n",
    "Welcome to this Excercise. We are now going to use our new skills to build our first unsupervised learning models. In particular, we are going to use multiple methods to create a number unsupervisoed learning models such kmeans for clustering and PCA to reduce the dimensionality of or data.\n",
    "\n",
    "---\n",
    "\n",
    "## Introduction\n",
    "\n",
    "We are going to start with a slightly modified version of our previously used datasets. As always we start with a universe of stock prices for the the S&P 500.\n",
    "\n",
    "---\n",
    "\n",
    "## Key Features\n",
    "\n",
    "1) First use the yfinance library to download both data sets. You will be using the constituents of the S&P 500. \n",
    "\n",
    "2) We will then start to compute returns.\n",
    "\n"
   ]
  },
  {
   "cell_type": "code",
   "execution_count": 11,
   "id": "ab513e37-ff87-42cd-b51e-35de3cbb0898",
   "metadata": {},
   "outputs": [],
   "source": [
    "# We can decide whther we want to download the data or use the saved csv version of it\n",
    "DOWNLOAD_DATA_FROM_API = False \n",
    "MIN_REQUIRED_NUM_OBS_PER_TICKER=100"
   ]
  },
  {
   "cell_type": "code",
   "execution_count": 12,
   "id": "e872ee36-6344-4a65-ba58-f5a7aa80bd07",
   "metadata": {},
   "outputs": [],
   "source": [
    "# Import Libraries\n",
    "import yfinance as yf\n",
    "import pandas as pd\n",
    "from sklearn.cluster import KMeans\n",
    "from sklearn.preprocessing import StandardScaler\n",
    "OMP_NUM_THREADS=2\n",
    "import matplotlib.pyplot as plt"
   ]
  },
  {
   "cell_type": "code",
   "execution_count": 13,
   "id": "ce72d202-638a-48f2-b996-b53ad6d53930",
   "metadata": {},
   "outputs": [],
   "source": [
    "\n",
    "if DOWNLOAD_DATA_FROM_API == True:\n",
    "    # Get the list of S&P 500 constituents\n",
    "    sp500_tickers = pd.read_html('https://en.wikipedia.org/wiki/List_of_S%26P_500_companies')[0]['Symbol'].tolist()\n",
    "    \n",
    "    # Filter out Class B shares that have a '.B' in the ticker name\n",
    "    sp500_tickers = [ticker for ticker in sp500_tickers if '.B' not in ticker]\n",
    "    \n",
    "    # Define the start and end dates for historical data\n",
    "    start_date = '2000-01-01'\n",
    "    end_date   = '2024-05-01'\n",
    "    \n",
    "    # Download historical prices for the list of ticker sp500_tickers\n",
    "    historical_prices = yf.download(sp500_tickers, start=start_date, end=end_date)\n",
    "\n",
    "    # Remove the MultiIndex and keep only the second level\n",
    "    historical_prices.columns = historical_prices.columns.droplevel(0)\n",
    "    \n",
    "    # Filter and keep only columns where the first level of the MultiIndex is 'Adj Close'\n",
    "    historical_prices  = historical_prices.loc[:, historical_prices.columns.get_level_values(0) == 'Adj Close']\n",
    "\n",
    "    # Count non-missing values for each ticker\n",
    "    ticker_counts = historical_prices.count()\n",
    "\n",
    "    # Filter out tickers with fewer than n=MIN_REQUIRED_NUM_OBS_PER_TICKER=100 non-missing values\n",
    "    valid_tickers = ticker_counts[ticker_counts >= MIN_REQUIRED_NUM_OBS_PER_TICKER].index\n",
    "    \n",
    "    # Filter the DataFrame based on valid tickers\n",
    "    historical_prices = historical_prices[valid_tickers]\n",
    "    \n",
    "\n",
    "else:\n",
    "    # Read the previously download data\n",
    "    historical_prices = pd.read_csv('historical_prices.csv', index_col='Date', parse_dates=True)\n",
    "    historical_prices.columns.name = 'Ticker'"
   ]
  },
  {
   "cell_type": "code",
   "execution_count": 14,
   "id": "13271b81-60bc-4d34-8baa-b6d7c536a3f2",
   "metadata": {},
   "outputs": [],
   "source": [
    "# Count non-missing values for each ticker\n",
    "ticker_counts = historical_prices.count()\n",
    "\n",
    "# Filter out tickers with fewer than n=MIN_REQUIRED_NUM_OBS_PER_TICKER=100 non-missing values\n",
    "valid_tickers = ticker_counts[ticker_counts >= MIN_REQUIRED_NUM_OBS_PER_TICKER].index\n",
    "\n",
    "# Filter the DataFrame based on valid tickers\n",
    "historical_prices = historical_prices[valid_tickers]\n",
    "    "
   ]
  },
  {
   "cell_type": "code",
   "execution_count": 15,
   "id": "951b003f-b564-4ae1-892a-684d3016184c",
   "metadata": {},
   "outputs": [
    {
     "data": {
      "text/html": [
       "<div>\n",
       "<style scoped>\n",
       "    .dataframe tbody tr th:only-of-type {\n",
       "        vertical-align: middle;\n",
       "    }\n",
       "\n",
       "    .dataframe tbody tr th {\n",
       "        vertical-align: top;\n",
       "    }\n",
       "\n",
       "    .dataframe thead th {\n",
       "        text-align: right;\n",
       "    }\n",
       "</style>\n",
       "<table border=\"1\" class=\"dataframe\">\n",
       "  <thead>\n",
       "    <tr style=\"text-align: right;\">\n",
       "      <th>Ticker</th>\n",
       "      <th>A</th>\n",
       "      <th>AAL</th>\n",
       "      <th>AAPL</th>\n",
       "      <th>ABBV</th>\n",
       "      <th>ABNB</th>\n",
       "      <th>ABT</th>\n",
       "      <th>ACGL</th>\n",
       "      <th>ACN</th>\n",
       "      <th>ADBE</th>\n",
       "      <th>ADI</th>\n",
       "      <th>...</th>\n",
       "      <th>WTW</th>\n",
       "      <th>WY</th>\n",
       "      <th>WYNN</th>\n",
       "      <th>XEL</th>\n",
       "      <th>XOM</th>\n",
       "      <th>XYL</th>\n",
       "      <th>YUM</th>\n",
       "      <th>ZBH</th>\n",
       "      <th>ZBRA</th>\n",
       "      <th>ZTS</th>\n",
       "    </tr>\n",
       "    <tr>\n",
       "      <th>Date</th>\n",
       "      <th></th>\n",
       "      <th></th>\n",
       "      <th></th>\n",
       "      <th></th>\n",
       "      <th></th>\n",
       "      <th></th>\n",
       "      <th></th>\n",
       "      <th></th>\n",
       "      <th></th>\n",
       "      <th></th>\n",
       "      <th></th>\n",
       "      <th></th>\n",
       "      <th></th>\n",
       "      <th></th>\n",
       "      <th></th>\n",
       "      <th></th>\n",
       "      <th></th>\n",
       "      <th></th>\n",
       "      <th></th>\n",
       "      <th></th>\n",
       "      <th></th>\n",
       "    </tr>\n",
       "  </thead>\n",
       "  <tbody>\n",
       "    <tr>\n",
       "      <th>2000-01-03</th>\n",
       "      <td>43.613007</td>\n",
       "      <td>NaN</td>\n",
       "      <td>0.844981</td>\n",
       "      <td>NaN</td>\n",
       "      <td>NaN</td>\n",
       "      <td>8.992848</td>\n",
       "      <td>1.277778</td>\n",
       "      <td>NaN</td>\n",
       "      <td>16.274675</td>\n",
       "      <td>28.438286</td>\n",
       "      <td>...</td>\n",
       "      <td>NaN</td>\n",
       "      <td>11.505342</td>\n",
       "      <td>NaN</td>\n",
       "      <td>6.977997</td>\n",
       "      <td>18.328693</td>\n",
       "      <td>NaN</td>\n",
       "      <td>4.680301</td>\n",
       "      <td>NaN</td>\n",
       "      <td>25.027779</td>\n",
       "      <td>NaN</td>\n",
       "    </tr>\n",
       "    <tr>\n",
       "      <th>2000-01-04</th>\n",
       "      <td>40.281452</td>\n",
       "      <td>NaN</td>\n",
       "      <td>0.773741</td>\n",
       "      <td>NaN</td>\n",
       "      <td>NaN</td>\n",
       "      <td>8.735912</td>\n",
       "      <td>1.270833</td>\n",
       "      <td>NaN</td>\n",
       "      <td>14.909400</td>\n",
       "      <td>26.999619</td>\n",
       "      <td>...</td>\n",
       "      <td>NaN</td>\n",
       "      <td>11.073115</td>\n",
       "      <td>NaN</td>\n",
       "      <td>7.138673</td>\n",
       "      <td>17.977634</td>\n",
       "      <td>NaN</td>\n",
       "      <td>4.586222</td>\n",
       "      <td>NaN</td>\n",
       "      <td>24.666668</td>\n",
       "      <td>NaN</td>\n",
       "    </tr>\n",
       "    <tr>\n",
       "      <th>2000-01-05</th>\n",
       "      <td>37.782795</td>\n",
       "      <td>NaN</td>\n",
       "      <td>0.785063</td>\n",
       "      <td>NaN</td>\n",
       "      <td>NaN</td>\n",
       "      <td>8.719849</td>\n",
       "      <td>1.388889</td>\n",
       "      <td>NaN</td>\n",
       "      <td>15.204174</td>\n",
       "      <td>27.393782</td>\n",
       "      <td>...</td>\n",
       "      <td>NaN</td>\n",
       "      <td>11.659699</td>\n",
       "      <td>NaN</td>\n",
       "      <td>7.414120</td>\n",
       "      <td>18.957697</td>\n",
       "      <td>NaN</td>\n",
       "      <td>4.609740</td>\n",
       "      <td>NaN</td>\n",
       "      <td>25.138889</td>\n",
       "      <td>NaN</td>\n",
       "    </tr>\n",
       "    <tr>\n",
       "      <th>2000-01-06</th>\n",
       "      <td>36.344185</td>\n",
       "      <td>NaN</td>\n",
       "      <td>0.717125</td>\n",
       "      <td>NaN</td>\n",
       "      <td>NaN</td>\n",
       "      <td>9.024967</td>\n",
       "      <td>1.375000</td>\n",
       "      <td>NaN</td>\n",
       "      <td>15.328290</td>\n",
       "      <td>26.644875</td>\n",
       "      <td>...</td>\n",
       "      <td>NaN</td>\n",
       "      <td>12.205125</td>\n",
       "      <td>NaN</td>\n",
       "      <td>7.345260</td>\n",
       "      <td>19.937763</td>\n",
       "      <td>NaN</td>\n",
       "      <td>4.570544</td>\n",
       "      <td>NaN</td>\n",
       "      <td>23.777779</td>\n",
       "      <td>NaN</td>\n",
       "    </tr>\n",
       "    <tr>\n",
       "      <th>2000-01-07</th>\n",
       "      <td>39.372852</td>\n",
       "      <td>NaN</td>\n",
       "      <td>0.751094</td>\n",
       "      <td>NaN</td>\n",
       "      <td>NaN</td>\n",
       "      <td>9.121321</td>\n",
       "      <td>1.451389</td>\n",
       "      <td>NaN</td>\n",
       "      <td>16.072987</td>\n",
       "      <td>27.393782</td>\n",
       "      <td>...</td>\n",
       "      <td>NaN</td>\n",
       "      <td>11.803776</td>\n",
       "      <td>NaN</td>\n",
       "      <td>7.345260</td>\n",
       "      <td>19.879248</td>\n",
       "      <td>NaN</td>\n",
       "      <td>4.468626</td>\n",
       "      <td>NaN</td>\n",
       "      <td>23.513889</td>\n",
       "      <td>NaN</td>\n",
       "    </tr>\n",
       "  </tbody>\n",
       "</table>\n",
       "<p>5 rows × 499 columns</p>\n",
       "</div>"
      ],
      "text/plain": [
       "Ticker              A  AAL      AAPL  ABBV  ABNB       ABT      ACGL  ACN  \\\n",
       "Date                                                                        \n",
       "2000-01-03  43.613007  NaN  0.844981   NaN   NaN  8.992848  1.277778  NaN   \n",
       "2000-01-04  40.281452  NaN  0.773741   NaN   NaN  8.735912  1.270833  NaN   \n",
       "2000-01-05  37.782795  NaN  0.785063   NaN   NaN  8.719849  1.388889  NaN   \n",
       "2000-01-06  36.344185  NaN  0.717125   NaN   NaN  9.024967  1.375000  NaN   \n",
       "2000-01-07  39.372852  NaN  0.751094   NaN   NaN  9.121321  1.451389  NaN   \n",
       "\n",
       "Ticker           ADBE        ADI  ...  WTW         WY  WYNN       XEL  \\\n",
       "Date                              ...                                   \n",
       "2000-01-03  16.274675  28.438286  ...  NaN  11.505342   NaN  6.977997   \n",
       "2000-01-04  14.909400  26.999619  ...  NaN  11.073115   NaN  7.138673   \n",
       "2000-01-05  15.204174  27.393782  ...  NaN  11.659699   NaN  7.414120   \n",
       "2000-01-06  15.328290  26.644875  ...  NaN  12.205125   NaN  7.345260   \n",
       "2000-01-07  16.072987  27.393782  ...  NaN  11.803776   NaN  7.345260   \n",
       "\n",
       "Ticker            XOM  XYL       YUM  ZBH       ZBRA  ZTS  \n",
       "Date                                                       \n",
       "2000-01-03  18.328693  NaN  4.680301  NaN  25.027779  NaN  \n",
       "2000-01-04  17.977634  NaN  4.586222  NaN  24.666668  NaN  \n",
       "2000-01-05  18.957697  NaN  4.609740  NaN  25.138889  NaN  \n",
       "2000-01-06  19.937763  NaN  4.570544  NaN  23.777779  NaN  \n",
       "2000-01-07  19.879248  NaN  4.468626  NaN  23.513889  NaN  \n",
       "\n",
       "[5 rows x 499 columns]"
      ]
     },
     "execution_count": 15,
     "metadata": {},
     "output_type": "execute_result"
    }
   ],
   "source": [
    "# Print the first 5 rows\n",
    "historical_prices.head()\n"
   ]
  },
  {
   "cell_type": "code",
   "execution_count": 16,
   "id": "78fdd493-bd65-4445-9276-95b20d73e219",
   "metadata": {},
   "outputs": [
    {
     "data": {
      "text/plain": [
       "Ticker\n",
       "A       6120\n",
       "AAL     4679\n",
       "AAPL    6120\n",
       "ABBV    2851\n",
       "ABNB     851\n",
       "        ... \n",
       "XYL     3156\n",
       "YUM     6120\n",
       "ZBH     5727\n",
       "ZBRA    6120\n",
       "ZTS     2830\n",
       "Length: 499, dtype: int64"
      ]
     },
     "execution_count": 16,
     "metadata": {},
     "output_type": "execute_result"
    }
   ],
   "source": [
    "historical_prices.count()"
   ]
  },
  {
   "cell_type": "code",
   "execution_count": 17,
   "id": "b4f77062-2b2f-4209-9cc1-e5a79ae9da3d",
   "metadata": {},
   "outputs": [
    {
     "name": "stdout",
     "output_type": "stream",
     "text": [
      "<class 'pandas.core.frame.DataFrame'>\n",
      "DatetimeIndex: 6120 entries, 2000-01-03 to 2024-04-30\n",
      "Columns: 499 entries, A to ZTS\n",
      "dtypes: float64(499)\n",
      "memory usage: 23.3 MB\n"
     ]
    }
   ],
   "source": [
    "# Use the pandas info function to verify the data types of the dataframe column\n",
    "historical_prices.info()"
   ]
  },
  {
   "cell_type": "code",
   "execution_count": 18,
   "id": "183a3ebe-fff8-4b10-a0ee-16c5bdb63e8e",
   "metadata": {},
   "outputs": [],
   "source": [
    "def computingReturns(close_prices,list_of_momentums): \n",
    "    forecast=1        \n",
    "    f_returns = close_prices.pct_change(forecast)            \n",
    "    f_returns = f_returns.shift(-forecast)\n",
    "    f_returns = pd.DataFrame(f_returns.unstack())\n",
    "    name = \"F_\"+str(forecast)+\"_d_returns\"\n",
    "    f_returns.rename(columns={0: name}, inplace = True)\n",
    "    f_returns.reset_index(inplace = True)\n",
    "    f_returns.rename(columns={'level_0':'Ticker'}, inplace=True)\n",
    "    # We add the forward returns to total_returns\n",
    "    total_returns = f_returns\n",
    "    \n",
    "    for i in list_of_momentums:   \n",
    "        feature = close_prices.pct_change(i)\n",
    "        feature = pd.DataFrame(feature.unstack())\n",
    "        name = str(i)+\"_d_returns\"        \n",
    "        feature.reset_index(inplace = True)\n",
    "        feature.rename(columns={0: name, 'level_0':'Ticker'}, inplace = True)\n",
    "        # We add each \n",
    "        total_returns = pd.merge(total_returns,feature,left_on=['Ticker', 'Date'],right_on=['Ticker', 'Date'], how='left', suffixes=('_original', 'right'))\n",
    "      \n",
    "    total_returns.dropna(axis=0, how='any', inplace=True) \n",
    "    total_returns.set_index(['Date', 'Ticker'], inplace=True)\n",
    "\n",
    "    return total_returns"
   ]
  },
  {
   "cell_type": "code",
   "execution_count": 19,
   "id": "d73be1a7-848d-4f1f-baaf-bf921760544b",
   "metadata": {},
   "outputs": [
    {
     "data": {
      "text/html": [
       "<div>\n",
       "<style scoped>\n",
       "    .dataframe tbody tr th:only-of-type {\n",
       "        vertical-align: middle;\n",
       "    }\n",
       "\n",
       "    .dataframe tbody tr th {\n",
       "        vertical-align: top;\n",
       "    }\n",
       "\n",
       "    .dataframe thead th {\n",
       "        text-align: right;\n",
       "    }\n",
       "</style>\n",
       "<table border=\"1\" class=\"dataframe\">\n",
       "  <thead>\n",
       "    <tr style=\"text-align: right;\">\n",
       "      <th></th>\n",
       "      <th></th>\n",
       "      <th>F_1_d_returns</th>\n",
       "      <th>1_d_returns</th>\n",
       "      <th>2_d_returns</th>\n",
       "    </tr>\n",
       "    <tr>\n",
       "      <th>Date</th>\n",
       "      <th>Ticker</th>\n",
       "      <th></th>\n",
       "      <th></th>\n",
       "      <th></th>\n",
       "    </tr>\n",
       "  </thead>\n",
       "  <tbody>\n",
       "    <tr>\n",
       "      <th>2000-01-05</th>\n",
       "      <th>A</th>\n",
       "      <td>-0.038076</td>\n",
       "      <td>-0.062030</td>\n",
       "      <td>-0.133681</td>\n",
       "    </tr>\n",
       "    <tr>\n",
       "      <th>2000-01-06</th>\n",
       "      <th>A</th>\n",
       "      <td>0.083333</td>\n",
       "      <td>-0.038076</td>\n",
       "      <td>-0.097744</td>\n",
       "    </tr>\n",
       "    <tr>\n",
       "      <th>2000-01-07</th>\n",
       "      <th>A</th>\n",
       "      <td>0.060577</td>\n",
       "      <td>0.083333</td>\n",
       "      <td>0.042084</td>\n",
       "    </tr>\n",
       "    <tr>\n",
       "      <th>2000-01-10</th>\n",
       "      <th>A</th>\n",
       "      <td>-0.013599</td>\n",
       "      <td>0.060577</td>\n",
       "      <td>0.148958</td>\n",
       "    </tr>\n",
       "    <tr>\n",
       "      <th>2000-01-11</th>\n",
       "      <th>A</th>\n",
       "      <td>-0.020221</td>\n",
       "      <td>-0.013599</td>\n",
       "      <td>0.046154</td>\n",
       "    </tr>\n",
       "  </tbody>\n",
       "</table>\n",
       "</div>"
      ],
      "text/plain": [
       "                   F_1_d_returns  1_d_returns  2_d_returns\n",
       "Date       Ticker                                         \n",
       "2000-01-05 A           -0.038076    -0.062030    -0.133681\n",
       "2000-01-06 A            0.083333    -0.038076    -0.097744\n",
       "2000-01-07 A            0.060577     0.083333     0.042084\n",
       "2000-01-10 A           -0.013599     0.060577     0.148958\n",
       "2000-01-11 A           -0.020221    -0.013599     0.046154"
      ]
     },
     "execution_count": 19,
     "metadata": {},
     "output_type": "execute_result"
    }
   ],
   "source": [
    "#We can choose how many momentums and which ones we want to create\n",
    "list_of_momentums = [1,2] # [1,2,3,4,5,10].\n",
    "#list_of_momentums = []\n",
    "total_data = computingReturns(historical_prices, list_of_momentums)\n",
    "total_data.head()"
   ]
  },
  {
   "cell_type": "code",
   "execution_count": 20,
   "id": "cf28c9b3-3944-48c4-b42b-16903c4590cc",
   "metadata": {},
   "outputs": [],
   "source": [
    "df = total_data"
   ]
  },
  {
   "cell_type": "code",
   "execution_count": 42,
   "id": "c1308720-0eb4-44dc-8091-06d3b53143eb",
   "metadata": {},
   "outputs": [],
   "source": [
    "from gymnasium import Env\n",
    "from gymnasium.spaces import Discrete, Box\n",
    "import numpy as np\n",
    "import random"
   ]
  },
  {
   "cell_type": "code",
   "execution_count": 46,
   "id": "8fcfec5c-0944-470e-a81e-f12aae7668ed",
   "metadata": {},
   "outputs": [],
   "source": [
    "import numpy as np\n",
    "import pandas as pd\n",
    "import gym\n",
    "\n",
    "class CustomEnv(gym.Env):\n",
    "    def __init__(self, df):\n",
    "        super(CustomEnv, self).__init__()\n",
    "        self.df = df\n",
    "        self.action_space = gym.spaces.Discrete(1)  # Action space (predict F_1_d_returns)\n",
    "        self.observation_space = gym.spaces.Box(low=-np.inf, high=np.inf, shape=(2,), dtype=np.float32)  # State space (1_d_returns, 2_d_returns)\n",
    "        self.current_step = 0\n",
    "\n",
    "    def reset(self):\n",
    "        # Reset the environment to initial state\n",
    "        self.current_step = 0\n",
    "        self.state = self.df.iloc[self.current_step, 1:3].values  # Start with first row's 1_d_returns and 2_d_returns\n",
    "        return self.state\n",
    "\n",
    "    def step(self, action):\n",
    "        # Take an action (not relevant here as we are predicting)\n",
    "        self.current_step += 1\n",
    "        done = self.current_step >= len(self.df) - 1\n",
    "        if done:\n",
    "            next_state = self.state\n",
    "        else:\n",
    "            next_state = self.df.iloc[self.current_step, 1:3].values\n",
    "        reward = 0  # No reward for predicting\n",
    "        info = {}   # Additional information (if needed)\n",
    "        return next_state, reward, done, info\n"
   ]
  },
  {
   "cell_type": "code",
   "execution_count": 10,
   "id": "bbcc8797-12b9-4b7d-b022-1fa60d69d82d",
   "metadata": {},
   "outputs": [
    {
     "ename": "NameError",
     "evalue": "name 'CustomEnv' is not defined",
     "output_type": "error",
     "traceback": [
      "\u001b[1;31m---------------------------------------------------------------------------\u001b[0m",
      "\u001b[1;31mNameError\u001b[0m                                 Traceback (most recent call last)",
      "Cell \u001b[1;32mIn[10], line 1\u001b[0m\n\u001b[1;32m----> 1\u001b[0m env \u001b[38;5;241m=\u001b[39m CustomEnv(df)\n",
      "\u001b[1;31mNameError\u001b[0m: name 'CustomEnv' is not defined"
     ]
    }
   ],
   "source": [
    "env = CustomEnv(df)"
   ]
  },
  {
   "cell_type": "code",
   "execution_count": 20,
   "id": "ee0e4d8f-b26c-4b9d-9974-394240180363",
   "metadata": {},
   "outputs": [
    {
     "data": {
      "text/plain": [
       "array([0.0549803], dtype=float32)"
      ]
     },
     "execution_count": 20,
     "metadata": {},
     "output_type": "execute_result"
    }
   ],
   "source": [
    "env.observation_space.sample()"
   ]
  },
  {
   "cell_type": "code",
   "execution_count": 21,
   "id": "fb80a4d3-91a2-4eb4-8be3-953bc57218f0",
   "metadata": {},
   "outputs": [],
   "source": [
    "import numpy as np\n",
    "from tensorflow.keras.models import Sequential\n",
    "from tensorflow.keras.layers import Dense, Flatten\n",
    "from tensorflow.keras.optimizers import Adam"
   ]
  },
  {
   "cell_type": "code",
   "execution_count": 22,
   "id": "cd1780ed-c99f-4f9a-b8b3-dbcadc2a2c1c",
   "metadata": {},
   "outputs": [
    {
     "ename": "NameError",
     "evalue": "name 'env' is not defined",
     "output_type": "error",
     "traceback": [
      "\u001b[1;31m---------------------------------------------------------------------------\u001b[0m",
      "\u001b[1;31mNameError\u001b[0m                                 Traceback (most recent call last)",
      "Cell \u001b[1;32mIn[22], line 1\u001b[0m\n\u001b[1;32m----> 1\u001b[0m states \u001b[38;5;241m=\u001b[39m env\u001b[38;5;241m.\u001b[39mobservation_space\u001b[38;5;241m.\u001b[39mshape\n\u001b[0;32m      2\u001b[0m actions \u001b[38;5;241m=\u001b[39m env\u001b[38;5;241m.\u001b[39maction_space\u001b[38;5;241m.\u001b[39mn\n",
      "\u001b[1;31mNameError\u001b[0m: name 'env' is not defined"
     ]
    }
   ],
   "source": [
    "states = env.observation_space.shape\n",
    "actions = env.action_space.n"
   ]
  },
  {
   "cell_type": "code",
   "execution_count": 58,
   "id": "98475236-e671-4db2-99f9-995e0edd0512",
   "metadata": {},
   "outputs": [
    {
     "data": {
      "text/plain": [
       "1"
      ]
     },
     "execution_count": 58,
     "metadata": {},
     "output_type": "execute_result"
    }
   ],
   "source": [
    "actions"
   ]
  },
  {
   "cell_type": "code",
   "execution_count": 5,
   "id": "618e9bda-5b50-4298-86a4-7877b36c625a",
   "metadata": {},
   "outputs": [],
   "source": [
    "def build_model(states, actions):\n",
    "    model = Sequential()    \n",
    "    model.add(Dense(24, activation='relu', input_shape=states))\n",
    "    model.add(Dense(24, activation='relu'))\n",
    "    model.add(Dense(actions, activation='linear'))\n",
    "    return model"
   ]
  },
  {
   "cell_type": "code",
   "execution_count": 6,
   "id": "0004ad10-13f0-4953-8220-24d54f0d2ba9",
   "metadata": {},
   "outputs": [
    {
     "ename": "NameError",
     "evalue": "name 'model' is not defined",
     "output_type": "error",
     "traceback": [
      "\u001b[1;31m---------------------------------------------------------------------------\u001b[0m",
      "\u001b[1;31mNameError\u001b[0m                                 Traceback (most recent call last)",
      "Cell \u001b[1;32mIn[6], line 1\u001b[0m\n\u001b[1;32m----> 1\u001b[0m \u001b[38;5;28;01mdel\u001b[39;00m model\n",
      "\u001b[1;31mNameError\u001b[0m: name 'model' is not defined"
     ]
    }
   ],
   "source": [
    "del model "
   ]
  },
  {
   "cell_type": "code",
   "execution_count": 7,
   "id": "de20d8d7-458c-4d59-8041-3a783f12017a",
   "metadata": {},
   "outputs": [
    {
     "ename": "NameError",
     "evalue": "name 'states' is not defined",
     "output_type": "error",
     "traceback": [
      "\u001b[1;31m---------------------------------------------------------------------------\u001b[0m",
      "\u001b[1;31mNameError\u001b[0m                                 Traceback (most recent call last)",
      "Cell \u001b[1;32mIn[7], line 1\u001b[0m\n\u001b[1;32m----> 1\u001b[0m model \u001b[38;5;241m=\u001b[39m build_model(states, actions)\n",
      "\u001b[1;31mNameError\u001b[0m: name 'states' is not defined"
     ]
    }
   ],
   "source": [
    "model = build_model(states, actions)"
   ]
  },
  {
   "cell_type": "code",
   "execution_count": 8,
   "id": "4b60f436-be34-448e-913c-50de93a60095",
   "metadata": {},
   "outputs": [
    {
     "ename": "NameError",
     "evalue": "name 'model' is not defined",
     "output_type": "error",
     "traceback": [
      "\u001b[1;31m---------------------------------------------------------------------------\u001b[0m",
      "\u001b[1;31mNameError\u001b[0m                                 Traceback (most recent call last)",
      "Cell \u001b[1;32mIn[8], line 1\u001b[0m\n\u001b[1;32m----> 1\u001b[0m model\u001b[38;5;241m.\u001b[39msummary()\n",
      "\u001b[1;31mNameError\u001b[0m: name 'model' is not defined"
     ]
    }
   ],
   "source": [
    "model.summary()"
   ]
  },
  {
   "cell_type": "markdown",
   "id": "f39ed8d5-87b4-4ae4-88ff-a1553c07499a",
   "metadata": {},
   "source": [
    "Let's verify the correctness of returns for ticker A:\n",
    "\n",
    "To get the first row of returns:\n",
    "                    F_1_d_returns  1_d_returns\n",
    "2000-01-04 \tMMM \t0.028966 \t   -0.039735\n",
    "\n",
    "\n",
    "2000-01-03 00:00:00 \t17.557297\n",
    "2000-01-04 00:00:00 \t16.859657\n",
    "2000-01-05 00:00:00 \t17.348011 \t\n",
    "\n",
    "To achieve F_1_d_returns we need to:\n",
    "\n",
    "buy at : 2000-01-04 00:00:00 \t16.859657\n",
    "sell at: 2000-01-05 00:00:00 \t17.348011 \t\n",
    "\n",
    "(17.348011 -16.859657)/16.859657 = 0.028965832460292704\n",
    "\n",
    "To achieve 1_d_returns we need to:\n",
    "\n",
    "buy at : 2000-01-03 00:00:00 \t17.557297\n",
    "sell at: 2000-01-04 00:00:00 \t16.859657\n",
    "\n",
    "(16.859657 -17.557297)/17.557297 = -0.03973504577612373"
   ]
  },
  {
   "cell_type": "code",
   "execution_count": 3,
   "id": "db7cab21-01c6-4608-915e-7bcfab664188",
   "metadata": {},
   "outputs": [],
   "source": []
  },
  {
   "cell_type": "code",
   "execution_count": 4,
   "id": "81beebbe-a87e-4dd1-83a3-548bce5a1497",
   "metadata": {},
   "outputs": [],
   "source": []
  },
  {
   "cell_type": "code",
   "execution_count": 6,
   "id": "9e8e1261-1d6d-4c4d-bce9-38519dcc1359",
   "metadata": {},
   "outputs": [],
   "source": [
    "import tensorflow as tf\n",
    "from keras import __version__\n",
    "tf.keras.__version__ = __version__\n",
    "from rl.agents import DQNAgent\n",
    "from rl.policy import BoltzmannQPolicy\n",
    "from rl.memory import SequentialMemory"
   ]
  },
  {
   "cell_type": "code",
   "execution_count": 20,
   "id": "37572412-02b0-4b7b-a3d1-b174c7c3dd44",
   "metadata": {},
   "outputs": [
    {
     "name": "stdout",
     "output_type": "stream",
     "text": [
      "Using cpu device\n",
      "------------------------------------\n",
      "| time/                 |          |\n",
      "|    fps                | 422      |\n",
      "|    iterations         | 100      |\n",
      "|    time_elapsed       | 1        |\n",
      "|    total_timesteps    | 500      |\n",
      "| train/                |          |\n",
      "|    entropy_loss       | -0.471   |\n",
      "|    explained_variance | -66      |\n",
      "|    learning_rate      | 0.0007   |\n",
      "|    n_updates          | 99       |\n",
      "|    policy_loss        | 0.00229  |\n",
      "|    value_loss         | 0.00039  |\n",
      "------------------------------------\n",
      "------------------------------------\n",
      "| time/                 |          |\n",
      "|    fps                | 455      |\n",
      "|    iterations         | 200      |\n",
      "|    time_elapsed       | 2        |\n",
      "|    total_timesteps    | 1000     |\n",
      "| train/                |          |\n",
      "|    entropy_loss       | -0.563   |\n",
      "|    explained_variance | 0.268    |\n",
      "|    learning_rate      | 0.0007   |\n",
      "|    n_updates          | 199      |\n",
      "|    policy_loss        | 0.0503   |\n",
      "|    value_loss         | 0.00966  |\n",
      "------------------------------------\n"
     ]
    },
    {
     "data": {
      "text/plain": [
       "<stable_baselines3.a2c.a2c.A2C at 0x1b8e73cd910>"
      ]
     },
     "execution_count": 20,
     "metadata": {},
     "output_type": "execute_result"
    }
   ],
   "source": [
    "# Creating our dummy vectorizing environment\n",
    "env_maker = lambda: gym.make('stocks-v0', df=df, frame_bound=(5, 100), window_size=5)\n",
    "env = DummyVecEnv([env_maker])\n",
    "\n",
    "# Initializing and training the A2C model\n",
    "model = A2C('MlpPolicy', env, verbose=1)\n",
    "model.learn(total_timesteps=1000)"
   ]
  },
  {
   "cell_type": "code",
   "execution_count": 21,
   "id": "97a262fe-3a92-41cb-affe-80c3cc766a14",
   "metadata": {},
   "outputs": [
    {
     "ename": "IndexError",
     "evalue": "index 25 is out of bounds for axis 0 with size 25",
     "output_type": "error",
     "traceback": [
      "\u001b[1;31m---------------------------------------------------------------------------\u001b[0m",
      "\u001b[1;31mIndexError\u001b[0m                                Traceback (most recent call last)",
      "Cell \u001b[1;32mIn[21], line 18\u001b[0m\n\u001b[0;32m     16\u001b[0m plt\u001b[38;5;241m.\u001b[39mfigure(figsize\u001b[38;5;241m=\u001b[39m(\u001b[38;5;241m15\u001b[39m, \u001b[38;5;241m6\u001b[39m))\n\u001b[0;32m     17\u001b[0m plt\u001b[38;5;241m.\u001b[39mcla()\n\u001b[1;32m---> 18\u001b[0m env\u001b[38;5;241m.\u001b[39munwrapped\u001b[38;5;241m.\u001b[39mrender_all()\n\u001b[0;32m     19\u001b[0m plt\u001b[38;5;241m.\u001b[39mshow()\n",
      "File \u001b[1;32m~\\anaconda3\\Lib\\site-packages\\gym_anytrading\\envs\\trading_env.py:181\u001b[0m, in \u001b[0;36mTradingEnv.render_all\u001b[1;34m(self, title)\u001b[0m\n\u001b[0;32m    178\u001b[0m         long_ticks\u001b[38;5;241m.\u001b[39mappend(tick)\n\u001b[0;32m    180\u001b[0m plt\u001b[38;5;241m.\u001b[39mplot(short_ticks, \u001b[38;5;28mself\u001b[39m\u001b[38;5;241m.\u001b[39mprices[short_ticks], \u001b[38;5;124m'\u001b[39m\u001b[38;5;124mro\u001b[39m\u001b[38;5;124m'\u001b[39m)\n\u001b[1;32m--> 181\u001b[0m plt\u001b[38;5;241m.\u001b[39mplot(long_ticks, \u001b[38;5;28mself\u001b[39m\u001b[38;5;241m.\u001b[39mprices[long_ticks], \u001b[38;5;124m'\u001b[39m\u001b[38;5;124mgo\u001b[39m\u001b[38;5;124m'\u001b[39m)\n\u001b[0;32m    183\u001b[0m \u001b[38;5;28;01mif\u001b[39;00m title:\n\u001b[0;32m    184\u001b[0m     plt\u001b[38;5;241m.\u001b[39mtitle(title)\n",
      "\u001b[1;31mIndexError\u001b[0m: index 25 is out of bounds for axis 0 with size 25"
     ]
    },
    {
     "data": {
      "image/png": "[encoded data removed]",
      "text/plain": [
       "<Figure size 1500x600 with 1 Axes>"
      ]
     },
     "metadata": {},
     "output_type": "display_data"
    }
   ],
   "source": [
    "# Create a new environment for evaluation\n",
    "env = gym.make('stocks-v0', df=df, frame_bound=(90, 110), window_size=5)\n",
    "obs, _ = env.reset()\n",
    "while True:\n",
    "    #obs = obs[np.newaxis, ...]\n",
    "    try:\n",
    "        action, _states = model.predict(obs)\n",
    "        obs, rewards, done, info, state1 = env.step(action)\n",
    "        \n",
    "        if done:\n",
    "            print(\"info\", info)\n",
    "            break\n",
    "    except:\n",
    "        break\n",
    "\n",
    "plt.figure(figsize=(15, 6))\n",
    "plt.cla()\n",
    "env.unwrapped.render_all()\n",
    "plt.show()"
   ]
  },
  {
   "cell_type": "code",
   "execution_count": null,
   "id": "c8f1b10d-b112-480e-8147-52b7e081f790",
   "metadata": {},
   "outputs": [],
   "source": []
  }
 ],
 "metadata": {
  "kernelspec": {
   "display_name": "Python 3 (ipykernel)",
   "language": "python",
   "name": "python3"
  },
  "language_info": {
   "codemirror_mode": {
    "name": "ipython",
    "version": 3
   },
   "file_extension": ".py",
   "mimetype": "text/x-python",
   "name": "python",
   "nbconvert_exporter": "python",
   "pygments_lexer": "ipython3",
   "version": "3.11.7"
  }
 },
 "nbformat": 4,
 "nbformat_minor": 5
}
