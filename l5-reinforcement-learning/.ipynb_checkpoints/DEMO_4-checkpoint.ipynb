{
 "cells": [
  {
   "cell_type": "markdown",
   "id": "37d0b0b3-ea21-486d-bdbe-1b821f0f04d0",
   "metadata": {},
   "source": [
    "# DEMO 4\n",
    "\n",
    "Applying an RL model to a small stock market dataset"
   ]
  },
  {
   "cell_type": "code",
   "execution_count": 6,
   "id": "a81b307b-5438-49e1-a884-9edc8ae89f63",
   "metadata": {},
   "outputs": [],
   "source": [
    "import sys\n",
    "import os\n",
    "\n",
    "# Manually set the path relative to the py file's location that you want to import\n",
    "func_lib_path = os.path.abspath(os.path.join(os.getcwd(), '../'))# Add the path to sys.path\n",
    "sys.path.append(func_lib_path)\n",
    "\n",
    "# Now you can import func_lib\n",
    "import func_lib\n",
    "import random\n",
    "import numpy as np\n",
    "import pandas as pd\n",
    "import gymnasium as gym\n",
    "from collections import defaultdict\n",
    "from gymnasium import spaces\n",
    "import matplotlib.pyplot as plt"
   ]
  },
  {
   "cell_type": "code",
   "execution_count": null,
   "id": "c64b05cc-b7c1-433d-aebd-a7c42e2ea55e",
   "metadata": {},
   "outputs": [],
   "source": []
  }
 ],
 "metadata": {
  "kernelspec": {
   "display_name": "Python 3 (ipykernel)",
   "language": "python",
   "name": "python3"
  },
  "language_info": {
   "codemirror_mode": {
    "name": "ipython",
    "version": 3
   },
   "file_extension": ".py",
   "mimetype": "text/x-python",
   "name": "python",
   "nbconvert_exporter": "python",
   "pygments_lexer": "ipython3",
   "version": "3.12.3"
  }
 },
 "nbformat": 4,
 "nbformat_minor": 5
}
