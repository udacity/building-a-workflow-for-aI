{
 "cells": [
  {
   "cell_type": "markdown",
   "id": "37d0b0b3-ea21-486d-bdbe-1b821f0f04d0",
   "metadata": {},
   "source": [
    "# DEMO 5\n",
    "\n",
    "Applying an RL model to a historical stock market dataset"
   ]
  },
  {
   "cell_type": "code",
   "execution_count": 11,
   "id": "a81b307b-5438-49e1-a884-9edc8ae89f63",
   "metadata": {},
   "outputs": [],
   "source": [
    "import sys\n",
    "import os\n",
    "\n",
    "# Manually set the path relative to the py file's location that you want to import\n",
    "func_lib_path = os.path.abspath(os.path.join(os.getcwd(), '../'))# Add the path to sys.path\n",
    "sys.path.append(func_lib_path)\n",
    "\n",
    "# Now you can import func_lib\n",
    "import func_lib\n",
    "import random\n",
    "import numpy as np\n",
    "import pandas as pd\n",
    "import gymnasium as gym\n",
    "from sklearn.preprocessing import StandardScaler\n",
    "from collections import defaultdict\n",
    "from gymnasium import spaces\n",
    "import matplotlib.pyplot as plt"
   ]
  },
  {
   "cell_type": "code",
   "execution_count": null,
   "id": "d1d938ac-5029-4638-ac4e-146c1723fac4",
   "metadata": {},
   "outputs": [],
   "source": [
    "historical_prices = func_lib.createHistPrices()\n",
    "cutoff_date = pd.to_datetime('2022-10-10')\n",
    "historical_prices= historical_prices[historical_prices.index.get_level_values('Date') >cutoff_date]\n",
    "list_of_momentums = [1, 5, 15, 20]\n",
    "total_returns     = func_lib.computingReturns(historical_prices, list_of_momentums)\n",
    "total_returns.dropna(inplace=True)"
   ]
  }
 ],
 "metadata": {
  "kernelspec": {
   "display_name": "Python 3 (ipykernel)",
   "language": "python",
   "name": "python3"
  },
  "language_info": {
   "codemirror_mode": {
    "name": "ipython",
    "version": 3
   },
   "file_extension": ".py",
   "mimetype": "text/x-python",
   "name": "python",
   "nbconvert_exporter": "python",
   "pygments_lexer": "ipython3",
   "version": "3.12.3"
  }
 },
 "nbformat": 4,
 "nbformat_minor": 5
}
